{
 "cells": [
  {
   "cell_type": "markdown",
   "id": "3b925ab5",
   "metadata": {},
   "source": [
    "# Lead Scoring Case Study"
   ]
  },
  {
   "cell_type": "markdown",
   "id": "4e6ef5f3",
   "metadata": {},
   "source": [
    "An education company named X Education sells online courses to industry professionals. On any given day, many professionals who are interested in the courses land on their website and browse for courses. \n",
    "\n",
    "The company markets its courses on several websites and search engines like Google. Once these people land on the website, they might browse the courses or fill up a form for the course or watch some videos. When these people fill up a form providing their email address or phone number, they are classified to be a lead. Moreover, the company also gets leads through past referrals. Once these leads are acquired, employees from the sales team start making calls, writing emails, etc. Through this process, some of the leads get converted while most do not. The typical lead conversion rate at X education is around 30%. \n",
    "\n",
    "Now, although X Education gets a lot of leads, its lead conversion rate is very poor. For example, if, say, they acquire 100 leads in a day, only about 30 of them are converted. To make this process more efficient, the company wishes to identify the most potential leads, also known as ‘Hot Leads’. If they successfully identify this set of leads, the lead conversion rate should go up as the sales team will now be focusing more on communicating with the potential leads rather than making calls to everyone.\n",
    "\n",
    "A typical lead conversion process can be represented using the following funnel:\n",
    "<img style=\"float: right;\" src=\"https://cdn.upgrad.com/UpGrad/temp/189f213d-fade-4fe4-b506-865f1840a25a/XNote_201901081613670.jpg\">"
   ]
  },
  {
   "cell_type": "markdown",
   "id": "10dd0851",
   "metadata": {},
   "source": [
    "# Importing and Understanding data"
   ]
  },
  {
   "cell_type": "code",
   "execution_count": 1,
   "id": "ca087be3",
   "metadata": {
    "ExecuteTime": {
     "end_time": "2022-01-31T20:18:54.975895Z",
     "start_time": "2022-01-31T20:18:54.967894Z"
    }
   },
   "outputs": [],
   "source": [
    "# Suppress Warnings\n",
    "import warnings\n",
    "warnings.filterwarnings('ignore')"
   ]
  },
  {
   "cell_type": "code",
   "execution_count": 2,
   "id": "0e03daca",
   "metadata": {
    "ExecuteTime": {
     "end_time": "2022-01-31T20:19:00.537738Z",
     "start_time": "2022-01-31T20:18:54.990895Z"
    }
   },
   "outputs": [],
   "source": [
    "# Importing required libraries for now\n",
    "import numpy as np\n",
    "import pandas as pd\n",
    "import matplotlib.pyplot as plt\n",
    "import seaborn as sns"
   ]
  },
  {
   "cell_type": "code",
   "execution_count": 3,
   "id": "9a9852ab",
   "metadata": {
    "ExecuteTime": {
     "end_time": "2022-01-31T20:19:00.553570Z",
     "start_time": "2022-01-31T20:19:00.542570Z"
    }
   },
   "outputs": [],
   "source": [
    "# Display all 37 columns\n",
    "pd.set_option('display.max_columns', 50)"
   ]
  },
  {
   "cell_type": "code",
   "execution_count": 4,
   "id": "2672858a",
   "metadata": {
    "ExecuteTime": {
     "end_time": "2022-01-31T20:19:00.883315Z",
     "start_time": "2022-01-31T20:19:00.559570Z"
    }
   },
   "outputs": [
    {
     "data": {
      "text/html": [
       "<div>\n",
       "<style scoped>\n",
       "    .dataframe tbody tr th:only-of-type {\n",
       "        vertical-align: middle;\n",
       "    }\n",
       "\n",
       "    .dataframe tbody tr th {\n",
       "        vertical-align: top;\n",
       "    }\n",
       "\n",
       "    .dataframe thead th {\n",
       "        text-align: right;\n",
       "    }\n",
       "</style>\n",
       "<table border=\"1\" class=\"dataframe\">\n",
       "  <thead>\n",
       "    <tr style=\"text-align: right;\">\n",
       "      <th></th>\n",
       "      <th>Prospect ID</th>\n",
       "      <th>Lead Number</th>\n",
       "      <th>Lead Origin</th>\n",
       "      <th>Lead Source</th>\n",
       "      <th>Do Not Email</th>\n",
       "      <th>Do Not Call</th>\n",
       "      <th>Converted</th>\n",
       "      <th>TotalVisits</th>\n",
       "      <th>Total Time Spent on Website</th>\n",
       "      <th>Page Views Per Visit</th>\n",
       "      <th>Last Activity</th>\n",
       "      <th>Country</th>\n",
       "      <th>Specialization</th>\n",
       "      <th>How did you hear about X Education</th>\n",
       "      <th>What is your current occupation</th>\n",
       "      <th>What matters most to you in choosing a course</th>\n",
       "      <th>Search</th>\n",
       "      <th>Magazine</th>\n",
       "      <th>Newspaper Article</th>\n",
       "      <th>X Education Forums</th>\n",
       "      <th>Newspaper</th>\n",
       "      <th>Digital Advertisement</th>\n",
       "      <th>Through Recommendations</th>\n",
       "      <th>Receive More Updates About Our Courses</th>\n",
       "      <th>Tags</th>\n",
       "      <th>Lead Quality</th>\n",
       "      <th>Update me on Supply Chain Content</th>\n",
       "      <th>Get updates on DM Content</th>\n",
       "      <th>Lead Profile</th>\n",
       "      <th>City</th>\n",
       "      <th>Asymmetrique Activity Index</th>\n",
       "      <th>Asymmetrique Profile Index</th>\n",
       "      <th>Asymmetrique Activity Score</th>\n",
       "      <th>Asymmetrique Profile Score</th>\n",
       "      <th>I agree to pay the amount through cheque</th>\n",
       "      <th>A free copy of Mastering The Interview</th>\n",
       "      <th>Last Notable Activity</th>\n",
       "    </tr>\n",
       "  </thead>\n",
       "  <tbody>\n",
       "    <tr>\n",
       "      <th>0</th>\n",
       "      <td>7927b2df-8bba-4d29-b9a2-b6e0beafe620</td>\n",
       "      <td>660737</td>\n",
       "      <td>API</td>\n",
       "      <td>Olark Chat</td>\n",
       "      <td>No</td>\n",
       "      <td>No</td>\n",
       "      <td>0</td>\n",
       "      <td>0.0</td>\n",
       "      <td>0</td>\n",
       "      <td>0.0</td>\n",
       "      <td>Page Visited on Website</td>\n",
       "      <td>NaN</td>\n",
       "      <td>Select</td>\n",
       "      <td>Select</td>\n",
       "      <td>Unemployed</td>\n",
       "      <td>Better Career Prospects</td>\n",
       "      <td>No</td>\n",
       "      <td>No</td>\n",
       "      <td>No</td>\n",
       "      <td>No</td>\n",
       "      <td>No</td>\n",
       "      <td>No</td>\n",
       "      <td>No</td>\n",
       "      <td>No</td>\n",
       "      <td>Interested in other courses</td>\n",
       "      <td>Low in Relevance</td>\n",
       "      <td>No</td>\n",
       "      <td>No</td>\n",
       "      <td>Select</td>\n",
       "      <td>Select</td>\n",
       "      <td>02.Medium</td>\n",
       "      <td>02.Medium</td>\n",
       "      <td>15.0</td>\n",
       "      <td>15.0</td>\n",
       "      <td>No</td>\n",
       "      <td>No</td>\n",
       "      <td>Modified</td>\n",
       "    </tr>\n",
       "    <tr>\n",
       "      <th>1</th>\n",
       "      <td>2a272436-5132-4136-86fa-dcc88c88f482</td>\n",
       "      <td>660728</td>\n",
       "      <td>API</td>\n",
       "      <td>Organic Search</td>\n",
       "      <td>No</td>\n",
       "      <td>No</td>\n",
       "      <td>0</td>\n",
       "      <td>5.0</td>\n",
       "      <td>674</td>\n",
       "      <td>2.5</td>\n",
       "      <td>Email Opened</td>\n",
       "      <td>India</td>\n",
       "      <td>Select</td>\n",
       "      <td>Select</td>\n",
       "      <td>Unemployed</td>\n",
       "      <td>Better Career Prospects</td>\n",
       "      <td>No</td>\n",
       "      <td>No</td>\n",
       "      <td>No</td>\n",
       "      <td>No</td>\n",
       "      <td>No</td>\n",
       "      <td>No</td>\n",
       "      <td>No</td>\n",
       "      <td>No</td>\n",
       "      <td>Ringing</td>\n",
       "      <td>NaN</td>\n",
       "      <td>No</td>\n",
       "      <td>No</td>\n",
       "      <td>Select</td>\n",
       "      <td>Select</td>\n",
       "      <td>02.Medium</td>\n",
       "      <td>02.Medium</td>\n",
       "      <td>15.0</td>\n",
       "      <td>15.0</td>\n",
       "      <td>No</td>\n",
       "      <td>No</td>\n",
       "      <td>Email Opened</td>\n",
       "    </tr>\n",
       "    <tr>\n",
       "      <th>2</th>\n",
       "      <td>8cc8c611-a219-4f35-ad23-fdfd2656bd8a</td>\n",
       "      <td>660727</td>\n",
       "      <td>Landing Page Submission</td>\n",
       "      <td>Direct Traffic</td>\n",
       "      <td>No</td>\n",
       "      <td>No</td>\n",
       "      <td>1</td>\n",
       "      <td>2.0</td>\n",
       "      <td>1532</td>\n",
       "      <td>2.0</td>\n",
       "      <td>Email Opened</td>\n",
       "      <td>India</td>\n",
       "      <td>Business Administration</td>\n",
       "      <td>Select</td>\n",
       "      <td>Student</td>\n",
       "      <td>Better Career Prospects</td>\n",
       "      <td>No</td>\n",
       "      <td>No</td>\n",
       "      <td>No</td>\n",
       "      <td>No</td>\n",
       "      <td>No</td>\n",
       "      <td>No</td>\n",
       "      <td>No</td>\n",
       "      <td>No</td>\n",
       "      <td>Will revert after reading the email</td>\n",
       "      <td>Might be</td>\n",
       "      <td>No</td>\n",
       "      <td>No</td>\n",
       "      <td>Potential Lead</td>\n",
       "      <td>Mumbai</td>\n",
       "      <td>02.Medium</td>\n",
       "      <td>01.High</td>\n",
       "      <td>14.0</td>\n",
       "      <td>20.0</td>\n",
       "      <td>No</td>\n",
       "      <td>Yes</td>\n",
       "      <td>Email Opened</td>\n",
       "    </tr>\n",
       "    <tr>\n",
       "      <th>3</th>\n",
       "      <td>0cc2df48-7cf4-4e39-9de9-19797f9b38cc</td>\n",
       "      <td>660719</td>\n",
       "      <td>Landing Page Submission</td>\n",
       "      <td>Direct Traffic</td>\n",
       "      <td>No</td>\n",
       "      <td>No</td>\n",
       "      <td>0</td>\n",
       "      <td>1.0</td>\n",
       "      <td>305</td>\n",
       "      <td>1.0</td>\n",
       "      <td>Unreachable</td>\n",
       "      <td>India</td>\n",
       "      <td>Media and Advertising</td>\n",
       "      <td>Word Of Mouth</td>\n",
       "      <td>Unemployed</td>\n",
       "      <td>Better Career Prospects</td>\n",
       "      <td>No</td>\n",
       "      <td>No</td>\n",
       "      <td>No</td>\n",
       "      <td>No</td>\n",
       "      <td>No</td>\n",
       "      <td>No</td>\n",
       "      <td>No</td>\n",
       "      <td>No</td>\n",
       "      <td>Ringing</td>\n",
       "      <td>Not Sure</td>\n",
       "      <td>No</td>\n",
       "      <td>No</td>\n",
       "      <td>Select</td>\n",
       "      <td>Mumbai</td>\n",
       "      <td>02.Medium</td>\n",
       "      <td>01.High</td>\n",
       "      <td>13.0</td>\n",
       "      <td>17.0</td>\n",
       "      <td>No</td>\n",
       "      <td>No</td>\n",
       "      <td>Modified</td>\n",
       "    </tr>\n",
       "  </tbody>\n",
       "</table>\n",
       "</div>"
      ],
      "text/plain": [
       "                            Prospect ID  Lead Number              Lead Origin  \\\n",
       "0  7927b2df-8bba-4d29-b9a2-b6e0beafe620       660737                      API   \n",
       "1  2a272436-5132-4136-86fa-dcc88c88f482       660728                      API   \n",
       "2  8cc8c611-a219-4f35-ad23-fdfd2656bd8a       660727  Landing Page Submission   \n",
       "3  0cc2df48-7cf4-4e39-9de9-19797f9b38cc       660719  Landing Page Submission   \n",
       "\n",
       "      Lead Source Do Not Email Do Not Call  Converted  TotalVisits  \\\n",
       "0      Olark Chat           No          No          0          0.0   \n",
       "1  Organic Search           No          No          0          5.0   \n",
       "2  Direct Traffic           No          No          1          2.0   \n",
       "3  Direct Traffic           No          No          0          1.0   \n",
       "\n",
       "   Total Time Spent on Website  Page Views Per Visit            Last Activity  \\\n",
       "0                            0                   0.0  Page Visited on Website   \n",
       "1                          674                   2.5             Email Opened   \n",
       "2                         1532                   2.0             Email Opened   \n",
       "3                          305                   1.0              Unreachable   \n",
       "\n",
       "  Country           Specialization How did you hear about X Education  \\\n",
       "0     NaN                   Select                             Select   \n",
       "1   India                   Select                             Select   \n",
       "2   India  Business Administration                             Select   \n",
       "3   India    Media and Advertising                      Word Of Mouth   \n",
       "\n",
       "  What is your current occupation  \\\n",
       "0                      Unemployed   \n",
       "1                      Unemployed   \n",
       "2                         Student   \n",
       "3                      Unemployed   \n",
       "\n",
       "  What matters most to you in choosing a course Search Magazine  \\\n",
       "0                       Better Career Prospects     No       No   \n",
       "1                       Better Career Prospects     No       No   \n",
       "2                       Better Career Prospects     No       No   \n",
       "3                       Better Career Prospects     No       No   \n",
       "\n",
       "  Newspaper Article X Education Forums Newspaper Digital Advertisement  \\\n",
       "0                No                 No        No                    No   \n",
       "1                No                 No        No                    No   \n",
       "2                No                 No        No                    No   \n",
       "3                No                 No        No                    No   \n",
       "\n",
       "  Through Recommendations Receive More Updates About Our Courses  \\\n",
       "0                      No                                     No   \n",
       "1                      No                                     No   \n",
       "2                      No                                     No   \n",
       "3                      No                                     No   \n",
       "\n",
       "                                  Tags      Lead Quality  \\\n",
       "0          Interested in other courses  Low in Relevance   \n",
       "1                              Ringing               NaN   \n",
       "2  Will revert after reading the email          Might be   \n",
       "3                              Ringing          Not Sure   \n",
       "\n",
       "  Update me on Supply Chain Content Get updates on DM Content    Lead Profile  \\\n",
       "0                                No                        No          Select   \n",
       "1                                No                        No          Select   \n",
       "2                                No                        No  Potential Lead   \n",
       "3                                No                        No          Select   \n",
       "\n",
       "     City Asymmetrique Activity Index Asymmetrique Profile Index  \\\n",
       "0  Select                   02.Medium                  02.Medium   \n",
       "1  Select                   02.Medium                  02.Medium   \n",
       "2  Mumbai                   02.Medium                    01.High   \n",
       "3  Mumbai                   02.Medium                    01.High   \n",
       "\n",
       "   Asymmetrique Activity Score  Asymmetrique Profile Score  \\\n",
       "0                         15.0                        15.0   \n",
       "1                         15.0                        15.0   \n",
       "2                         14.0                        20.0   \n",
       "3                         13.0                        17.0   \n",
       "\n",
       "  I agree to pay the amount through cheque  \\\n",
       "0                                       No   \n",
       "1                                       No   \n",
       "2                                       No   \n",
       "3                                       No   \n",
       "\n",
       "  A free copy of Mastering The Interview Last Notable Activity  \n",
       "0                                     No              Modified  \n",
       "1                                     No          Email Opened  \n",
       "2                                    Yes          Email Opened  \n",
       "3                                     No              Modified  "
      ]
     },
     "execution_count": 4,
     "metadata": {},
     "output_type": "execute_result"
    }
   ],
   "source": [
    "# Importing Lead dataset\n",
    "df = pd.read_csv(\"Leads.csv\")\n",
    "df.head(4)"
   ]
  },
  {
   "cell_type": "code",
   "execution_count": 5,
   "id": "a0bc7827",
   "metadata": {
    "ExecuteTime": {
     "end_time": "2022-01-31T20:19:00.913998Z",
     "start_time": "2022-01-31T20:19:00.889692Z"
    }
   },
   "outputs": [
    {
     "data": {
      "text/plain": [
       "(9240, 37)"
      ]
     },
     "execution_count": 5,
     "metadata": {},
     "output_type": "execute_result"
    }
   ],
   "source": [
    "# Check shape of the dataframe 'df'\n",
    "df.shape"
   ]
  },
  {
   "cell_type": "code",
   "execution_count": 6,
   "id": "fd1e1f88",
   "metadata": {
    "ExecuteTime": {
     "end_time": "2022-01-31T20:19:01.022116Z",
     "start_time": "2022-01-31T20:19:00.917997Z"
    }
   },
   "outputs": [
    {
     "data": {
      "text/html": [
       "<div>\n",
       "<style scoped>\n",
       "    .dataframe tbody tr th:only-of-type {\n",
       "        vertical-align: middle;\n",
       "    }\n",
       "\n",
       "    .dataframe tbody tr th {\n",
       "        vertical-align: top;\n",
       "    }\n",
       "\n",
       "    .dataframe thead th {\n",
       "        text-align: right;\n",
       "    }\n",
       "</style>\n",
       "<table border=\"1\" class=\"dataframe\">\n",
       "  <thead>\n",
       "    <tr style=\"text-align: right;\">\n",
       "      <th></th>\n",
       "      <th>Lead Number</th>\n",
       "      <th>Converted</th>\n",
       "      <th>TotalVisits</th>\n",
       "      <th>Total Time Spent on Website</th>\n",
       "      <th>Page Views Per Visit</th>\n",
       "      <th>Asymmetrique Activity Score</th>\n",
       "      <th>Asymmetrique Profile Score</th>\n",
       "    </tr>\n",
       "  </thead>\n",
       "  <tbody>\n",
       "    <tr>\n",
       "      <th>count</th>\n",
       "      <td>9240.000000</td>\n",
       "      <td>9240.000000</td>\n",
       "      <td>9103.000000</td>\n",
       "      <td>9240.000000</td>\n",
       "      <td>9103.000000</td>\n",
       "      <td>5022.000000</td>\n",
       "      <td>5022.000000</td>\n",
       "    </tr>\n",
       "    <tr>\n",
       "      <th>mean</th>\n",
       "      <td>617188.435606</td>\n",
       "      <td>0.385390</td>\n",
       "      <td>3.445238</td>\n",
       "      <td>487.698268</td>\n",
       "      <td>2.362820</td>\n",
       "      <td>14.306252</td>\n",
       "      <td>16.344883</td>\n",
       "    </tr>\n",
       "    <tr>\n",
       "      <th>std</th>\n",
       "      <td>23405.995698</td>\n",
       "      <td>0.486714</td>\n",
       "      <td>4.854853</td>\n",
       "      <td>548.021466</td>\n",
       "      <td>2.161418</td>\n",
       "      <td>1.386694</td>\n",
       "      <td>1.811395</td>\n",
       "    </tr>\n",
       "    <tr>\n",
       "      <th>min</th>\n",
       "      <td>579533.000000</td>\n",
       "      <td>0.000000</td>\n",
       "      <td>0.000000</td>\n",
       "      <td>0.000000</td>\n",
       "      <td>0.000000</td>\n",
       "      <td>7.000000</td>\n",
       "      <td>11.000000</td>\n",
       "    </tr>\n",
       "    <tr>\n",
       "      <th>25%</th>\n",
       "      <td>596484.500000</td>\n",
       "      <td>0.000000</td>\n",
       "      <td>1.000000</td>\n",
       "      <td>12.000000</td>\n",
       "      <td>1.000000</td>\n",
       "      <td>14.000000</td>\n",
       "      <td>15.000000</td>\n",
       "    </tr>\n",
       "    <tr>\n",
       "      <th>50%</th>\n",
       "      <td>615479.000000</td>\n",
       "      <td>0.000000</td>\n",
       "      <td>3.000000</td>\n",
       "      <td>248.000000</td>\n",
       "      <td>2.000000</td>\n",
       "      <td>14.000000</td>\n",
       "      <td>16.000000</td>\n",
       "    </tr>\n",
       "    <tr>\n",
       "      <th>75%</th>\n",
       "      <td>637387.250000</td>\n",
       "      <td>1.000000</td>\n",
       "      <td>5.000000</td>\n",
       "      <td>936.000000</td>\n",
       "      <td>3.000000</td>\n",
       "      <td>15.000000</td>\n",
       "      <td>18.000000</td>\n",
       "    </tr>\n",
       "    <tr>\n",
       "      <th>max</th>\n",
       "      <td>660737.000000</td>\n",
       "      <td>1.000000</td>\n",
       "      <td>251.000000</td>\n",
       "      <td>2272.000000</td>\n",
       "      <td>55.000000</td>\n",
       "      <td>18.000000</td>\n",
       "      <td>20.000000</td>\n",
       "    </tr>\n",
       "  </tbody>\n",
       "</table>\n",
       "</div>"
      ],
      "text/plain": [
       "         Lead Number    Converted  TotalVisits  Total Time Spent on Website  \\\n",
       "count    9240.000000  9240.000000  9103.000000                  9240.000000   \n",
       "mean   617188.435606     0.385390     3.445238                   487.698268   \n",
       "std     23405.995698     0.486714     4.854853                   548.021466   \n",
       "min    579533.000000     0.000000     0.000000                     0.000000   \n",
       "25%    596484.500000     0.000000     1.000000                    12.000000   \n",
       "50%    615479.000000     0.000000     3.000000                   248.000000   \n",
       "75%    637387.250000     1.000000     5.000000                   936.000000   \n",
       "max    660737.000000     1.000000   251.000000                  2272.000000   \n",
       "\n",
       "       Page Views Per Visit  Asymmetrique Activity Score  \\\n",
       "count           9103.000000                  5022.000000   \n",
       "mean               2.362820                    14.306252   \n",
       "std                2.161418                     1.386694   \n",
       "min                0.000000                     7.000000   \n",
       "25%                1.000000                    14.000000   \n",
       "50%                2.000000                    14.000000   \n",
       "75%                3.000000                    15.000000   \n",
       "max               55.000000                    18.000000   \n",
       "\n",
       "       Asymmetrique Profile Score  \n",
       "count                 5022.000000  \n",
       "mean                    16.344883  \n",
       "std                      1.811395  \n",
       "min                     11.000000  \n",
       "25%                     15.000000  \n",
       "50%                     16.000000  \n",
       "75%                     18.000000  \n",
       "max                     20.000000  "
      ]
     },
     "execution_count": 6,
     "metadata": {},
     "output_type": "execute_result"
    }
   ],
   "source": [
    "# Check the summary statistics of the dataframe 'df'\n",
    "df.describe()"
   ]
  },
  {
   "cell_type": "code",
   "execution_count": 7,
   "id": "96129080",
   "metadata": {
    "ExecuteTime": {
     "end_time": "2022-01-31T20:19:01.114997Z",
     "start_time": "2022-01-31T20:19:01.026996Z"
    }
   },
   "outputs": [
    {
     "name": "stdout",
     "output_type": "stream",
     "text": [
      "<class 'pandas.core.frame.DataFrame'>\n",
      "RangeIndex: 9240 entries, 0 to 9239\n",
      "Data columns (total 37 columns):\n",
      " #   Column                                         Non-Null Count  Dtype  \n",
      "---  ------                                         --------------  -----  \n",
      " 0   Prospect ID                                    9240 non-null   object \n",
      " 1   Lead Number                                    9240 non-null   int64  \n",
      " 2   Lead Origin                                    9240 non-null   object \n",
      " 3   Lead Source                                    9204 non-null   object \n",
      " 4   Do Not Email                                   9240 non-null   object \n",
      " 5   Do Not Call                                    9240 non-null   object \n",
      " 6   Converted                                      9240 non-null   int64  \n",
      " 7   TotalVisits                                    9103 non-null   float64\n",
      " 8   Total Time Spent on Website                    9240 non-null   int64  \n",
      " 9   Page Views Per Visit                           9103 non-null   float64\n",
      " 10  Last Activity                                  9137 non-null   object \n",
      " 11  Country                                        6779 non-null   object \n",
      " 12  Specialization                                 7802 non-null   object \n",
      " 13  How did you hear about X Education             7033 non-null   object \n",
      " 14  What is your current occupation                6550 non-null   object \n",
      " 15  What matters most to you in choosing a course  6531 non-null   object \n",
      " 16  Search                                         9240 non-null   object \n",
      " 17  Magazine                                       9240 non-null   object \n",
      " 18  Newspaper Article                              9240 non-null   object \n",
      " 19  X Education Forums                             9240 non-null   object \n",
      " 20  Newspaper                                      9240 non-null   object \n",
      " 21  Digital Advertisement                          9240 non-null   object \n",
      " 22  Through Recommendations                        9240 non-null   object \n",
      " 23  Receive More Updates About Our Courses         9240 non-null   object \n",
      " 24  Tags                                           5887 non-null   object \n",
      " 25  Lead Quality                                   4473 non-null   object \n",
      " 26  Update me on Supply Chain Content              9240 non-null   object \n",
      " 27  Get updates on DM Content                      9240 non-null   object \n",
      " 28  Lead Profile                                   6531 non-null   object \n",
      " 29  City                                           7820 non-null   object \n",
      " 30  Asymmetrique Activity Index                    5022 non-null   object \n",
      " 31  Asymmetrique Profile Index                     5022 non-null   object \n",
      " 32  Asymmetrique Activity Score                    5022 non-null   float64\n",
      " 33  Asymmetrique Profile Score                     5022 non-null   float64\n",
      " 34  I agree to pay the amount through cheque       9240 non-null   object \n",
      " 35  A free copy of Mastering The Interview         9240 non-null   object \n",
      " 36  Last Notable Activity                          9240 non-null   object \n",
      "dtypes: float64(4), int64(3), object(30)\n",
      "memory usage: 2.6+ MB\n"
     ]
    }
   ],
   "source": [
    "# Check column data types and nullability\n",
    "df.info()"
   ]
  },
  {
   "cell_type": "markdown",
   "id": "42d339cf",
   "metadata": {},
   "source": [
    "# Data Cleaning"
   ]
  },
  {
   "cell_type": "markdown",
   "id": "d3f9a5b8",
   "metadata": {},
   "source": [
    "## Handling NULL data"
   ]
  },
  {
   "cell_type": "code",
   "execution_count": 8,
   "id": "f6fc65c3",
   "metadata": {
    "ExecuteTime": {
     "end_time": "2022-01-31T20:19:01.177381Z",
     "start_time": "2022-01-31T20:19:01.119399Z"
    }
   },
   "outputs": [
    {
     "data": {
      "text/plain": [
       "Lead Quality                                     4767\n",
       "Asymmetrique Activity Index                      4218\n",
       "Asymmetrique Profile Score                       4218\n",
       "Asymmetrique Activity Score                      4218\n",
       "Asymmetrique Profile Index                       4218\n",
       "Tags                                             3353\n",
       "Lead Profile                                     2709\n",
       "What matters most to you in choosing a course    2709\n",
       "What is your current occupation                  2690\n",
       "Country                                          2461\n",
       "How did you hear about X Education               2207\n",
       "Specialization                                   1438\n",
       "City                                             1420\n",
       "Page Views Per Visit                              137\n",
       "TotalVisits                                       137\n",
       "Last Activity                                     103\n",
       "Lead Source                                        36\n",
       "Receive More Updates About Our Courses              0\n",
       "I agree to pay the amount through cheque            0\n",
       "Get updates on DM Content                           0\n",
       "Update me on Supply Chain Content                   0\n",
       "A free copy of Mastering The Interview              0\n",
       "Prospect ID                                         0\n",
       "Newspaper Article                                   0\n",
       "Through Recommendations                             0\n",
       "Digital Advertisement                               0\n",
       "Newspaper                                           0\n",
       "X Education Forums                                  0\n",
       "Lead Number                                         0\n",
       "Magazine                                            0\n",
       "Search                                              0\n",
       "Total Time Spent on Website                         0\n",
       "Converted                                           0\n",
       "Do Not Call                                         0\n",
       "Do Not Email                                        0\n",
       "Lead Origin                                         0\n",
       "Last Notable Activity                               0\n",
       "dtype: int64"
      ]
     },
     "execution_count": 8,
     "metadata": {},
     "output_type": "execute_result"
    }
   ],
   "source": [
    "df.isnull().sum().sort_values(ascending=False)"
   ]
  },
  {
   "cell_type": "markdown",
   "id": "1fcee016",
   "metadata": {},
   "source": [
    "### Dropping columns with NULL values above 3000 (~32%)"
   ]
  },
  {
   "cell_type": "code",
   "execution_count": 9,
   "id": "2951ff52",
   "metadata": {
    "ExecuteTime": {
     "end_time": "2022-01-31T20:19:01.272149Z",
     "start_time": "2022-01-31T20:19:01.184992Z"
    }
   },
   "outputs": [
    {
     "name": "stdout",
     "output_type": "stream",
     "text": [
      "Tags 3353\n",
      "Lead Quality 4767\n",
      "Asymmetrique Activity Index 4218\n",
      "Asymmetrique Profile Index 4218\n",
      "Asymmetrique Activity Score 4218\n",
      "Asymmetrique Profile Score 4218\n"
     ]
    }
   ],
   "source": [
    "# Printing the list of columns that need to be removed\n",
    "for col in df.columns:\n",
    "    if df[col].isnull().sum() > 3000:\n",
    "        print(col, df[col].isnull().sum())"
   ]
  },
  {
   "cell_type": "code",
   "execution_count": 10,
   "id": "6bd5672f",
   "metadata": {
    "ExecuteTime": {
     "end_time": "2022-01-31T20:19:01.397267Z",
     "start_time": "2022-01-31T20:19:01.277996Z"
    }
   },
   "outputs": [],
   "source": [
    "for col in df.columns:\n",
    "    if df[col].isnull().sum() > 3000:\n",
    "        df.drop(col, axis=1, inplace=True)"
   ]
  },
  {
   "cell_type": "code",
   "execution_count": 11,
   "id": "c417d508",
   "metadata": {
    "ExecuteTime": {
     "end_time": "2022-01-31T20:19:01.413269Z",
     "start_time": "2022-01-31T20:19:01.402483Z"
    }
   },
   "outputs": [
    {
     "data": {
      "text/plain": [
       "(9240, 31)"
      ]
     },
     "execution_count": 11,
     "metadata": {},
     "output_type": "execute_result"
    }
   ],
   "source": [
    "# Checking if the shape has changed post column removal\n",
    "df.shape"
   ]
  },
  {
   "cell_type": "markdown",
   "id": "7225e85c",
   "metadata": {},
   "source": [
    "We can see that ***6*** columns have been removed from `df`"
   ]
  },
  {
   "cell_type": "markdown",
   "id": "8549c351",
   "metadata": {},
   "source": [
    "## Removing unnecessary columns"
   ]
  },
  {
   "cell_type": "markdown",
   "id": "46fd838e",
   "metadata": {},
   "source": [
    "As the company sells online courses, it doesn't really matter which country or city the students are from. So, both `City` and `Country` columns are not necessary for this analysis and hence we will be removing them from the dataframe \"df\""
   ]
  },
  {
   "cell_type": "code",
   "execution_count": 12,
   "id": "4b9ad3b5",
   "metadata": {
    "ExecuteTime": {
     "end_time": "2022-01-31T20:19:01.444266Z",
     "start_time": "2022-01-31T20:19:01.417270Z"
    }
   },
   "outputs": [],
   "source": [
    "df.drop(['Country','City'], axis=1, inplace=True)"
   ]
  },
  {
   "cell_type": "code",
   "execution_count": 13,
   "id": "da82620f",
   "metadata": {
    "ExecuteTime": {
     "end_time": "2022-01-31T20:19:01.460378Z",
     "start_time": "2022-01-31T20:19:01.448269Z"
    }
   },
   "outputs": [
    {
     "data": {
      "text/plain": [
       "(9240, 29)"
      ]
     },
     "execution_count": 13,
     "metadata": {},
     "output_type": "execute_result"
    }
   ],
   "source": [
    "df.shape"
   ]
  },
  {
   "cell_type": "markdown",
   "id": "8e188dae",
   "metadata": {},
   "source": [
    "City and Country columns have been removed from \"df\""
   ]
  },
  {
   "cell_type": "markdown",
   "id": "7c0168af",
   "metadata": {},
   "source": [
    "We will also remove the columns `Prospect ID` and `Lead Number` as these are simply unique identifiers for the customers and lead. Due to this, they will not provide any value addition to our model"
   ]
  },
  {
   "cell_type": "code",
   "execution_count": 14,
   "id": "8b39957b",
   "metadata": {
    "ExecuteTime": {
     "end_time": "2022-01-31T20:19:01.492268Z",
     "start_time": "2022-01-31T20:19:01.465725Z"
    }
   },
   "outputs": [],
   "source": [
    "df.drop(['Prospect ID','Lead Number'], axis=1, inplace=True)"
   ]
  },
  {
   "cell_type": "code",
   "execution_count": 15,
   "id": "640961f5",
   "metadata": {
    "ExecuteTime": {
     "end_time": "2022-01-31T20:19:01.507608Z",
     "start_time": "2022-01-31T20:19:01.496269Z"
    }
   },
   "outputs": [
    {
     "data": {
      "text/plain": [
       "(9240, 27)"
      ]
     },
     "execution_count": 15,
     "metadata": {},
     "output_type": "execute_result"
    }
   ],
   "source": [
    "df.shape"
   ]
  },
  {
   "cell_type": "markdown",
   "id": "bf11237c",
   "metadata": {},
   "source": [
    "## Handling columns with less variance & columns with large values of 'select'"
   ]
  },
  {
   "cell_type": "markdown",
   "id": "57002ab5",
   "metadata": {},
   "source": [
    "- There are columns where the variance is very less (i.e. most of the values are either Yes/No). In such cases, the model will not be able to provide any useful results because there is no learning for the model. We will remove these columns from `df`.\n",
    "- Additionally, there are columns where large portion of the data is having the value 'select'. This means that the user did not select any value for the field. We will check and remove such columns as well from `df`."
   ]
  },
  {
   "cell_type": "code",
   "execution_count": 16,
   "id": "0744358b",
   "metadata": {
    "ExecuteTime": {
     "end_time": "2022-01-31T20:19:01.757176Z",
     "start_time": "2022-01-31T20:19:01.515533Z"
    }
   },
   "outputs": [
    {
     "name": "stdout",
     "output_type": "stream",
     "text": [
      "Landing Page Submission    4886\n",
      "API                        3580\n",
      "Lead Add Form               718\n",
      "Lead Import                  55\n",
      "Quick Add Form                1\n",
      "Name: Lead Origin, dtype: int64\n",
      "\n",
      "\n",
      "--------------------------------------------------------------------------\n",
      "\n",
      "\n",
      "Google               2868\n",
      "Direct Traffic       2543\n",
      "Olark Chat           1755\n",
      "Organic Search       1154\n",
      "Reference             534\n",
      "Welingak Website      142\n",
      "Referral Sites        125\n",
      "Facebook               55\n",
      "bing                    6\n",
      "google                  5\n",
      "Click2call              4\n",
      "Press_Release           2\n",
      "Social Media            2\n",
      "Live Chat               2\n",
      "WeLearn                 1\n",
      "Pay per Click Ads       1\n",
      "NC_EDM                  1\n",
      "blog                    1\n",
      "testone                 1\n",
      "welearnblog_Home        1\n",
      "youtubechannel          1\n",
      "Name: Lead Source, dtype: int64\n",
      "\n",
      "\n",
      "--------------------------------------------------------------------------\n",
      "\n",
      "\n",
      "No     8506\n",
      "Yes     734\n",
      "Name: Do Not Email, dtype: int64\n",
      "\n",
      "\n",
      "--------------------------------------------------------------------------\n",
      "\n",
      "\n",
      "No     9238\n",
      "Yes       2\n",
      "Name: Do Not Call, dtype: int64\n",
      "\n",
      "\n",
      "--------------------------------------------------------------------------\n",
      "\n",
      "\n",
      "0    5679\n",
      "1    3561\n",
      "Name: Converted, dtype: int64\n",
      "\n",
      "\n",
      "--------------------------------------------------------------------------\n",
      "\n",
      "\n",
      "0.0      2189\n",
      "2.0      1680\n",
      "3.0      1306\n",
      "4.0      1120\n",
      "5.0       783\n",
      "6.0       466\n",
      "1.0       395\n",
      "7.0       309\n",
      "8.0       224\n",
      "9.0       164\n",
      "10.0      114\n",
      "11.0       86\n",
      "13.0       48\n",
      "12.0       45\n",
      "14.0       36\n",
      "16.0       21\n",
      "15.0       18\n",
      "17.0       16\n",
      "18.0       15\n",
      "20.0       12\n",
      "19.0        9\n",
      "23.0        6\n",
      "21.0        6\n",
      "24.0        5\n",
      "25.0        5\n",
      "27.0        5\n",
      "22.0        3\n",
      "26.0        2\n",
      "28.0        2\n",
      "29.0        2\n",
      "54.0        1\n",
      "141.0       1\n",
      "115.0       1\n",
      "74.0        1\n",
      "55.0        1\n",
      "30.0        1\n",
      "43.0        1\n",
      "42.0        1\n",
      "41.0        1\n",
      "32.0        1\n",
      "251.0       1\n",
      "Name: TotalVisits, dtype: int64\n",
      "\n",
      "\n",
      "--------------------------------------------------------------------------\n",
      "\n",
      "\n",
      "0       2193\n",
      "60        19\n",
      "75        18\n",
      "74        18\n",
      "127       18\n",
      "        ... \n",
      "1091       1\n",
      "1088       1\n",
      "1085       1\n",
      "1084       1\n",
      "2272       1\n",
      "Name: Total Time Spent on Website, Length: 1731, dtype: int64\n",
      "\n",
      "\n",
      "--------------------------------------------------------------------------\n",
      "\n",
      "\n",
      "0.0     2189\n",
      "2.0     1795\n",
      "3.0     1196\n",
      "4.0      896\n",
      "1.0      651\n",
      "        ... \n",
      "3.57       1\n",
      "3.8        1\n",
      "3.82       1\n",
      "3.83       1\n",
      "55.0       1\n",
      "Name: Page Views Per Visit, Length: 114, dtype: int64\n",
      "\n",
      "\n",
      "--------------------------------------------------------------------------\n",
      "\n",
      "\n",
      "Email Opened                    3437\n",
      "SMS Sent                        2745\n",
      "Olark Chat Conversation          973\n",
      "Page Visited on Website          640\n",
      "Converted to Lead                428\n",
      "Email Bounced                    326\n",
      "Email Link Clicked               267\n",
      "Form Submitted on Website        116\n",
      "Unreachable                       93\n",
      "Unsubscribed                      61\n",
      "Had a Phone Conversation          30\n",
      "Approached upfront                 9\n",
      "View in browser link Clicked       6\n",
      "Email Received                     2\n",
      "Email Marked Spam                  2\n",
      "Resubscribed to emails             1\n",
      "Visited Booth in Tradeshow         1\n",
      "Name: Last Activity, dtype: int64\n",
      "\n",
      "\n",
      "--------------------------------------------------------------------------\n",
      "\n",
      "\n",
      "Select                               1942\n",
      "Finance Management                    976\n",
      "Human Resource Management             848\n",
      "Marketing Management                  838\n",
      "Operations Management                 503\n",
      "Business Administration               403\n",
      "IT Projects Management                366\n",
      "Supply Chain Management               349\n",
      "Banking, Investment And Insurance     338\n",
      "Media and Advertising                 203\n",
      "Travel and Tourism                    203\n",
      "International Business                178\n",
      "Healthcare Management                 159\n",
      "Hospitality Management                114\n",
      "E-COMMERCE                            112\n",
      "Retail Management                     100\n",
      "Rural and Agribusiness                 73\n",
      "E-Business                             57\n",
      "Services Excellence                    40\n",
      "Name: Specialization, dtype: int64\n",
      "\n",
      "\n",
      "--------------------------------------------------------------------------\n",
      "\n",
      "\n",
      "Select                   5043\n",
      "Online Search             808\n",
      "Word Of Mouth             348\n",
      "Student of SomeSchool     310\n",
      "Other                     186\n",
      "Multiple Sources          152\n",
      "Advertisements             70\n",
      "Social Media               67\n",
      "Email                      26\n",
      "SMS                        23\n",
      "Name: How did you hear about X Education, dtype: int64\n",
      "\n",
      "\n",
      "--------------------------------------------------------------------------\n",
      "\n",
      "\n",
      "Unemployed              5600\n",
      "Working Professional     706\n",
      "Student                  210\n",
      "Other                     16\n",
      "Housewife                 10\n",
      "Businessman                8\n",
      "Name: What is your current occupation, dtype: int64\n",
      "\n",
      "\n",
      "--------------------------------------------------------------------------\n",
      "\n",
      "\n",
      "Better Career Prospects      6528\n",
      "Flexibility & Convenience       2\n",
      "Other                           1\n",
      "Name: What matters most to you in choosing a course, dtype: int64\n",
      "\n",
      "\n",
      "--------------------------------------------------------------------------\n",
      "\n",
      "\n",
      "No     9226\n",
      "Yes      14\n",
      "Name: Search, dtype: int64\n",
      "\n",
      "\n",
      "--------------------------------------------------------------------------\n",
      "\n",
      "\n",
      "No    9240\n",
      "Name: Magazine, dtype: int64\n",
      "\n",
      "\n",
      "--------------------------------------------------------------------------\n",
      "\n",
      "\n",
      "No     9238\n",
      "Yes       2\n",
      "Name: Newspaper Article, dtype: int64\n",
      "\n",
      "\n",
      "--------------------------------------------------------------------------\n",
      "\n",
      "\n",
      "No     9239\n",
      "Yes       1\n",
      "Name: X Education Forums, dtype: int64\n",
      "\n",
      "\n",
      "--------------------------------------------------------------------------\n",
      "\n",
      "\n",
      "No     9239\n",
      "Yes       1\n",
      "Name: Newspaper, dtype: int64\n",
      "\n",
      "\n",
      "--------------------------------------------------------------------------\n",
      "\n",
      "\n",
      "No     9236\n",
      "Yes       4\n",
      "Name: Digital Advertisement, dtype: int64\n",
      "\n",
      "\n",
      "--------------------------------------------------------------------------\n",
      "\n",
      "\n",
      "No     9233\n",
      "Yes       7\n",
      "Name: Through Recommendations, dtype: int64\n",
      "\n",
      "\n",
      "--------------------------------------------------------------------------\n",
      "\n",
      "\n",
      "No    9240\n",
      "Name: Receive More Updates About Our Courses, dtype: int64\n",
      "\n",
      "\n",
      "--------------------------------------------------------------------------\n",
      "\n",
      "\n",
      "No    9240\n",
      "Name: Update me on Supply Chain Content, dtype: int64\n",
      "\n",
      "\n",
      "--------------------------------------------------------------------------\n",
      "\n",
      "\n",
      "No    9240\n",
      "Name: Get updates on DM Content, dtype: int64\n",
      "\n",
      "\n",
      "--------------------------------------------------------------------------\n",
      "\n",
      "\n",
      "Select                         4146\n",
      "Potential Lead                 1613\n",
      "Other Leads                     487\n",
      "Student of SomeSchool           241\n",
      "Lateral Student                  24\n",
      "Dual Specialization Student      20\n",
      "Name: Lead Profile, dtype: int64\n",
      "\n",
      "\n",
      "--------------------------------------------------------------------------\n",
      "\n",
      "\n",
      "No    9240\n",
      "Name: I agree to pay the amount through cheque, dtype: int64\n",
      "\n",
      "\n",
      "--------------------------------------------------------------------------\n",
      "\n",
      "\n",
      "No     6352\n",
      "Yes    2888\n",
      "Name: A free copy of Mastering The Interview, dtype: int64\n",
      "\n",
      "\n",
      "--------------------------------------------------------------------------\n",
      "\n",
      "\n",
      "Modified                        3407\n",
      "Email Opened                    2827\n",
      "SMS Sent                        2172\n",
      "Page Visited on Website          318\n",
      "Olark Chat Conversation          183\n",
      "Email Link Clicked               173\n",
      "Email Bounced                     60\n",
      "Unsubscribed                      47\n",
      "Unreachable                       32\n",
      "Had a Phone Conversation          14\n",
      "Email Marked Spam                  2\n",
      "Approached upfront                 1\n",
      "Email Received                     1\n",
      "Form Submitted on Website          1\n",
      "Resubscribed to emails             1\n",
      "View in browser link Clicked       1\n",
      "Name: Last Notable Activity, dtype: int64\n",
      "\n",
      "\n",
      "--------------------------------------------------------------------------\n",
      "\n",
      "\n"
     ]
    }
   ],
   "source": [
    "# Checking distinct values for each column\n",
    "for x in df.columns:\n",
    "    print(df[x].astype('category').value_counts())\n",
    "    print(\"\\n\\n--------------------------------------------------------------------------\\n\\n\")"
   ]
  },
  {
   "cell_type": "markdown",
   "id": "cb9b645c",
   "metadata": {},
   "source": [
    "After going through the above results manually, we will be dropping the following columns based on the two criterion mentioned below:\n",
    "\n",
    "**Below columns with very less variance should be dropped**\n",
    "- 'Do Not Call','What matters most to you in choosing a course','Search','Magazine','Newspaper Article','X Education Forums','Newspaper','Digital Advertisement','Through Recommendations','Receive More Updates About Our Courses','Update me on Supply Chain Content','Get updates on DM Content','I agree to pay the amount through cheque'\n",
    "                \n",
    "**Below columns have >= 50% \"select\" values and they should be dropped**\n",
    "- 'How did you hear about X Education','Lead Profile'"
   ]
  },
  {
   "cell_type": "code",
   "execution_count": 17,
   "id": "17c595bc",
   "metadata": {
    "ExecuteTime": {
     "end_time": "2022-01-31T20:19:01.772258Z",
     "start_time": "2022-01-31T20:19:01.761259Z"
    }
   },
   "outputs": [],
   "source": [
    "# Adding the to-be dropped columns to a list\n",
    "drop_cols_var = ['Do Not Call','What matters most to you in choosing a course','Search','Magazine','Newspaper Article',\n",
    "                'X Education Forums','Newspaper','Digital Advertisement','Through Recommendations','Receive More Updates About Our Courses',\n",
    "                'Update me on Supply Chain Content','Get updates on DM Content','I agree to pay the amount through cheque']\n",
    "drop_cols_select = ['How did you hear about X Education','Lead Profile']"
   ]
  },
  {
   "cell_type": "code",
   "execution_count": 18,
   "id": "9e5b6ef6",
   "metadata": {
    "ExecuteTime": {
     "end_time": "2022-01-31T20:19:01.787257Z",
     "start_time": "2022-01-31T20:19:01.780261Z"
    }
   },
   "outputs": [
    {
     "name": "stdout",
     "output_type": "stream",
     "text": [
      "13\n",
      "2\n"
     ]
    }
   ],
   "source": [
    "print(len(drop_cols_var))\n",
    "print(len(drop_cols_select))"
   ]
  },
  {
   "cell_type": "markdown",
   "id": "90d9c2ec",
   "metadata": {},
   "source": [
    "Total columns to be dropped are ***15***"
   ]
  },
  {
   "cell_type": "code",
   "execution_count": 19,
   "id": "cdaaf163",
   "metadata": {
    "ExecuteTime": {
     "end_time": "2022-01-31T20:19:01.819329Z",
     "start_time": "2022-01-31T20:19:01.792362Z"
    }
   },
   "outputs": [],
   "source": [
    "# Dropping less variance columns\n",
    "df.drop(drop_cols_var, axis=1, inplace=True)\n",
    "\n",
    "# Dropping columns with 'select' values >= 50%\n",
    "df.drop(drop_cols_select, axis=1, inplace=True)"
   ]
  },
  {
   "cell_type": "code",
   "execution_count": 20,
   "id": "13728048",
   "metadata": {
    "ExecuteTime": {
     "end_time": "2022-01-31T20:19:01.834156Z",
     "start_time": "2022-01-31T20:19:01.824155Z"
    }
   },
   "outputs": [
    {
     "data": {
      "text/plain": [
       "(9240, 12)"
      ]
     },
     "execution_count": 20,
     "metadata": {},
     "output_type": "execute_result"
    }
   ],
   "source": [
    "# Checking the count of remaining columns post removal\n",
    "df.shape"
   ]
  },
  {
   "cell_type": "markdown",
   "id": "08626edf",
   "metadata": {},
   "source": [
    "We are left with ***14*** columns in the dataframe `df`"
   ]
  },
  {
   "cell_type": "code",
   "execution_count": 21,
   "id": "8a42c703",
   "metadata": {
    "ExecuteTime": {
     "end_time": "2022-01-31T20:19:01.896792Z",
     "start_time": "2022-01-31T20:19:01.840156Z"
    }
   },
   "outputs": [
    {
     "data": {
      "text/html": [
       "<div>\n",
       "<style scoped>\n",
       "    .dataframe tbody tr th:only-of-type {\n",
       "        vertical-align: middle;\n",
       "    }\n",
       "\n",
       "    .dataframe tbody tr th {\n",
       "        vertical-align: top;\n",
       "    }\n",
       "\n",
       "    .dataframe thead th {\n",
       "        text-align: right;\n",
       "    }\n",
       "</style>\n",
       "<table border=\"1\" class=\"dataframe\">\n",
       "  <thead>\n",
       "    <tr style=\"text-align: right;\">\n",
       "      <th></th>\n",
       "      <th>Lead Origin</th>\n",
       "      <th>Lead Source</th>\n",
       "      <th>Do Not Email</th>\n",
       "      <th>Converted</th>\n",
       "      <th>TotalVisits</th>\n",
       "      <th>Total Time Spent on Website</th>\n",
       "      <th>Page Views Per Visit</th>\n",
       "      <th>Last Activity</th>\n",
       "      <th>Specialization</th>\n",
       "      <th>What is your current occupation</th>\n",
       "      <th>A free copy of Mastering The Interview</th>\n",
       "      <th>Last Notable Activity</th>\n",
       "    </tr>\n",
       "  </thead>\n",
       "  <tbody>\n",
       "    <tr>\n",
       "      <th>0</th>\n",
       "      <td>API</td>\n",
       "      <td>Olark Chat</td>\n",
       "      <td>No</td>\n",
       "      <td>0</td>\n",
       "      <td>0.0</td>\n",
       "      <td>0</td>\n",
       "      <td>0.0</td>\n",
       "      <td>Page Visited on Website</td>\n",
       "      <td>Select</td>\n",
       "      <td>Unemployed</td>\n",
       "      <td>No</td>\n",
       "      <td>Modified</td>\n",
       "    </tr>\n",
       "    <tr>\n",
       "      <th>1</th>\n",
       "      <td>API</td>\n",
       "      <td>Organic Search</td>\n",
       "      <td>No</td>\n",
       "      <td>0</td>\n",
       "      <td>5.0</td>\n",
       "      <td>674</td>\n",
       "      <td>2.5</td>\n",
       "      <td>Email Opened</td>\n",
       "      <td>Select</td>\n",
       "      <td>Unemployed</td>\n",
       "      <td>No</td>\n",
       "      <td>Email Opened</td>\n",
       "    </tr>\n",
       "    <tr>\n",
       "      <th>2</th>\n",
       "      <td>Landing Page Submission</td>\n",
       "      <td>Direct Traffic</td>\n",
       "      <td>No</td>\n",
       "      <td>1</td>\n",
       "      <td>2.0</td>\n",
       "      <td>1532</td>\n",
       "      <td>2.0</td>\n",
       "      <td>Email Opened</td>\n",
       "      <td>Business Administration</td>\n",
       "      <td>Student</td>\n",
       "      <td>Yes</td>\n",
       "      <td>Email Opened</td>\n",
       "    </tr>\n",
       "    <tr>\n",
       "      <th>3</th>\n",
       "      <td>Landing Page Submission</td>\n",
       "      <td>Direct Traffic</td>\n",
       "      <td>No</td>\n",
       "      <td>0</td>\n",
       "      <td>1.0</td>\n",
       "      <td>305</td>\n",
       "      <td>1.0</td>\n",
       "      <td>Unreachable</td>\n",
       "      <td>Media and Advertising</td>\n",
       "      <td>Unemployed</td>\n",
       "      <td>No</td>\n",
       "      <td>Modified</td>\n",
       "    </tr>\n",
       "  </tbody>\n",
       "</table>\n",
       "</div>"
      ],
      "text/plain": [
       "               Lead Origin     Lead Source Do Not Email  Converted  \\\n",
       "0                      API      Olark Chat           No          0   \n",
       "1                      API  Organic Search           No          0   \n",
       "2  Landing Page Submission  Direct Traffic           No          1   \n",
       "3  Landing Page Submission  Direct Traffic           No          0   \n",
       "\n",
       "   TotalVisits  Total Time Spent on Website  Page Views Per Visit  \\\n",
       "0          0.0                            0                   0.0   \n",
       "1          5.0                          674                   2.5   \n",
       "2          2.0                         1532                   2.0   \n",
       "3          1.0                          305                   1.0   \n",
       "\n",
       "             Last Activity           Specialization  \\\n",
       "0  Page Visited on Website                   Select   \n",
       "1             Email Opened                   Select   \n",
       "2             Email Opened  Business Administration   \n",
       "3              Unreachable    Media and Advertising   \n",
       "\n",
       "  What is your current occupation A free copy of Mastering The Interview  \\\n",
       "0                      Unemployed                                     No   \n",
       "1                      Unemployed                                     No   \n",
       "2                         Student                                    Yes   \n",
       "3                      Unemployed                                     No   \n",
       "\n",
       "  Last Notable Activity  \n",
       "0              Modified  \n",
       "1          Email Opened  \n",
       "2          Email Opened  \n",
       "3              Modified  "
      ]
     },
     "execution_count": 21,
     "metadata": {},
     "output_type": "execute_result"
    }
   ],
   "source": [
    "# Checking top 4 rows of \"df\"\n",
    "df.head(4)"
   ]
  },
  {
   "cell_type": "markdown",
   "id": "8bd6b304",
   "metadata": {},
   "source": [
    "## Checking NULL values with remaining columns"
   ]
  },
  {
   "cell_type": "code",
   "execution_count": 22,
   "id": "0de614e0",
   "metadata": {
    "ExecuteTime": {
     "end_time": "2022-01-31T20:19:01.943556Z",
     "start_time": "2022-01-31T20:19:01.901330Z"
    }
   },
   "outputs": [
    {
     "data": {
      "text/plain": [
       "What is your current occupation           2690\n",
       "Specialization                            1438\n",
       "TotalVisits                                137\n",
       "Page Views Per Visit                       137\n",
       "Last Activity                              103\n",
       "Lead Source                                 36\n",
       "Lead Origin                                  0\n",
       "Do Not Email                                 0\n",
       "Converted                                    0\n",
       "Total Time Spent on Website                  0\n",
       "A free copy of Mastering The Interview       0\n",
       "Last Notable Activity                        0\n",
       "dtype: int64"
      ]
     },
     "execution_count": 22,
     "metadata": {},
     "output_type": "execute_result"
    }
   ],
   "source": [
    "df.isnull().sum().sort_values(ascending=False)"
   ]
  },
  {
   "cell_type": "markdown",
   "id": "72a5199a",
   "metadata": {},
   "source": [
    "Only *6* columns have NULL values now"
   ]
  },
  {
   "cell_type": "markdown",
   "id": "b12efe38",
   "metadata": {},
   "source": [
    "### `What is your current occupation` - handling NULL values"
   ]
  },
  {
   "cell_type": "code",
   "execution_count": 23,
   "id": "27219cb3",
   "metadata": {
    "ExecuteTime": {
     "end_time": "2022-01-31T20:19:01.973327Z",
     "start_time": "2022-01-31T20:19:01.949332Z"
    }
   },
   "outputs": [
    {
     "data": {
      "text/plain": [
       "Unemployed              5600\n",
       "Working Professional     706\n",
       "Student                  210\n",
       "Other                     16\n",
       "Housewife                 10\n",
       "Businessman                8\n",
       "Name: What is your current occupation, dtype: int64"
      ]
     },
     "execution_count": 23,
     "metadata": {},
     "output_type": "execute_result"
    }
   ],
   "source": [
    "df['What is your current occupation'].value_counts(ascending=False)"
   ]
  },
  {
   "cell_type": "code",
   "execution_count": 24,
   "id": "b8572e26",
   "metadata": {
    "ExecuteTime": {
     "end_time": "2022-01-31T20:19:02.018408Z",
     "start_time": "2022-01-31T20:19:01.994335Z"
    },
    "scrolled": true
   },
   "outputs": [
    {
     "data": {
      "text/plain": [
       "2690"
      ]
     },
     "execution_count": 24,
     "metadata": {},
     "output_type": "execute_result"
    }
   ],
   "source": [
    "df['What is your current occupation'].isna().sum()"
   ]
  },
  {
   "cell_type": "markdown",
   "id": "dbb8a201",
   "metadata": {},
   "source": [
    "As this seems to be an important predictor, we will remove the rows which are NULL from the dataframe `df`"
   ]
  },
  {
   "cell_type": "code",
   "execution_count": 25,
   "id": "b8bea249",
   "metadata": {
    "ExecuteTime": {
     "end_time": "2022-01-31T20:19:02.064553Z",
     "start_time": "2022-01-31T20:19:02.027201Z"
    }
   },
   "outputs": [],
   "source": [
    "# Getting the NOT NULL values from the column 'What is your current occupation' and assigning it back to 'df'\n",
    "df = df[~pd.isna(df['What is your current occupation'])]"
   ]
  },
  {
   "cell_type": "code",
   "execution_count": 26,
   "id": "29a215ea",
   "metadata": {
    "ExecuteTime": {
     "end_time": "2022-01-31T20:19:02.096197Z",
     "start_time": "2022-01-31T20:19:02.069195Z"
    }
   },
   "outputs": [
    {
     "data": {
      "text/plain": [
       "(6550, 12)"
      ]
     },
     "execution_count": 26,
     "metadata": {},
     "output_type": "execute_result"
    }
   ],
   "source": [
    "# Checking the rows left in \"df\"\n",
    "df.shape"
   ]
  },
  {
   "cell_type": "code",
   "execution_count": 27,
   "id": "fb215036",
   "metadata": {
    "ExecuteTime": {
     "end_time": "2022-01-31T20:19:02.142317Z",
     "start_time": "2022-01-31T20:19:02.100197Z"
    }
   },
   "outputs": [
    {
     "data": {
      "text/plain": [
       "TotalVisits                               130\n",
       "Page Views Per Visit                      130\n",
       "Last Activity                             103\n",
       "Lead Source                                36\n",
       "Specialization                             18\n",
       "Lead Origin                                 0\n",
       "Do Not Email                                0\n",
       "Converted                                   0\n",
       "Total Time Spent on Website                 0\n",
       "What is your current occupation             0\n",
       "A free copy of Mastering The Interview      0\n",
       "Last Notable Activity                       0\n",
       "dtype: int64"
      ]
     },
     "execution_count": 27,
     "metadata": {},
     "output_type": "execute_result"
    }
   ],
   "source": [
    "df.isnull().sum().sort_values(ascending=False)"
   ]
  },
  {
   "cell_type": "markdown",
   "id": "1cc6b2c8",
   "metadata": {},
   "source": [
    "### `TotalVisits` - handling NULL values"
   ]
  },
  {
   "cell_type": "code",
   "execution_count": 28,
   "id": "acf7ec7c",
   "metadata": {
    "ExecuteTime": {
     "end_time": "2022-01-31T20:19:02.173256Z",
     "start_time": "2022-01-31T20:19:02.147329Z"
    }
   },
   "outputs": [
    {
     "data": {
      "text/plain": [
       "130"
      ]
     },
     "execution_count": 28,
     "metadata": {},
     "output_type": "execute_result"
    }
   ],
   "source": [
    "df['TotalVisits'].isna().sum()"
   ]
  },
  {
   "cell_type": "markdown",
   "id": "0c8519e0",
   "metadata": {},
   "source": [
    "As this seems to be an important predictor, we will remove the rows which are NULL from the dataframe `df`"
   ]
  },
  {
   "cell_type": "code",
   "execution_count": 29,
   "id": "a5ee834e",
   "metadata": {
    "ExecuteTime": {
     "end_time": "2022-01-31T20:19:02.203398Z",
     "start_time": "2022-01-31T20:19:02.177200Z"
    }
   },
   "outputs": [],
   "source": [
    "# Getting the NOT NULL values from the column 'TotalVisits' and assigning it back to 'df'\n",
    "df = df[~pd.isna(df['TotalVisits'])]"
   ]
  },
  {
   "cell_type": "code",
   "execution_count": 30,
   "id": "39bd6738",
   "metadata": {
    "ExecuteTime": {
     "end_time": "2022-01-31T20:19:02.234396Z",
     "start_time": "2022-01-31T20:19:02.208400Z"
    }
   },
   "outputs": [
    {
     "data": {
      "text/plain": [
       "(6420, 12)"
      ]
     },
     "execution_count": 30,
     "metadata": {},
     "output_type": "execute_result"
    }
   ],
   "source": [
    "# Checking the rows left in \"df\"\n",
    "df.shape"
   ]
  },
  {
   "cell_type": "code",
   "execution_count": 31,
   "id": "3a434700",
   "metadata": {
    "ExecuteTime": {
     "end_time": "2022-01-31T20:19:02.279401Z",
     "start_time": "2022-01-31T20:19:02.238397Z"
    }
   },
   "outputs": [
    {
     "data": {
      "text/plain": [
       "Lead Source                               29\n",
       "Specialization                            18\n",
       "Lead Origin                                0\n",
       "Do Not Email                               0\n",
       "Converted                                  0\n",
       "TotalVisits                                0\n",
       "Total Time Spent on Website                0\n",
       "Page Views Per Visit                       0\n",
       "Last Activity                              0\n",
       "What is your current occupation            0\n",
       "A free copy of Mastering The Interview     0\n",
       "Last Notable Activity                      0\n",
       "dtype: int64"
      ]
     },
     "execution_count": 31,
     "metadata": {},
     "output_type": "execute_result"
    }
   ],
   "source": [
    "df.isnull().sum().sort_values(ascending=False)"
   ]
  },
  {
   "cell_type": "markdown",
   "id": "034663a5",
   "metadata": {},
   "source": [
    "### `Lead Source` - handling NULL values"
   ]
  },
  {
   "cell_type": "code",
   "execution_count": 32,
   "id": "7cf86c40",
   "metadata": {
    "ExecuteTime": {
     "end_time": "2022-01-31T20:19:02.310476Z",
     "start_time": "2022-01-31T20:19:02.284398Z"
    }
   },
   "outputs": [
    {
     "data": {
      "text/plain": [
       "29"
      ]
     },
     "execution_count": 32,
     "metadata": {},
     "output_type": "execute_result"
    }
   ],
   "source": [
    "df['Lead Source'].isna().sum()"
   ]
  },
  {
   "cell_type": "markdown",
   "id": "8d8546dc",
   "metadata": {},
   "source": [
    "As this seems to be an important predictor, we will remove the rows which are NULL from the dataframe `df`"
   ]
  },
  {
   "cell_type": "code",
   "execution_count": 33,
   "id": "57617ac3",
   "metadata": {
    "ExecuteTime": {
     "end_time": "2022-01-31T20:19:02.341634Z",
     "start_time": "2022-01-31T20:19:02.316548Z"
    }
   },
   "outputs": [],
   "source": [
    "# Getting the NOT NULL values from the column 'Lead Source' and assigning it back to 'df'\n",
    "df = df[~pd.isna(df['Lead Source'])]"
   ]
  },
  {
   "cell_type": "code",
   "execution_count": 34,
   "id": "cd17fa87",
   "metadata": {
    "ExecuteTime": {
     "end_time": "2022-01-31T20:19:02.371615Z",
     "start_time": "2022-01-31T20:19:02.346481Z"
    }
   },
   "outputs": [
    {
     "data": {
      "text/plain": [
       "(6391, 12)"
      ]
     },
     "execution_count": 34,
     "metadata": {},
     "output_type": "execute_result"
    }
   ],
   "source": [
    "# Checking the rows left in \"df\"\n",
    "df.shape"
   ]
  },
  {
   "cell_type": "code",
   "execution_count": 35,
   "id": "147427c9",
   "metadata": {
    "ExecuteTime": {
     "end_time": "2022-01-31T20:19:02.417250Z",
     "start_time": "2022-01-31T20:19:02.377046Z"
    },
    "scrolled": true
   },
   "outputs": [
    {
     "data": {
      "text/plain": [
       "Specialization                            18\n",
       "Lead Origin                                0\n",
       "Lead Source                                0\n",
       "Do Not Email                               0\n",
       "Converted                                  0\n",
       "TotalVisits                                0\n",
       "Total Time Spent on Website                0\n",
       "Page Views Per Visit                       0\n",
       "Last Activity                              0\n",
       "What is your current occupation            0\n",
       "A free copy of Mastering The Interview     0\n",
       "Last Notable Activity                      0\n",
       "dtype: int64"
      ]
     },
     "execution_count": 35,
     "metadata": {},
     "output_type": "execute_result"
    }
   ],
   "source": [
    "df.isnull().sum().sort_values(ascending=False)"
   ]
  },
  {
   "cell_type": "markdown",
   "id": "f2050a38",
   "metadata": {},
   "source": [
    "### `Specialization` - handling NULL values"
   ]
  },
  {
   "cell_type": "code",
   "execution_count": 36,
   "id": "206ade7b",
   "metadata": {
    "ExecuteTime": {
     "end_time": "2022-01-31T20:19:02.448723Z",
     "start_time": "2022-01-31T20:19:02.420725Z"
    }
   },
   "outputs": [
    {
     "data": {
      "text/plain": [
       "18"
      ]
     },
     "execution_count": 36,
     "metadata": {},
     "output_type": "execute_result"
    }
   ],
   "source": [
    "df['Specialization'].isna().sum()"
   ]
  },
  {
   "cell_type": "markdown",
   "id": "b2198c5c",
   "metadata": {},
   "source": [
    "As this seems to be an important predictor, we will remove the rows which are NULL from the dataframe `df`"
   ]
  },
  {
   "cell_type": "code",
   "execution_count": 37,
   "id": "a4d0abf7",
   "metadata": {
    "ExecuteTime": {
     "end_time": "2022-01-31T20:19:02.479811Z",
     "start_time": "2022-01-31T20:19:02.453234Z"
    }
   },
   "outputs": [],
   "source": [
    "# Getting the NOT NULL values from the column 'Specialization' and assigning it back to 'df'\n",
    "df = df[~pd.isna(df['Specialization'])]"
   ]
  },
  {
   "cell_type": "code",
   "execution_count": 38,
   "id": "c7cfb944",
   "metadata": {
    "ExecuteTime": {
     "end_time": "2022-01-31T20:19:02.494869Z",
     "start_time": "2022-01-31T20:19:02.483726Z"
    }
   },
   "outputs": [
    {
     "data": {
      "text/plain": [
       "(6373, 12)"
      ]
     },
     "execution_count": 38,
     "metadata": {},
     "output_type": "execute_result"
    }
   ],
   "source": [
    "# Checking the rows left in \"df\"\n",
    "df.shape"
   ]
  },
  {
   "cell_type": "code",
   "execution_count": 39,
   "id": "ce70aac5",
   "metadata": {
    "ExecuteTime": {
     "end_time": "2022-01-31T20:19:02.540492Z",
     "start_time": "2022-01-31T20:19:02.500491Z"
    },
    "scrolled": true
   },
   "outputs": [
    {
     "data": {
      "text/plain": [
       "Lead Origin                               0\n",
       "Lead Source                               0\n",
       "Do Not Email                              0\n",
       "Converted                                 0\n",
       "TotalVisits                               0\n",
       "Total Time Spent on Website               0\n",
       "Page Views Per Visit                      0\n",
       "Last Activity                             0\n",
       "Specialization                            0\n",
       "What is your current occupation           0\n",
       "A free copy of Mastering The Interview    0\n",
       "Last Notable Activity                     0\n",
       "dtype: int64"
      ]
     },
     "execution_count": 39,
     "metadata": {},
     "output_type": "execute_result"
    }
   ],
   "source": [
    "df.isnull().sum().sort_values(ascending=False)"
   ]
  },
  {
   "cell_type": "markdown",
   "id": "c3bfe8c3",
   "metadata": {},
   "source": [
    "We are not left with any NULL values in the columns"
   ]
  },
  {
   "cell_type": "code",
   "execution_count": 40,
   "id": "7e16211f",
   "metadata": {
    "ExecuteTime": {
     "end_time": "2022-01-31T20:19:02.601549Z",
     "start_time": "2022-01-31T20:19:02.544495Z"
    }
   },
   "outputs": [
    {
     "data": {
      "text/html": [
       "<div>\n",
       "<style scoped>\n",
       "    .dataframe tbody tr th:only-of-type {\n",
       "        vertical-align: middle;\n",
       "    }\n",
       "\n",
       "    .dataframe tbody tr th {\n",
       "        vertical-align: top;\n",
       "    }\n",
       "\n",
       "    .dataframe thead th {\n",
       "        text-align: right;\n",
       "    }\n",
       "</style>\n",
       "<table border=\"1\" class=\"dataframe\">\n",
       "  <thead>\n",
       "    <tr style=\"text-align: right;\">\n",
       "      <th></th>\n",
       "      <th>Lead Origin</th>\n",
       "      <th>Lead Source</th>\n",
       "      <th>Do Not Email</th>\n",
       "      <th>Converted</th>\n",
       "      <th>TotalVisits</th>\n",
       "      <th>Total Time Spent on Website</th>\n",
       "      <th>Page Views Per Visit</th>\n",
       "      <th>Last Activity</th>\n",
       "      <th>Specialization</th>\n",
       "      <th>What is your current occupation</th>\n",
       "      <th>A free copy of Mastering The Interview</th>\n",
       "      <th>Last Notable Activity</th>\n",
       "    </tr>\n",
       "  </thead>\n",
       "  <tbody>\n",
       "    <tr>\n",
       "      <th>0</th>\n",
       "      <td>API</td>\n",
       "      <td>Olark Chat</td>\n",
       "      <td>No</td>\n",
       "      <td>0</td>\n",
       "      <td>0.0</td>\n",
       "      <td>0</td>\n",
       "      <td>0.0</td>\n",
       "      <td>Page Visited on Website</td>\n",
       "      <td>Select</td>\n",
       "      <td>Unemployed</td>\n",
       "      <td>No</td>\n",
       "      <td>Modified</td>\n",
       "    </tr>\n",
       "    <tr>\n",
       "      <th>1</th>\n",
       "      <td>API</td>\n",
       "      <td>Organic Search</td>\n",
       "      <td>No</td>\n",
       "      <td>0</td>\n",
       "      <td>5.0</td>\n",
       "      <td>674</td>\n",
       "      <td>2.5</td>\n",
       "      <td>Email Opened</td>\n",
       "      <td>Select</td>\n",
       "      <td>Unemployed</td>\n",
       "      <td>No</td>\n",
       "      <td>Email Opened</td>\n",
       "    </tr>\n",
       "    <tr>\n",
       "      <th>2</th>\n",
       "      <td>Landing Page Submission</td>\n",
       "      <td>Direct Traffic</td>\n",
       "      <td>No</td>\n",
       "      <td>1</td>\n",
       "      <td>2.0</td>\n",
       "      <td>1532</td>\n",
       "      <td>2.0</td>\n",
       "      <td>Email Opened</td>\n",
       "      <td>Business Administration</td>\n",
       "      <td>Student</td>\n",
       "      <td>Yes</td>\n",
       "      <td>Email Opened</td>\n",
       "    </tr>\n",
       "    <tr>\n",
       "      <th>3</th>\n",
       "      <td>Landing Page Submission</td>\n",
       "      <td>Direct Traffic</td>\n",
       "      <td>No</td>\n",
       "      <td>0</td>\n",
       "      <td>1.0</td>\n",
       "      <td>305</td>\n",
       "      <td>1.0</td>\n",
       "      <td>Unreachable</td>\n",
       "      <td>Media and Advertising</td>\n",
       "      <td>Unemployed</td>\n",
       "      <td>No</td>\n",
       "      <td>Modified</td>\n",
       "    </tr>\n",
       "    <tr>\n",
       "      <th>4</th>\n",
       "      <td>Landing Page Submission</td>\n",
       "      <td>Google</td>\n",
       "      <td>No</td>\n",
       "      <td>1</td>\n",
       "      <td>2.0</td>\n",
       "      <td>1428</td>\n",
       "      <td>1.0</td>\n",
       "      <td>Converted to Lead</td>\n",
       "      <td>Select</td>\n",
       "      <td>Unemployed</td>\n",
       "      <td>No</td>\n",
       "      <td>Modified</td>\n",
       "    </tr>\n",
       "  </tbody>\n",
       "</table>\n",
       "</div>"
      ],
      "text/plain": [
       "               Lead Origin     Lead Source Do Not Email  Converted  \\\n",
       "0                      API      Olark Chat           No          0   \n",
       "1                      API  Organic Search           No          0   \n",
       "2  Landing Page Submission  Direct Traffic           No          1   \n",
       "3  Landing Page Submission  Direct Traffic           No          0   \n",
       "4  Landing Page Submission          Google           No          1   \n",
       "\n",
       "   TotalVisits  Total Time Spent on Website  Page Views Per Visit  \\\n",
       "0          0.0                            0                   0.0   \n",
       "1          5.0                          674                   2.5   \n",
       "2          2.0                         1532                   2.0   \n",
       "3          1.0                          305                   1.0   \n",
       "4          2.0                         1428                   1.0   \n",
       "\n",
       "             Last Activity           Specialization  \\\n",
       "0  Page Visited on Website                   Select   \n",
       "1             Email Opened                   Select   \n",
       "2             Email Opened  Business Administration   \n",
       "3              Unreachable    Media and Advertising   \n",
       "4        Converted to Lead                   Select   \n",
       "\n",
       "  What is your current occupation A free copy of Mastering The Interview  \\\n",
       "0                      Unemployed                                     No   \n",
       "1                      Unemployed                                     No   \n",
       "2                         Student                                    Yes   \n",
       "3                      Unemployed                                     No   \n",
       "4                      Unemployed                                     No   \n",
       "\n",
       "  Last Notable Activity  \n",
       "0              Modified  \n",
       "1          Email Opened  \n",
       "2          Email Opened  \n",
       "3              Modified  \n",
       "4              Modified  "
      ]
     },
     "execution_count": 40,
     "metadata": {},
     "output_type": "execute_result"
    }
   ],
   "source": [
    "# Checking top 5 rows in the dataframe \"df\"\n",
    "df.head()"
   ]
  },
  {
   "cell_type": "code",
   "execution_count": 41,
   "id": "00e19953",
   "metadata": {
    "ExecuteTime": {
     "end_time": "2022-01-31T20:19:02.648550Z",
     "start_time": "2022-01-31T20:19:02.606553Z"
    }
   },
   "outputs": [
    {
     "name": "stdout",
     "output_type": "stream",
     "text": [
      "<class 'pandas.core.frame.DataFrame'>\n",
      "Int64Index: 6373 entries, 0 to 9239\n",
      "Data columns (total 12 columns):\n",
      " #   Column                                  Non-Null Count  Dtype  \n",
      "---  ------                                  --------------  -----  \n",
      " 0   Lead Origin                             6373 non-null   object \n",
      " 1   Lead Source                             6373 non-null   object \n",
      " 2   Do Not Email                            6373 non-null   object \n",
      " 3   Converted                               6373 non-null   int64  \n",
      " 4   TotalVisits                             6373 non-null   float64\n",
      " 5   Total Time Spent on Website             6373 non-null   int64  \n",
      " 6   Page Views Per Visit                    6373 non-null   float64\n",
      " 7   Last Activity                           6373 non-null   object \n",
      " 8   Specialization                          6373 non-null   object \n",
      " 9   What is your current occupation         6373 non-null   object \n",
      " 10  A free copy of Mastering The Interview  6373 non-null   object \n",
      " 11  Last Notable Activity                   6373 non-null   object \n",
      "dtypes: float64(2), int64(2), object(8)\n",
      "memory usage: 647.3+ KB\n"
     ]
    }
   ],
   "source": [
    "df.info()"
   ]
  },
  {
   "cell_type": "markdown",
   "id": "c42255cf",
   "metadata": {},
   "source": [
    "# Data Preparation"
   ]
  },
  {
   "cell_type": "markdown",
   "id": "99ce10a8",
   "metadata": {},
   "source": [
    "## Converting binary categorical variables (Yes,No) to (1,0)"
   ]
  },
  {
   "cell_type": "code",
   "execution_count": 42,
   "id": "ffee5bf8",
   "metadata": {
    "ExecuteTime": {
     "end_time": "2022-01-31T20:19:02.679550Z",
     "start_time": "2022-01-31T20:19:02.652553Z"
    }
   },
   "outputs": [
    {
     "data": {
      "text/plain": [
       "No     5938\n",
       "Yes     435\n",
       "Name: Do Not Email, dtype: int64"
      ]
     },
     "execution_count": 42,
     "metadata": {},
     "output_type": "execute_result"
    }
   ],
   "source": [
    "df['Do Not Email'].value_counts()"
   ]
  },
  {
   "cell_type": "code",
   "execution_count": 43,
   "id": "909f9ee7",
   "metadata": {
    "ExecuteTime": {
     "end_time": "2022-01-31T20:19:02.709898Z",
     "start_time": "2022-01-31T20:19:02.683552Z"
    }
   },
   "outputs": [
    {
     "data": {
      "text/plain": [
       "No     4202\n",
       "Yes    2171\n",
       "Name: A free copy of Mastering The Interview, dtype: int64"
      ]
     },
     "execution_count": 43,
     "metadata": {},
     "output_type": "execute_result"
    }
   ],
   "source": [
    "df['A free copy of Mastering The Interview'].value_counts()"
   ]
  },
  {
   "cell_type": "code",
   "execution_count": 44,
   "id": "da212d8e",
   "metadata": {
    "ExecuteTime": {
     "end_time": "2022-01-31T20:19:02.741800Z",
     "start_time": "2022-01-31T20:19:02.714618Z"
    }
   },
   "outputs": [],
   "source": [
    "# List of binary variables\n",
    "varlist = ['Do Not Email','A free copy of Mastering The Interview']\n",
    "\n",
    "# Map function for conversion\n",
    "def binary_map(x):\n",
    "    return x.map({'Yes':1,'No':0})\n",
    "\n",
    "# Apply Map function to the binary variables\n",
    "df[varlist] = df[varlist].apply(binary_map)"
   ]
  },
  {
   "cell_type": "code",
   "execution_count": 45,
   "id": "7d5ff151",
   "metadata": {
    "ExecuteTime": {
     "end_time": "2022-01-31T20:19:02.788186Z",
     "start_time": "2022-01-31T20:19:02.745624Z"
    }
   },
   "outputs": [
    {
     "data": {
      "text/html": [
       "<div>\n",
       "<style scoped>\n",
       "    .dataframe tbody tr th:only-of-type {\n",
       "        vertical-align: middle;\n",
       "    }\n",
       "\n",
       "    .dataframe tbody tr th {\n",
       "        vertical-align: top;\n",
       "    }\n",
       "\n",
       "    .dataframe thead th {\n",
       "        text-align: right;\n",
       "    }\n",
       "</style>\n",
       "<table border=\"1\" class=\"dataframe\">\n",
       "  <thead>\n",
       "    <tr style=\"text-align: right;\">\n",
       "      <th></th>\n",
       "      <th>Lead Origin</th>\n",
       "      <th>Lead Source</th>\n",
       "      <th>Do Not Email</th>\n",
       "      <th>Converted</th>\n",
       "      <th>TotalVisits</th>\n",
       "      <th>Total Time Spent on Website</th>\n",
       "      <th>Page Views Per Visit</th>\n",
       "      <th>Last Activity</th>\n",
       "      <th>Specialization</th>\n",
       "      <th>What is your current occupation</th>\n",
       "      <th>A free copy of Mastering The Interview</th>\n",
       "      <th>Last Notable Activity</th>\n",
       "    </tr>\n",
       "  </thead>\n",
       "  <tbody>\n",
       "    <tr>\n",
       "      <th>0</th>\n",
       "      <td>API</td>\n",
       "      <td>Olark Chat</td>\n",
       "      <td>0</td>\n",
       "      <td>0</td>\n",
       "      <td>0.0</td>\n",
       "      <td>0</td>\n",
       "      <td>0.0</td>\n",
       "      <td>Page Visited on Website</td>\n",
       "      <td>Select</td>\n",
       "      <td>Unemployed</td>\n",
       "      <td>0</td>\n",
       "      <td>Modified</td>\n",
       "    </tr>\n",
       "    <tr>\n",
       "      <th>1</th>\n",
       "      <td>API</td>\n",
       "      <td>Organic Search</td>\n",
       "      <td>0</td>\n",
       "      <td>0</td>\n",
       "      <td>5.0</td>\n",
       "      <td>674</td>\n",
       "      <td>2.5</td>\n",
       "      <td>Email Opened</td>\n",
       "      <td>Select</td>\n",
       "      <td>Unemployed</td>\n",
       "      <td>0</td>\n",
       "      <td>Email Opened</td>\n",
       "    </tr>\n",
       "    <tr>\n",
       "      <th>2</th>\n",
       "      <td>Landing Page Submission</td>\n",
       "      <td>Direct Traffic</td>\n",
       "      <td>0</td>\n",
       "      <td>1</td>\n",
       "      <td>2.0</td>\n",
       "      <td>1532</td>\n",
       "      <td>2.0</td>\n",
       "      <td>Email Opened</td>\n",
       "      <td>Business Administration</td>\n",
       "      <td>Student</td>\n",
       "      <td>1</td>\n",
       "      <td>Email Opened</td>\n",
       "    </tr>\n",
       "  </tbody>\n",
       "</table>\n",
       "</div>"
      ],
      "text/plain": [
       "               Lead Origin     Lead Source  Do Not Email  Converted  \\\n",
       "0                      API      Olark Chat             0          0   \n",
       "1                      API  Organic Search             0          0   \n",
       "2  Landing Page Submission  Direct Traffic             0          1   \n",
       "\n",
       "   TotalVisits  Total Time Spent on Website  Page Views Per Visit  \\\n",
       "0          0.0                            0                   0.0   \n",
       "1          5.0                          674                   2.5   \n",
       "2          2.0                         1532                   2.0   \n",
       "\n",
       "             Last Activity           Specialization  \\\n",
       "0  Page Visited on Website                   Select   \n",
       "1             Email Opened                   Select   \n",
       "2             Email Opened  Business Administration   \n",
       "\n",
       "  What is your current occupation  A free copy of Mastering The Interview  \\\n",
       "0                      Unemployed                                       0   \n",
       "1                      Unemployed                                       0   \n",
       "2                         Student                                       1   \n",
       "\n",
       "  Last Notable Activity  \n",
       "0              Modified  \n",
       "1          Email Opened  \n",
       "2          Email Opened  "
      ]
     },
     "execution_count": 45,
     "metadata": {},
     "output_type": "execute_result"
    }
   ],
   "source": [
    "# Check if the binary variables are converted to 1's and 0's\n",
    "df.head(3)"
   ]
  },
  {
   "cell_type": "code",
   "execution_count": 46,
   "id": "906cb608",
   "metadata": {
    "ExecuteTime": {
     "end_time": "2022-01-31T20:19:02.834363Z",
     "start_time": "2022-01-31T20:19:02.792617Z"
    }
   },
   "outputs": [
    {
     "name": "stdout",
     "output_type": "stream",
     "text": [
      "<class 'pandas.core.frame.DataFrame'>\n",
      "Int64Index: 6373 entries, 0 to 9239\n",
      "Data columns (total 12 columns):\n",
      " #   Column                                  Non-Null Count  Dtype  \n",
      "---  ------                                  --------------  -----  \n",
      " 0   Lead Origin                             6373 non-null   object \n",
      " 1   Lead Source                             6373 non-null   object \n",
      " 2   Do Not Email                            6373 non-null   int64  \n",
      " 3   Converted                               6373 non-null   int64  \n",
      " 4   TotalVisits                             6373 non-null   float64\n",
      " 5   Total Time Spent on Website             6373 non-null   int64  \n",
      " 6   Page Views Per Visit                    6373 non-null   float64\n",
      " 7   Last Activity                           6373 non-null   object \n",
      " 8   Specialization                          6373 non-null   object \n",
      " 9   What is your current occupation         6373 non-null   object \n",
      " 10  A free copy of Mastering The Interview  6373 non-null   int64  \n",
      " 11  Last Notable Activity                   6373 non-null   object \n",
      "dtypes: float64(2), int64(4), object(6)\n",
      "memory usage: 647.3+ KB\n"
     ]
    }
   ],
   "source": [
    "df.info()"
   ]
  },
  {
   "cell_type": "markdown",
   "id": "28c19c16",
   "metadata": {},
   "source": [
    "## For categorical features with multiple levels, create dummy features (One-Hot Encoding)"
   ]
  },
  {
   "cell_type": "code",
   "execution_count": 47,
   "id": "1893aa3c",
   "metadata": {
    "ExecuteTime": {
     "end_time": "2022-01-31T20:19:02.865324Z",
     "start_time": "2022-01-31T20:19:02.838159Z"
    }
   },
   "outputs": [
    {
     "data": {
      "text/plain": [
       "Index(['Lead Origin', 'Lead Source', 'Last Activity', 'Specialization',\n",
       "       'What is your current occupation', 'Last Notable Activity'],\n",
       "      dtype='object')"
      ]
     },
     "execution_count": 47,
     "metadata": {},
     "output_type": "execute_result"
    }
   ],
   "source": [
    "# Get the list of categorical variables\n",
    "df.select_dtypes(include='object').columns"
   ]
  },
  {
   "cell_type": "code",
   "execution_count": 48,
   "id": "559b2470",
   "metadata": {
    "ExecuteTime": {
     "end_time": "2022-01-31T20:19:02.927206Z",
     "start_time": "2022-01-31T20:19:02.871163Z"
    }
   },
   "outputs": [
    {
     "name": "stdout",
     "output_type": "stream",
     "text": [
      "Landing Page Submission    3625\n",
      "API                        2140\n",
      "Lead Add Form               581\n",
      "Lead Import                  27\n",
      "Name: Lead Origin, dtype: int64\n",
      "\n",
      "\n",
      "--------------------------------------------------------------------------\n",
      "\n",
      "\n",
      "Google               2048\n",
      "Direct Traffic       1873\n",
      "Olark Chat            892\n",
      "Organic Search        870\n",
      "Reference             443\n",
      "Welingak Website      129\n",
      "Referral Sites         75\n",
      "Facebook               28\n",
      "Click2call              4\n",
      "bing                    3\n",
      "Live Chat               2\n",
      "Social Media            2\n",
      "WeLearn                 1\n",
      "testone                 1\n",
      "Pay per Click Ads       1\n",
      "Press_Release           1\n",
      "Name: Lead Source, dtype: int64\n",
      "\n",
      "\n",
      "--------------------------------------------------------------------------\n",
      "\n",
      "\n",
      "Email Opened                    2455\n",
      "SMS Sent                        2189\n",
      "Olark Chat Conversation          428\n",
      "Page Visited on Website          427\n",
      "Converted to Lead                292\n",
      "Email Link Clicked               178\n",
      "Email Bounced                    175\n",
      "Form Submitted on Website         81\n",
      "Unreachable                       71\n",
      "Unsubscribed                      40\n",
      "Had a Phone Conversation          23\n",
      "Approached upfront                 5\n",
      "View in browser link Clicked       4\n",
      "Email Received                     2\n",
      "Email Marked Spam                  2\n",
      "Visited Booth in Tradeshow         1\n",
      "Name: Last Activity, dtype: int64\n",
      "\n",
      "\n",
      "--------------------------------------------------------------------------\n",
      "\n",
      "\n",
      "Select                               1838\n",
      "Finance Management                    745\n",
      "Human Resource Management             665\n",
      "Marketing Management                  663\n",
      "Operations Management                 391\n",
      "Business Administration               310\n",
      "IT Projects Management                278\n",
      "Supply Chain Management               275\n",
      "Banking, Investment And Insurance     266\n",
      "Media and Advertising                 161\n",
      "Travel and Tourism                    149\n",
      "International Business                136\n",
      "Healthcare Management                 122\n",
      "Hospitality Management                 90\n",
      "E-COMMERCE                             80\n",
      "Retail Management                      78\n",
      "Rural and Agribusiness                 58\n",
      "E-Business                             43\n",
      "Services Excellence                    25\n",
      "Name: Specialization, dtype: int64\n",
      "\n",
      "\n",
      "--------------------------------------------------------------------------\n",
      "\n",
      "\n",
      "Unemployed              5476\n",
      "Working Professional     673\n",
      "Student                  193\n",
      "Other                     15\n",
      "Housewife                  9\n",
      "Businessman                7\n",
      "Name: What is your current occupation, dtype: int64\n",
      "\n",
      "\n",
      "--------------------------------------------------------------------------\n",
      "\n",
      "\n",
      "Email Opened                    2038\n",
      "Modified                        1947\n",
      "SMS Sent                        1869\n",
      "Page Visited on Website          213\n",
      "Email Link Clicked               110\n",
      "Olark Chat Conversation           76\n",
      "Email Bounced                     49\n",
      "Unsubscribed                      31\n",
      "Unreachable                       22\n",
      "Had a Phone Conversation          13\n",
      "Email Marked Spam                  2\n",
      "Email Received                     1\n",
      "Approached upfront                 1\n",
      "View in browser link Clicked       1\n",
      "Name: Last Notable Activity, dtype: int64\n",
      "\n",
      "\n",
      "--------------------------------------------------------------------------\n",
      "\n",
      "\n"
     ]
    }
   ],
   "source": [
    "# Checking distinct values for each categorical column\n",
    "for x in df.select_dtypes(include='object').columns:\n",
    "    print(df[x].value_counts())\n",
    "    print(\"\\n\\n--------------------------------------------------------------------------\\n\\n\")"
   ]
  },
  {
   "cell_type": "markdown",
   "id": "221bc2cc",
   "metadata": {},
   "source": [
    "We will create dummy variables for all columns except `Specialization` as it still contains \"select\" and must be handled separately"
   ]
  },
  {
   "cell_type": "code",
   "execution_count": 49,
   "id": "d1f6d3dd",
   "metadata": {
    "ExecuteTime": {
     "end_time": "2022-01-31T20:19:02.990204Z",
     "start_time": "2022-01-31T20:19:02.934292Z"
    }
   },
   "outputs": [],
   "source": [
    "# Create dummy variables for all columns except 'Specialization' and drop the first one\n",
    "dummy1 = pd.get_dummies(df[['Lead Origin', 'Lead Source', 'Last Activity', \n",
    "                                 'What is your current occupation', 'Last Notable Activity']], drop_first=True)\n",
    "\n",
    "# Add the results to the dataframe\n",
    "df = pd.concat([df,dummy1], axis=1)"
   ]
  },
  {
   "cell_type": "code",
   "execution_count": 50,
   "id": "8ee10f36",
   "metadata": {
    "ExecuteTime": {
     "end_time": "2022-01-31T20:19:03.082412Z",
     "start_time": "2022-01-31T20:19:02.995211Z"
    }
   },
   "outputs": [
    {
     "data": {
      "text/html": [
       "<div>\n",
       "<style scoped>\n",
       "    .dataframe tbody tr th:only-of-type {\n",
       "        vertical-align: middle;\n",
       "    }\n",
       "\n",
       "    .dataframe tbody tr th {\n",
       "        vertical-align: top;\n",
       "    }\n",
       "\n",
       "    .dataframe thead th {\n",
       "        text-align: right;\n",
       "    }\n",
       "</style>\n",
       "<table border=\"1\" class=\"dataframe\">\n",
       "  <thead>\n",
       "    <tr style=\"text-align: right;\">\n",
       "      <th></th>\n",
       "      <th>Lead Origin</th>\n",
       "      <th>Lead Source</th>\n",
       "      <th>Do Not Email</th>\n",
       "      <th>Converted</th>\n",
       "      <th>TotalVisits</th>\n",
       "      <th>Total Time Spent on Website</th>\n",
       "      <th>Page Views Per Visit</th>\n",
       "      <th>Last Activity</th>\n",
       "      <th>Specialization</th>\n",
       "      <th>What is your current occupation</th>\n",
       "      <th>A free copy of Mastering The Interview</th>\n",
       "      <th>Last Notable Activity</th>\n",
       "      <th>Lead Origin_Landing Page Submission</th>\n",
       "      <th>Lead Origin_Lead Add Form</th>\n",
       "      <th>Lead Origin_Lead Import</th>\n",
       "      <th>Lead Source_Direct Traffic</th>\n",
       "      <th>Lead Source_Facebook</th>\n",
       "      <th>Lead Source_Google</th>\n",
       "      <th>Lead Source_Live Chat</th>\n",
       "      <th>Lead Source_Olark Chat</th>\n",
       "      <th>Lead Source_Organic Search</th>\n",
       "      <th>Lead Source_Pay per Click Ads</th>\n",
       "      <th>Lead Source_Press_Release</th>\n",
       "      <th>Lead Source_Reference</th>\n",
       "      <th>Lead Source_Referral Sites</th>\n",
       "      <th>...</th>\n",
       "      <th>Last Activity_Olark Chat Conversation</th>\n",
       "      <th>Last Activity_Page Visited on Website</th>\n",
       "      <th>Last Activity_SMS Sent</th>\n",
       "      <th>Last Activity_Unreachable</th>\n",
       "      <th>Last Activity_Unsubscribed</th>\n",
       "      <th>Last Activity_View in browser link Clicked</th>\n",
       "      <th>Last Activity_Visited Booth in Tradeshow</th>\n",
       "      <th>What is your current occupation_Housewife</th>\n",
       "      <th>What is your current occupation_Other</th>\n",
       "      <th>What is your current occupation_Student</th>\n",
       "      <th>What is your current occupation_Unemployed</th>\n",
       "      <th>What is your current occupation_Working Professional</th>\n",
       "      <th>Last Notable Activity_Email Bounced</th>\n",
       "      <th>Last Notable Activity_Email Link Clicked</th>\n",
       "      <th>Last Notable Activity_Email Marked Spam</th>\n",
       "      <th>Last Notable Activity_Email Opened</th>\n",
       "      <th>Last Notable Activity_Email Received</th>\n",
       "      <th>Last Notable Activity_Had a Phone Conversation</th>\n",
       "      <th>Last Notable Activity_Modified</th>\n",
       "      <th>Last Notable Activity_Olark Chat Conversation</th>\n",
       "      <th>Last Notable Activity_Page Visited on Website</th>\n",
       "      <th>Last Notable Activity_SMS Sent</th>\n",
       "      <th>Last Notable Activity_Unreachable</th>\n",
       "      <th>Last Notable Activity_Unsubscribed</th>\n",
       "      <th>Last Notable Activity_View in browser link Clicked</th>\n",
       "    </tr>\n",
       "  </thead>\n",
       "  <tbody>\n",
       "    <tr>\n",
       "      <th>0</th>\n",
       "      <td>API</td>\n",
       "      <td>Olark Chat</td>\n",
       "      <td>0</td>\n",
       "      <td>0</td>\n",
       "      <td>0.0</td>\n",
       "      <td>0</td>\n",
       "      <td>0.0</td>\n",
       "      <td>Page Visited on Website</td>\n",
       "      <td>Select</td>\n",
       "      <td>Unemployed</td>\n",
       "      <td>0</td>\n",
       "      <td>Modified</td>\n",
       "      <td>0</td>\n",
       "      <td>0</td>\n",
       "      <td>0</td>\n",
       "      <td>0</td>\n",
       "      <td>0</td>\n",
       "      <td>0</td>\n",
       "      <td>0</td>\n",
       "      <td>1</td>\n",
       "      <td>0</td>\n",
       "      <td>0</td>\n",
       "      <td>0</td>\n",
       "      <td>0</td>\n",
       "      <td>0</td>\n",
       "      <td>...</td>\n",
       "      <td>0</td>\n",
       "      <td>1</td>\n",
       "      <td>0</td>\n",
       "      <td>0</td>\n",
       "      <td>0</td>\n",
       "      <td>0</td>\n",
       "      <td>0</td>\n",
       "      <td>0</td>\n",
       "      <td>0</td>\n",
       "      <td>0</td>\n",
       "      <td>1</td>\n",
       "      <td>0</td>\n",
       "      <td>0</td>\n",
       "      <td>0</td>\n",
       "      <td>0</td>\n",
       "      <td>0</td>\n",
       "      <td>0</td>\n",
       "      <td>0</td>\n",
       "      <td>1</td>\n",
       "      <td>0</td>\n",
       "      <td>0</td>\n",
       "      <td>0</td>\n",
       "      <td>0</td>\n",
       "      <td>0</td>\n",
       "      <td>0</td>\n",
       "    </tr>\n",
       "    <tr>\n",
       "      <th>1</th>\n",
       "      <td>API</td>\n",
       "      <td>Organic Search</td>\n",
       "      <td>0</td>\n",
       "      <td>0</td>\n",
       "      <td>5.0</td>\n",
       "      <td>674</td>\n",
       "      <td>2.5</td>\n",
       "      <td>Email Opened</td>\n",
       "      <td>Select</td>\n",
       "      <td>Unemployed</td>\n",
       "      <td>0</td>\n",
       "      <td>Email Opened</td>\n",
       "      <td>0</td>\n",
       "      <td>0</td>\n",
       "      <td>0</td>\n",
       "      <td>0</td>\n",
       "      <td>0</td>\n",
       "      <td>0</td>\n",
       "      <td>0</td>\n",
       "      <td>0</td>\n",
       "      <td>1</td>\n",
       "      <td>0</td>\n",
       "      <td>0</td>\n",
       "      <td>0</td>\n",
       "      <td>0</td>\n",
       "      <td>...</td>\n",
       "      <td>0</td>\n",
       "      <td>0</td>\n",
       "      <td>0</td>\n",
       "      <td>0</td>\n",
       "      <td>0</td>\n",
       "      <td>0</td>\n",
       "      <td>0</td>\n",
       "      <td>0</td>\n",
       "      <td>0</td>\n",
       "      <td>0</td>\n",
       "      <td>1</td>\n",
       "      <td>0</td>\n",
       "      <td>0</td>\n",
       "      <td>0</td>\n",
       "      <td>0</td>\n",
       "      <td>1</td>\n",
       "      <td>0</td>\n",
       "      <td>0</td>\n",
       "      <td>0</td>\n",
       "      <td>0</td>\n",
       "      <td>0</td>\n",
       "      <td>0</td>\n",
       "      <td>0</td>\n",
       "      <td>0</td>\n",
       "      <td>0</td>\n",
       "    </tr>\n",
       "  </tbody>\n",
       "</table>\n",
       "<p>2 rows × 63 columns</p>\n",
       "</div>"
      ],
      "text/plain": [
       "  Lead Origin     Lead Source  Do Not Email  Converted  TotalVisits  \\\n",
       "0         API      Olark Chat             0          0          0.0   \n",
       "1         API  Organic Search             0          0          5.0   \n",
       "\n",
       "   Total Time Spent on Website  Page Views Per Visit            Last Activity  \\\n",
       "0                            0                   0.0  Page Visited on Website   \n",
       "1                          674                   2.5             Email Opened   \n",
       "\n",
       "  Specialization What is your current occupation  \\\n",
       "0         Select                      Unemployed   \n",
       "1         Select                      Unemployed   \n",
       "\n",
       "   A free copy of Mastering The Interview Last Notable Activity  \\\n",
       "0                                       0              Modified   \n",
       "1                                       0          Email Opened   \n",
       "\n",
       "   Lead Origin_Landing Page Submission  Lead Origin_Lead Add Form  \\\n",
       "0                                    0                          0   \n",
       "1                                    0                          0   \n",
       "\n",
       "   Lead Origin_Lead Import  Lead Source_Direct Traffic  Lead Source_Facebook  \\\n",
       "0                        0                           0                     0   \n",
       "1                        0                           0                     0   \n",
       "\n",
       "   Lead Source_Google  Lead Source_Live Chat  Lead Source_Olark Chat  \\\n",
       "0                   0                      0                       1   \n",
       "1                   0                      0                       0   \n",
       "\n",
       "   Lead Source_Organic Search  Lead Source_Pay per Click Ads  \\\n",
       "0                           0                              0   \n",
       "1                           1                              0   \n",
       "\n",
       "   Lead Source_Press_Release  Lead Source_Reference  \\\n",
       "0                          0                      0   \n",
       "1                          0                      0   \n",
       "\n",
       "   Lead Source_Referral Sites  ...  Last Activity_Olark Chat Conversation  \\\n",
       "0                           0  ...                                      0   \n",
       "1                           0  ...                                      0   \n",
       "\n",
       "   Last Activity_Page Visited on Website  Last Activity_SMS Sent  \\\n",
       "0                                      1                       0   \n",
       "1                                      0                       0   \n",
       "\n",
       "   Last Activity_Unreachable  Last Activity_Unsubscribed  \\\n",
       "0                          0                           0   \n",
       "1                          0                           0   \n",
       "\n",
       "   Last Activity_View in browser link Clicked  \\\n",
       "0                                           0   \n",
       "1                                           0   \n",
       "\n",
       "   Last Activity_Visited Booth in Tradeshow  \\\n",
       "0                                         0   \n",
       "1                                         0   \n",
       "\n",
       "   What is your current occupation_Housewife  \\\n",
       "0                                          0   \n",
       "1                                          0   \n",
       "\n",
       "   What is your current occupation_Other  \\\n",
       "0                                      0   \n",
       "1                                      0   \n",
       "\n",
       "   What is your current occupation_Student  \\\n",
       "0                                        0   \n",
       "1                                        0   \n",
       "\n",
       "   What is your current occupation_Unemployed  \\\n",
       "0                                           1   \n",
       "1                                           1   \n",
       "\n",
       "   What is your current occupation_Working Professional  \\\n",
       "0                                                  0      \n",
       "1                                                  0      \n",
       "\n",
       "   Last Notable Activity_Email Bounced  \\\n",
       "0                                    0   \n",
       "1                                    0   \n",
       "\n",
       "   Last Notable Activity_Email Link Clicked  \\\n",
       "0                                         0   \n",
       "1                                         0   \n",
       "\n",
       "   Last Notable Activity_Email Marked Spam  \\\n",
       "0                                        0   \n",
       "1                                        0   \n",
       "\n",
       "   Last Notable Activity_Email Opened  Last Notable Activity_Email Received  \\\n",
       "0                                   0                                     0   \n",
       "1                                   1                                     0   \n",
       "\n",
       "   Last Notable Activity_Had a Phone Conversation  \\\n",
       "0                                               0   \n",
       "1                                               0   \n",
       "\n",
       "   Last Notable Activity_Modified  \\\n",
       "0                               1   \n",
       "1                               0   \n",
       "\n",
       "   Last Notable Activity_Olark Chat Conversation  \\\n",
       "0                                              0   \n",
       "1                                              0   \n",
       "\n",
       "   Last Notable Activity_Page Visited on Website  \\\n",
       "0                                              0   \n",
       "1                                              0   \n",
       "\n",
       "   Last Notable Activity_SMS Sent  Last Notable Activity_Unreachable  \\\n",
       "0                               0                                  0   \n",
       "1                               0                                  0   \n",
       "\n",
       "   Last Notable Activity_Unsubscribed  \\\n",
       "0                                   0   \n",
       "1                                   0   \n",
       "\n",
       "   Last Notable Activity_View in browser link Clicked  \n",
       "0                                                  0   \n",
       "1                                                  0   \n",
       "\n",
       "[2 rows x 63 columns]"
      ]
     },
     "execution_count": 50,
     "metadata": {},
     "output_type": "execute_result"
    }
   ],
   "source": [
    "# Checking if the dummy variables have been added to the DataFrame 'df'\n",
    "df.head(2)"
   ]
  },
  {
   "cell_type": "markdown",
   "id": "4b637267",
   "metadata": {},
   "source": [
    "Handling dummy variable creation for 'Specialization' column"
   ]
  },
  {
   "cell_type": "code",
   "execution_count": 51,
   "id": "6387d115",
   "metadata": {
    "ExecuteTime": {
     "end_time": "2022-01-31T20:19:03.114355Z",
     "start_time": "2022-01-31T20:19:03.086177Z"
    }
   },
   "outputs": [],
   "source": [
    "# Creating dummy variables for \"Specialization\" and dropping the level with 'select'.\n",
    "\n",
    "# Creating dummy variables for the variable 'Specialization'\n",
    "ml = pd.get_dummies(df['Specialization'], prefix='Specialization')\n",
    "# Dropping \"Specialization_Select\" column\n",
    "ml1 = ml.drop(['Specialization_Select'], 1)\n",
    "#Adding the results to the master dataframe 'df'\n",
    "df = pd.concat([df,ml1], axis=1)"
   ]
  },
  {
   "cell_type": "code",
   "execution_count": 52,
   "id": "06cb8f87",
   "metadata": {
    "ExecuteTime": {
     "end_time": "2022-01-31T20:19:03.237176Z",
     "start_time": "2022-01-31T20:19:03.118178Z"
    }
   },
   "outputs": [
    {
     "data": {
      "text/html": [
       "<div>\n",
       "<style scoped>\n",
       "    .dataframe tbody tr th:only-of-type {\n",
       "        vertical-align: middle;\n",
       "    }\n",
       "\n",
       "    .dataframe tbody tr th {\n",
       "        vertical-align: top;\n",
       "    }\n",
       "\n",
       "    .dataframe thead th {\n",
       "        text-align: right;\n",
       "    }\n",
       "</style>\n",
       "<table border=\"1\" class=\"dataframe\">\n",
       "  <thead>\n",
       "    <tr style=\"text-align: right;\">\n",
       "      <th></th>\n",
       "      <th>Lead Origin</th>\n",
       "      <th>Lead Source</th>\n",
       "      <th>Do Not Email</th>\n",
       "      <th>Converted</th>\n",
       "      <th>TotalVisits</th>\n",
       "      <th>Total Time Spent on Website</th>\n",
       "      <th>Page Views Per Visit</th>\n",
       "      <th>Last Activity</th>\n",
       "      <th>Specialization</th>\n",
       "      <th>What is your current occupation</th>\n",
       "      <th>A free copy of Mastering The Interview</th>\n",
       "      <th>Last Notable Activity</th>\n",
       "      <th>Lead Origin_Landing Page Submission</th>\n",
       "      <th>Lead Origin_Lead Add Form</th>\n",
       "      <th>Lead Origin_Lead Import</th>\n",
       "      <th>Lead Source_Direct Traffic</th>\n",
       "      <th>Lead Source_Facebook</th>\n",
       "      <th>Lead Source_Google</th>\n",
       "      <th>Lead Source_Live Chat</th>\n",
       "      <th>Lead Source_Olark Chat</th>\n",
       "      <th>Lead Source_Organic Search</th>\n",
       "      <th>Lead Source_Pay per Click Ads</th>\n",
       "      <th>Lead Source_Press_Release</th>\n",
       "      <th>Lead Source_Reference</th>\n",
       "      <th>Lead Source_Referral Sites</th>\n",
       "      <th>...</th>\n",
       "      <th>Last Notable Activity_Modified</th>\n",
       "      <th>Last Notable Activity_Olark Chat Conversation</th>\n",
       "      <th>Last Notable Activity_Page Visited on Website</th>\n",
       "      <th>Last Notable Activity_SMS Sent</th>\n",
       "      <th>Last Notable Activity_Unreachable</th>\n",
       "      <th>Last Notable Activity_Unsubscribed</th>\n",
       "      <th>Last Notable Activity_View in browser link Clicked</th>\n",
       "      <th>Specialization_Banking, Investment And Insurance</th>\n",
       "      <th>Specialization_Business Administration</th>\n",
       "      <th>Specialization_E-Business</th>\n",
       "      <th>Specialization_E-COMMERCE</th>\n",
       "      <th>Specialization_Finance Management</th>\n",
       "      <th>Specialization_Healthcare Management</th>\n",
       "      <th>Specialization_Hospitality Management</th>\n",
       "      <th>Specialization_Human Resource Management</th>\n",
       "      <th>Specialization_IT Projects Management</th>\n",
       "      <th>Specialization_International Business</th>\n",
       "      <th>Specialization_Marketing Management</th>\n",
       "      <th>Specialization_Media and Advertising</th>\n",
       "      <th>Specialization_Operations Management</th>\n",
       "      <th>Specialization_Retail Management</th>\n",
       "      <th>Specialization_Rural and Agribusiness</th>\n",
       "      <th>Specialization_Services Excellence</th>\n",
       "      <th>Specialization_Supply Chain Management</th>\n",
       "      <th>Specialization_Travel and Tourism</th>\n",
       "    </tr>\n",
       "  </thead>\n",
       "  <tbody>\n",
       "    <tr>\n",
       "      <th>0</th>\n",
       "      <td>API</td>\n",
       "      <td>Olark Chat</td>\n",
       "      <td>0</td>\n",
       "      <td>0</td>\n",
       "      <td>0.0</td>\n",
       "      <td>0</td>\n",
       "      <td>0.0</td>\n",
       "      <td>Page Visited on Website</td>\n",
       "      <td>Select</td>\n",
       "      <td>Unemployed</td>\n",
       "      <td>0</td>\n",
       "      <td>Modified</td>\n",
       "      <td>0</td>\n",
       "      <td>0</td>\n",
       "      <td>0</td>\n",
       "      <td>0</td>\n",
       "      <td>0</td>\n",
       "      <td>0</td>\n",
       "      <td>0</td>\n",
       "      <td>1</td>\n",
       "      <td>0</td>\n",
       "      <td>0</td>\n",
       "      <td>0</td>\n",
       "      <td>0</td>\n",
       "      <td>0</td>\n",
       "      <td>...</td>\n",
       "      <td>1</td>\n",
       "      <td>0</td>\n",
       "      <td>0</td>\n",
       "      <td>0</td>\n",
       "      <td>0</td>\n",
       "      <td>0</td>\n",
       "      <td>0</td>\n",
       "      <td>0</td>\n",
       "      <td>0</td>\n",
       "      <td>0</td>\n",
       "      <td>0</td>\n",
       "      <td>0</td>\n",
       "      <td>0</td>\n",
       "      <td>0</td>\n",
       "      <td>0</td>\n",
       "      <td>0</td>\n",
       "      <td>0</td>\n",
       "      <td>0</td>\n",
       "      <td>0</td>\n",
       "      <td>0</td>\n",
       "      <td>0</td>\n",
       "      <td>0</td>\n",
       "      <td>0</td>\n",
       "      <td>0</td>\n",
       "      <td>0</td>\n",
       "    </tr>\n",
       "    <tr>\n",
       "      <th>1</th>\n",
       "      <td>API</td>\n",
       "      <td>Organic Search</td>\n",
       "      <td>0</td>\n",
       "      <td>0</td>\n",
       "      <td>5.0</td>\n",
       "      <td>674</td>\n",
       "      <td>2.5</td>\n",
       "      <td>Email Opened</td>\n",
       "      <td>Select</td>\n",
       "      <td>Unemployed</td>\n",
       "      <td>0</td>\n",
       "      <td>Email Opened</td>\n",
       "      <td>0</td>\n",
       "      <td>0</td>\n",
       "      <td>0</td>\n",
       "      <td>0</td>\n",
       "      <td>0</td>\n",
       "      <td>0</td>\n",
       "      <td>0</td>\n",
       "      <td>0</td>\n",
       "      <td>1</td>\n",
       "      <td>0</td>\n",
       "      <td>0</td>\n",
       "      <td>0</td>\n",
       "      <td>0</td>\n",
       "      <td>...</td>\n",
       "      <td>0</td>\n",
       "      <td>0</td>\n",
       "      <td>0</td>\n",
       "      <td>0</td>\n",
       "      <td>0</td>\n",
       "      <td>0</td>\n",
       "      <td>0</td>\n",
       "      <td>0</td>\n",
       "      <td>0</td>\n",
       "      <td>0</td>\n",
       "      <td>0</td>\n",
       "      <td>0</td>\n",
       "      <td>0</td>\n",
       "      <td>0</td>\n",
       "      <td>0</td>\n",
       "      <td>0</td>\n",
       "      <td>0</td>\n",
       "      <td>0</td>\n",
       "      <td>0</td>\n",
       "      <td>0</td>\n",
       "      <td>0</td>\n",
       "      <td>0</td>\n",
       "      <td>0</td>\n",
       "      <td>0</td>\n",
       "      <td>0</td>\n",
       "    </tr>\n",
       "    <tr>\n",
       "      <th>2</th>\n",
       "      <td>Landing Page Submission</td>\n",
       "      <td>Direct Traffic</td>\n",
       "      <td>0</td>\n",
       "      <td>1</td>\n",
       "      <td>2.0</td>\n",
       "      <td>1532</td>\n",
       "      <td>2.0</td>\n",
       "      <td>Email Opened</td>\n",
       "      <td>Business Administration</td>\n",
       "      <td>Student</td>\n",
       "      <td>1</td>\n",
       "      <td>Email Opened</td>\n",
       "      <td>1</td>\n",
       "      <td>0</td>\n",
       "      <td>0</td>\n",
       "      <td>1</td>\n",
       "      <td>0</td>\n",
       "      <td>0</td>\n",
       "      <td>0</td>\n",
       "      <td>0</td>\n",
       "      <td>0</td>\n",
       "      <td>0</td>\n",
       "      <td>0</td>\n",
       "      <td>0</td>\n",
       "      <td>0</td>\n",
       "      <td>...</td>\n",
       "      <td>0</td>\n",
       "      <td>0</td>\n",
       "      <td>0</td>\n",
       "      <td>0</td>\n",
       "      <td>0</td>\n",
       "      <td>0</td>\n",
       "      <td>0</td>\n",
       "      <td>0</td>\n",
       "      <td>1</td>\n",
       "      <td>0</td>\n",
       "      <td>0</td>\n",
       "      <td>0</td>\n",
       "      <td>0</td>\n",
       "      <td>0</td>\n",
       "      <td>0</td>\n",
       "      <td>0</td>\n",
       "      <td>0</td>\n",
       "      <td>0</td>\n",
       "      <td>0</td>\n",
       "      <td>0</td>\n",
       "      <td>0</td>\n",
       "      <td>0</td>\n",
       "      <td>0</td>\n",
       "      <td>0</td>\n",
       "      <td>0</td>\n",
       "    </tr>\n",
       "    <tr>\n",
       "      <th>3</th>\n",
       "      <td>Landing Page Submission</td>\n",
       "      <td>Direct Traffic</td>\n",
       "      <td>0</td>\n",
       "      <td>0</td>\n",
       "      <td>1.0</td>\n",
       "      <td>305</td>\n",
       "      <td>1.0</td>\n",
       "      <td>Unreachable</td>\n",
       "      <td>Media and Advertising</td>\n",
       "      <td>Unemployed</td>\n",
       "      <td>0</td>\n",
       "      <td>Modified</td>\n",
       "      <td>1</td>\n",
       "      <td>0</td>\n",
       "      <td>0</td>\n",
       "      <td>1</td>\n",
       "      <td>0</td>\n",
       "      <td>0</td>\n",
       "      <td>0</td>\n",
       "      <td>0</td>\n",
       "      <td>0</td>\n",
       "      <td>0</td>\n",
       "      <td>0</td>\n",
       "      <td>0</td>\n",
       "      <td>0</td>\n",
       "      <td>...</td>\n",
       "      <td>1</td>\n",
       "      <td>0</td>\n",
       "      <td>0</td>\n",
       "      <td>0</td>\n",
       "      <td>0</td>\n",
       "      <td>0</td>\n",
       "      <td>0</td>\n",
       "      <td>0</td>\n",
       "      <td>0</td>\n",
       "      <td>0</td>\n",
       "      <td>0</td>\n",
       "      <td>0</td>\n",
       "      <td>0</td>\n",
       "      <td>0</td>\n",
       "      <td>0</td>\n",
       "      <td>0</td>\n",
       "      <td>0</td>\n",
       "      <td>0</td>\n",
       "      <td>1</td>\n",
       "      <td>0</td>\n",
       "      <td>0</td>\n",
       "      <td>0</td>\n",
       "      <td>0</td>\n",
       "      <td>0</td>\n",
       "      <td>0</td>\n",
       "    </tr>\n",
       "    <tr>\n",
       "      <th>4</th>\n",
       "      <td>Landing Page Submission</td>\n",
       "      <td>Google</td>\n",
       "      <td>0</td>\n",
       "      <td>1</td>\n",
       "      <td>2.0</td>\n",
       "      <td>1428</td>\n",
       "      <td>1.0</td>\n",
       "      <td>Converted to Lead</td>\n",
       "      <td>Select</td>\n",
       "      <td>Unemployed</td>\n",
       "      <td>0</td>\n",
       "      <td>Modified</td>\n",
       "      <td>1</td>\n",
       "      <td>0</td>\n",
       "      <td>0</td>\n",
       "      <td>0</td>\n",
       "      <td>0</td>\n",
       "      <td>1</td>\n",
       "      <td>0</td>\n",
       "      <td>0</td>\n",
       "      <td>0</td>\n",
       "      <td>0</td>\n",
       "      <td>0</td>\n",
       "      <td>0</td>\n",
       "      <td>0</td>\n",
       "      <td>...</td>\n",
       "      <td>1</td>\n",
       "      <td>0</td>\n",
       "      <td>0</td>\n",
       "      <td>0</td>\n",
       "      <td>0</td>\n",
       "      <td>0</td>\n",
       "      <td>0</td>\n",
       "      <td>0</td>\n",
       "      <td>0</td>\n",
       "      <td>0</td>\n",
       "      <td>0</td>\n",
       "      <td>0</td>\n",
       "      <td>0</td>\n",
       "      <td>0</td>\n",
       "      <td>0</td>\n",
       "      <td>0</td>\n",
       "      <td>0</td>\n",
       "      <td>0</td>\n",
       "      <td>0</td>\n",
       "      <td>0</td>\n",
       "      <td>0</td>\n",
       "      <td>0</td>\n",
       "      <td>0</td>\n",
       "      <td>0</td>\n",
       "      <td>0</td>\n",
       "    </tr>\n",
       "  </tbody>\n",
       "</table>\n",
       "<p>5 rows × 81 columns</p>\n",
       "</div>"
      ],
      "text/plain": [
       "               Lead Origin     Lead Source  Do Not Email  Converted  \\\n",
       "0                      API      Olark Chat             0          0   \n",
       "1                      API  Organic Search             0          0   \n",
       "2  Landing Page Submission  Direct Traffic             0          1   \n",
       "3  Landing Page Submission  Direct Traffic             0          0   \n",
       "4  Landing Page Submission          Google             0          1   \n",
       "\n",
       "   TotalVisits  Total Time Spent on Website  Page Views Per Visit  \\\n",
       "0          0.0                            0                   0.0   \n",
       "1          5.0                          674                   2.5   \n",
       "2          2.0                         1532                   2.0   \n",
       "3          1.0                          305                   1.0   \n",
       "4          2.0                         1428                   1.0   \n",
       "\n",
       "             Last Activity           Specialization  \\\n",
       "0  Page Visited on Website                   Select   \n",
       "1             Email Opened                   Select   \n",
       "2             Email Opened  Business Administration   \n",
       "3              Unreachable    Media and Advertising   \n",
       "4        Converted to Lead                   Select   \n",
       "\n",
       "  What is your current occupation  A free copy of Mastering The Interview  \\\n",
       "0                      Unemployed                                       0   \n",
       "1                      Unemployed                                       0   \n",
       "2                         Student                                       1   \n",
       "3                      Unemployed                                       0   \n",
       "4                      Unemployed                                       0   \n",
       "\n",
       "  Last Notable Activity  Lead Origin_Landing Page Submission  \\\n",
       "0              Modified                                    0   \n",
       "1          Email Opened                                    0   \n",
       "2          Email Opened                                    1   \n",
       "3              Modified                                    1   \n",
       "4              Modified                                    1   \n",
       "\n",
       "   Lead Origin_Lead Add Form  Lead Origin_Lead Import  \\\n",
       "0                          0                        0   \n",
       "1                          0                        0   \n",
       "2                          0                        0   \n",
       "3                          0                        0   \n",
       "4                          0                        0   \n",
       "\n",
       "   Lead Source_Direct Traffic  Lead Source_Facebook  Lead Source_Google  \\\n",
       "0                           0                     0                   0   \n",
       "1                           0                     0                   0   \n",
       "2                           1                     0                   0   \n",
       "3                           1                     0                   0   \n",
       "4                           0                     0                   1   \n",
       "\n",
       "   Lead Source_Live Chat  Lead Source_Olark Chat  Lead Source_Organic Search  \\\n",
       "0                      0                       1                           0   \n",
       "1                      0                       0                           1   \n",
       "2                      0                       0                           0   \n",
       "3                      0                       0                           0   \n",
       "4                      0                       0                           0   \n",
       "\n",
       "   Lead Source_Pay per Click Ads  Lead Source_Press_Release  \\\n",
       "0                              0                          0   \n",
       "1                              0                          0   \n",
       "2                              0                          0   \n",
       "3                              0                          0   \n",
       "4                              0                          0   \n",
       "\n",
       "   Lead Source_Reference  Lead Source_Referral Sites  ...  \\\n",
       "0                      0                           0  ...   \n",
       "1                      0                           0  ...   \n",
       "2                      0                           0  ...   \n",
       "3                      0                           0  ...   \n",
       "4                      0                           0  ...   \n",
       "\n",
       "   Last Notable Activity_Modified  \\\n",
       "0                               1   \n",
       "1                               0   \n",
       "2                               0   \n",
       "3                               1   \n",
       "4                               1   \n",
       "\n",
       "   Last Notable Activity_Olark Chat Conversation  \\\n",
       "0                                              0   \n",
       "1                                              0   \n",
       "2                                              0   \n",
       "3                                              0   \n",
       "4                                              0   \n",
       "\n",
       "   Last Notable Activity_Page Visited on Website  \\\n",
       "0                                              0   \n",
       "1                                              0   \n",
       "2                                              0   \n",
       "3                                              0   \n",
       "4                                              0   \n",
       "\n",
       "   Last Notable Activity_SMS Sent  Last Notable Activity_Unreachable  \\\n",
       "0                               0                                  0   \n",
       "1                               0                                  0   \n",
       "2                               0                                  0   \n",
       "3                               0                                  0   \n",
       "4                               0                                  0   \n",
       "\n",
       "   Last Notable Activity_Unsubscribed  \\\n",
       "0                                   0   \n",
       "1                                   0   \n",
       "2                                   0   \n",
       "3                                   0   \n",
       "4                                   0   \n",
       "\n",
       "   Last Notable Activity_View in browser link Clicked  \\\n",
       "0                                                  0    \n",
       "1                                                  0    \n",
       "2                                                  0    \n",
       "3                                                  0    \n",
       "4                                                  0    \n",
       "\n",
       "   Specialization_Banking, Investment And Insurance  \\\n",
       "0                                                 0   \n",
       "1                                                 0   \n",
       "2                                                 0   \n",
       "3                                                 0   \n",
       "4                                                 0   \n",
       "\n",
       "   Specialization_Business Administration  Specialization_E-Business  \\\n",
       "0                                       0                          0   \n",
       "1                                       0                          0   \n",
       "2                                       1                          0   \n",
       "3                                       0                          0   \n",
       "4                                       0                          0   \n",
       "\n",
       "   Specialization_E-COMMERCE  Specialization_Finance Management  \\\n",
       "0                          0                                  0   \n",
       "1                          0                                  0   \n",
       "2                          0                                  0   \n",
       "3                          0                                  0   \n",
       "4                          0                                  0   \n",
       "\n",
       "   Specialization_Healthcare Management  \\\n",
       "0                                     0   \n",
       "1                                     0   \n",
       "2                                     0   \n",
       "3                                     0   \n",
       "4                                     0   \n",
       "\n",
       "   Specialization_Hospitality Management  \\\n",
       "0                                      0   \n",
       "1                                      0   \n",
       "2                                      0   \n",
       "3                                      0   \n",
       "4                                      0   \n",
       "\n",
       "   Specialization_Human Resource Management  \\\n",
       "0                                         0   \n",
       "1                                         0   \n",
       "2                                         0   \n",
       "3                                         0   \n",
       "4                                         0   \n",
       "\n",
       "   Specialization_IT Projects Management  \\\n",
       "0                                      0   \n",
       "1                                      0   \n",
       "2                                      0   \n",
       "3                                      0   \n",
       "4                                      0   \n",
       "\n",
       "   Specialization_International Business  Specialization_Marketing Management  \\\n",
       "0                                      0                                    0   \n",
       "1                                      0                                    0   \n",
       "2                                      0                                    0   \n",
       "3                                      0                                    0   \n",
       "4                                      0                                    0   \n",
       "\n",
       "   Specialization_Media and Advertising  Specialization_Operations Management  \\\n",
       "0                                     0                                     0   \n",
       "1                                     0                                     0   \n",
       "2                                     0                                     0   \n",
       "3                                     1                                     0   \n",
       "4                                     0                                     0   \n",
       "\n",
       "   Specialization_Retail Management  Specialization_Rural and Agribusiness  \\\n",
       "0                                 0                                      0   \n",
       "1                                 0                                      0   \n",
       "2                                 0                                      0   \n",
       "3                                 0                                      0   \n",
       "4                                 0                                      0   \n",
       "\n",
       "   Specialization_Services Excellence  Specialization_Supply Chain Management  \\\n",
       "0                                   0                                       0   \n",
       "1                                   0                                       0   \n",
       "2                                   0                                       0   \n",
       "3                                   0                                       0   \n",
       "4                                   0                                       0   \n",
       "\n",
       "   Specialization_Travel and Tourism  \n",
       "0                                  0  \n",
       "1                                  0  \n",
       "2                                  0  \n",
       "3                                  0  \n",
       "4                                  0  \n",
       "\n",
       "[5 rows x 81 columns]"
      ]
     },
     "execution_count": 52,
     "metadata": {},
     "output_type": "execute_result"
    }
   ],
   "source": [
    "df.head()"
   ]
  },
  {
   "cell_type": "markdown",
   "id": "8daa23c6",
   "metadata": {},
   "source": [
    "## Drop the categorical variables for which we have created dummies"
   ]
  },
  {
   "cell_type": "code",
   "execution_count": 53,
   "id": "c490d6ae",
   "metadata": {
    "ExecuteTime": {
     "end_time": "2022-01-31T20:19:03.267716Z",
     "start_time": "2022-01-31T20:19:03.241176Z"
    }
   },
   "outputs": [],
   "source": [
    "df.drop(['Lead Origin', 'Lead Source', 'Last Activity', 'Specialization',\n",
    "       'What is your current occupation', 'Last Notable Activity'], axis=1, inplace=True)"
   ]
  },
  {
   "cell_type": "code",
   "execution_count": 54,
   "id": "30193771",
   "metadata": {
    "ExecuteTime": {
     "end_time": "2022-01-31T20:19:03.283181Z",
     "start_time": "2022-01-31T20:19:03.272243Z"
    }
   },
   "outputs": [
    {
     "data": {
      "text/plain": [
       "(6373, 75)"
      ]
     },
     "execution_count": 54,
     "metadata": {},
     "output_type": "execute_result"
    }
   ],
   "source": [
    "df.shape"
   ]
  },
  {
   "cell_type": "code",
   "execution_count": 55,
   "id": "d9b12e8a",
   "metadata": {
    "ExecuteTime": {
     "end_time": "2022-01-31T20:19:03.377356Z",
     "start_time": "2022-01-31T20:19:03.289855Z"
    }
   },
   "outputs": [
    {
     "data": {
      "text/html": [
       "<div>\n",
       "<style scoped>\n",
       "    .dataframe tbody tr th:only-of-type {\n",
       "        vertical-align: middle;\n",
       "    }\n",
       "\n",
       "    .dataframe tbody tr th {\n",
       "        vertical-align: top;\n",
       "    }\n",
       "\n",
       "    .dataframe thead th {\n",
       "        text-align: right;\n",
       "    }\n",
       "</style>\n",
       "<table border=\"1\" class=\"dataframe\">\n",
       "  <thead>\n",
       "    <tr style=\"text-align: right;\">\n",
       "      <th></th>\n",
       "      <th>Do Not Email</th>\n",
       "      <th>Converted</th>\n",
       "      <th>TotalVisits</th>\n",
       "      <th>Total Time Spent on Website</th>\n",
       "      <th>Page Views Per Visit</th>\n",
       "      <th>A free copy of Mastering The Interview</th>\n",
       "      <th>Lead Origin_Landing Page Submission</th>\n",
       "      <th>Lead Origin_Lead Add Form</th>\n",
       "      <th>Lead Origin_Lead Import</th>\n",
       "      <th>Lead Source_Direct Traffic</th>\n",
       "      <th>Lead Source_Facebook</th>\n",
       "      <th>Lead Source_Google</th>\n",
       "      <th>Lead Source_Live Chat</th>\n",
       "      <th>Lead Source_Olark Chat</th>\n",
       "      <th>Lead Source_Organic Search</th>\n",
       "      <th>Lead Source_Pay per Click Ads</th>\n",
       "      <th>Lead Source_Press_Release</th>\n",
       "      <th>Lead Source_Reference</th>\n",
       "      <th>Lead Source_Referral Sites</th>\n",
       "      <th>Lead Source_Social Media</th>\n",
       "      <th>Lead Source_WeLearn</th>\n",
       "      <th>Lead Source_Welingak Website</th>\n",
       "      <th>Lead Source_bing</th>\n",
       "      <th>Lead Source_testone</th>\n",
       "      <th>Last Activity_Converted to Lead</th>\n",
       "      <th>...</th>\n",
       "      <th>Last Notable Activity_Modified</th>\n",
       "      <th>Last Notable Activity_Olark Chat Conversation</th>\n",
       "      <th>Last Notable Activity_Page Visited on Website</th>\n",
       "      <th>Last Notable Activity_SMS Sent</th>\n",
       "      <th>Last Notable Activity_Unreachable</th>\n",
       "      <th>Last Notable Activity_Unsubscribed</th>\n",
       "      <th>Last Notable Activity_View in browser link Clicked</th>\n",
       "      <th>Specialization_Banking, Investment And Insurance</th>\n",
       "      <th>Specialization_Business Administration</th>\n",
       "      <th>Specialization_E-Business</th>\n",
       "      <th>Specialization_E-COMMERCE</th>\n",
       "      <th>Specialization_Finance Management</th>\n",
       "      <th>Specialization_Healthcare Management</th>\n",
       "      <th>Specialization_Hospitality Management</th>\n",
       "      <th>Specialization_Human Resource Management</th>\n",
       "      <th>Specialization_IT Projects Management</th>\n",
       "      <th>Specialization_International Business</th>\n",
       "      <th>Specialization_Marketing Management</th>\n",
       "      <th>Specialization_Media and Advertising</th>\n",
       "      <th>Specialization_Operations Management</th>\n",
       "      <th>Specialization_Retail Management</th>\n",
       "      <th>Specialization_Rural and Agribusiness</th>\n",
       "      <th>Specialization_Services Excellence</th>\n",
       "      <th>Specialization_Supply Chain Management</th>\n",
       "      <th>Specialization_Travel and Tourism</th>\n",
       "    </tr>\n",
       "  </thead>\n",
       "  <tbody>\n",
       "    <tr>\n",
       "      <th>0</th>\n",
       "      <td>0</td>\n",
       "      <td>0</td>\n",
       "      <td>0.0</td>\n",
       "      <td>0</td>\n",
       "      <td>0.0</td>\n",
       "      <td>0</td>\n",
       "      <td>0</td>\n",
       "      <td>0</td>\n",
       "      <td>0</td>\n",
       "      <td>0</td>\n",
       "      <td>0</td>\n",
       "      <td>0</td>\n",
       "      <td>0</td>\n",
       "      <td>1</td>\n",
       "      <td>0</td>\n",
       "      <td>0</td>\n",
       "      <td>0</td>\n",
       "      <td>0</td>\n",
       "      <td>0</td>\n",
       "      <td>0</td>\n",
       "      <td>0</td>\n",
       "      <td>0</td>\n",
       "      <td>0</td>\n",
       "      <td>0</td>\n",
       "      <td>0</td>\n",
       "      <td>...</td>\n",
       "      <td>1</td>\n",
       "      <td>0</td>\n",
       "      <td>0</td>\n",
       "      <td>0</td>\n",
       "      <td>0</td>\n",
       "      <td>0</td>\n",
       "      <td>0</td>\n",
       "      <td>0</td>\n",
       "      <td>0</td>\n",
       "      <td>0</td>\n",
       "      <td>0</td>\n",
       "      <td>0</td>\n",
       "      <td>0</td>\n",
       "      <td>0</td>\n",
       "      <td>0</td>\n",
       "      <td>0</td>\n",
       "      <td>0</td>\n",
       "      <td>0</td>\n",
       "      <td>0</td>\n",
       "      <td>0</td>\n",
       "      <td>0</td>\n",
       "      <td>0</td>\n",
       "      <td>0</td>\n",
       "      <td>0</td>\n",
       "      <td>0</td>\n",
       "    </tr>\n",
       "    <tr>\n",
       "      <th>1</th>\n",
       "      <td>0</td>\n",
       "      <td>0</td>\n",
       "      <td>5.0</td>\n",
       "      <td>674</td>\n",
       "      <td>2.5</td>\n",
       "      <td>0</td>\n",
       "      <td>0</td>\n",
       "      <td>0</td>\n",
       "      <td>0</td>\n",
       "      <td>0</td>\n",
       "      <td>0</td>\n",
       "      <td>0</td>\n",
       "      <td>0</td>\n",
       "      <td>0</td>\n",
       "      <td>1</td>\n",
       "      <td>0</td>\n",
       "      <td>0</td>\n",
       "      <td>0</td>\n",
       "      <td>0</td>\n",
       "      <td>0</td>\n",
       "      <td>0</td>\n",
       "      <td>0</td>\n",
       "      <td>0</td>\n",
       "      <td>0</td>\n",
       "      <td>0</td>\n",
       "      <td>...</td>\n",
       "      <td>0</td>\n",
       "      <td>0</td>\n",
       "      <td>0</td>\n",
       "      <td>0</td>\n",
       "      <td>0</td>\n",
       "      <td>0</td>\n",
       "      <td>0</td>\n",
       "      <td>0</td>\n",
       "      <td>0</td>\n",
       "      <td>0</td>\n",
       "      <td>0</td>\n",
       "      <td>0</td>\n",
       "      <td>0</td>\n",
       "      <td>0</td>\n",
       "      <td>0</td>\n",
       "      <td>0</td>\n",
       "      <td>0</td>\n",
       "      <td>0</td>\n",
       "      <td>0</td>\n",
       "      <td>0</td>\n",
       "      <td>0</td>\n",
       "      <td>0</td>\n",
       "      <td>0</td>\n",
       "      <td>0</td>\n",
       "      <td>0</td>\n",
       "    </tr>\n",
       "    <tr>\n",
       "      <th>2</th>\n",
       "      <td>0</td>\n",
       "      <td>1</td>\n",
       "      <td>2.0</td>\n",
       "      <td>1532</td>\n",
       "      <td>2.0</td>\n",
       "      <td>1</td>\n",
       "      <td>1</td>\n",
       "      <td>0</td>\n",
       "      <td>0</td>\n",
       "      <td>1</td>\n",
       "      <td>0</td>\n",
       "      <td>0</td>\n",
       "      <td>0</td>\n",
       "      <td>0</td>\n",
       "      <td>0</td>\n",
       "      <td>0</td>\n",
       "      <td>0</td>\n",
       "      <td>0</td>\n",
       "      <td>0</td>\n",
       "      <td>0</td>\n",
       "      <td>0</td>\n",
       "      <td>0</td>\n",
       "      <td>0</td>\n",
       "      <td>0</td>\n",
       "      <td>0</td>\n",
       "      <td>...</td>\n",
       "      <td>0</td>\n",
       "      <td>0</td>\n",
       "      <td>0</td>\n",
       "      <td>0</td>\n",
       "      <td>0</td>\n",
       "      <td>0</td>\n",
       "      <td>0</td>\n",
       "      <td>0</td>\n",
       "      <td>1</td>\n",
       "      <td>0</td>\n",
       "      <td>0</td>\n",
       "      <td>0</td>\n",
       "      <td>0</td>\n",
       "      <td>0</td>\n",
       "      <td>0</td>\n",
       "      <td>0</td>\n",
       "      <td>0</td>\n",
       "      <td>0</td>\n",
       "      <td>0</td>\n",
       "      <td>0</td>\n",
       "      <td>0</td>\n",
       "      <td>0</td>\n",
       "      <td>0</td>\n",
       "      <td>0</td>\n",
       "      <td>0</td>\n",
       "    </tr>\n",
       "  </tbody>\n",
       "</table>\n",
       "<p>3 rows × 75 columns</p>\n",
       "</div>"
      ],
      "text/plain": [
       "   Do Not Email  Converted  TotalVisits  Total Time Spent on Website  \\\n",
       "0             0          0          0.0                            0   \n",
       "1             0          0          5.0                          674   \n",
       "2             0          1          2.0                         1532   \n",
       "\n",
       "   Page Views Per Visit  A free copy of Mastering The Interview  \\\n",
       "0                   0.0                                       0   \n",
       "1                   2.5                                       0   \n",
       "2                   2.0                                       1   \n",
       "\n",
       "   Lead Origin_Landing Page Submission  Lead Origin_Lead Add Form  \\\n",
       "0                                    0                          0   \n",
       "1                                    0                          0   \n",
       "2                                    1                          0   \n",
       "\n",
       "   Lead Origin_Lead Import  Lead Source_Direct Traffic  Lead Source_Facebook  \\\n",
       "0                        0                           0                     0   \n",
       "1                        0                           0                     0   \n",
       "2                        0                           1                     0   \n",
       "\n",
       "   Lead Source_Google  Lead Source_Live Chat  Lead Source_Olark Chat  \\\n",
       "0                   0                      0                       1   \n",
       "1                   0                      0                       0   \n",
       "2                   0                      0                       0   \n",
       "\n",
       "   Lead Source_Organic Search  Lead Source_Pay per Click Ads  \\\n",
       "0                           0                              0   \n",
       "1                           1                              0   \n",
       "2                           0                              0   \n",
       "\n",
       "   Lead Source_Press_Release  Lead Source_Reference  \\\n",
       "0                          0                      0   \n",
       "1                          0                      0   \n",
       "2                          0                      0   \n",
       "\n",
       "   Lead Source_Referral Sites  Lead Source_Social Media  Lead Source_WeLearn  \\\n",
       "0                           0                         0                    0   \n",
       "1                           0                         0                    0   \n",
       "2                           0                         0                    0   \n",
       "\n",
       "   Lead Source_Welingak Website  Lead Source_bing  Lead Source_testone  \\\n",
       "0                             0                 0                    0   \n",
       "1                             0                 0                    0   \n",
       "2                             0                 0                    0   \n",
       "\n",
       "   Last Activity_Converted to Lead  ...  Last Notable Activity_Modified  \\\n",
       "0                                0  ...                               1   \n",
       "1                                0  ...                               0   \n",
       "2                                0  ...                               0   \n",
       "\n",
       "   Last Notable Activity_Olark Chat Conversation  \\\n",
       "0                                              0   \n",
       "1                                              0   \n",
       "2                                              0   \n",
       "\n",
       "   Last Notable Activity_Page Visited on Website  \\\n",
       "0                                              0   \n",
       "1                                              0   \n",
       "2                                              0   \n",
       "\n",
       "   Last Notable Activity_SMS Sent  Last Notable Activity_Unreachable  \\\n",
       "0                               0                                  0   \n",
       "1                               0                                  0   \n",
       "2                               0                                  0   \n",
       "\n",
       "   Last Notable Activity_Unsubscribed  \\\n",
       "0                                   0   \n",
       "1                                   0   \n",
       "2                                   0   \n",
       "\n",
       "   Last Notable Activity_View in browser link Clicked  \\\n",
       "0                                                  0    \n",
       "1                                                  0    \n",
       "2                                                  0    \n",
       "\n",
       "   Specialization_Banking, Investment And Insurance  \\\n",
       "0                                                 0   \n",
       "1                                                 0   \n",
       "2                                                 0   \n",
       "\n",
       "   Specialization_Business Administration  Specialization_E-Business  \\\n",
       "0                                       0                          0   \n",
       "1                                       0                          0   \n",
       "2                                       1                          0   \n",
       "\n",
       "   Specialization_E-COMMERCE  Specialization_Finance Management  \\\n",
       "0                          0                                  0   \n",
       "1                          0                                  0   \n",
       "2                          0                                  0   \n",
       "\n",
       "   Specialization_Healthcare Management  \\\n",
       "0                                     0   \n",
       "1                                     0   \n",
       "2                                     0   \n",
       "\n",
       "   Specialization_Hospitality Management  \\\n",
       "0                                      0   \n",
       "1                                      0   \n",
       "2                                      0   \n",
       "\n",
       "   Specialization_Human Resource Management  \\\n",
       "0                                         0   \n",
       "1                                         0   \n",
       "2                                         0   \n",
       "\n",
       "   Specialization_IT Projects Management  \\\n",
       "0                                      0   \n",
       "1                                      0   \n",
       "2                                      0   \n",
       "\n",
       "   Specialization_International Business  Specialization_Marketing Management  \\\n",
       "0                                      0                                    0   \n",
       "1                                      0                                    0   \n",
       "2                                      0                                    0   \n",
       "\n",
       "   Specialization_Media and Advertising  Specialization_Operations Management  \\\n",
       "0                                     0                                     0   \n",
       "1                                     0                                     0   \n",
       "2                                     0                                     0   \n",
       "\n",
       "   Specialization_Retail Management  Specialization_Rural and Agribusiness  \\\n",
       "0                                 0                                      0   \n",
       "1                                 0                                      0   \n",
       "2                                 0                                      0   \n",
       "\n",
       "   Specialization_Services Excellence  Specialization_Supply Chain Management  \\\n",
       "0                                   0                                       0   \n",
       "1                                   0                                       0   \n",
       "2                                   0                                       0   \n",
       "\n",
       "   Specialization_Travel and Tourism  \n",
       "0                                  0  \n",
       "1                                  0  \n",
       "2                                  0  \n",
       "\n",
       "[3 rows x 75 columns]"
      ]
     },
     "execution_count": 55,
     "metadata": {},
     "output_type": "execute_result"
    }
   ],
   "source": [
    "df.head(3)"
   ]
  },
  {
   "cell_type": "markdown",
   "id": "e21c18a9",
   "metadata": {},
   "source": [
    "There are **75** columns post dummy variable creation"
   ]
  },
  {
   "cell_type": "markdown",
   "id": "28ada07c",
   "metadata": {},
   "source": [
    "# Modeling"
   ]
  },
  {
   "cell_type": "code",
   "execution_count": 56,
   "id": "dca6286d",
   "metadata": {
    "ExecuteTime": {
     "end_time": "2022-01-31T20:19:03.393245Z",
     "start_time": "2022-01-31T20:19:03.382244Z"
    }
   },
   "outputs": [],
   "source": [
    "# Add feature variables to X\n",
    "X = df.drop('Converted', axis=1)"
   ]
  },
  {
   "cell_type": "code",
   "execution_count": 57,
   "id": "68c79691",
   "metadata": {
    "ExecuteTime": {
     "end_time": "2022-01-31T20:19:03.408751Z",
     "start_time": "2022-01-31T20:19:03.398180Z"
    }
   },
   "outputs": [],
   "source": [
    "# Add response variable to y\n",
    "y = df['Converted']"
   ]
  },
  {
   "cell_type": "markdown",
   "id": "07c37a37",
   "metadata": {},
   "source": [
    "## Train | Test Split and Scaling"
   ]
  },
  {
   "cell_type": "code",
   "execution_count": 58,
   "id": "23f8c83b",
   "metadata": {
    "ExecuteTime": {
     "end_time": "2022-01-31T20:19:03.997021Z",
     "start_time": "2022-01-31T20:19:03.415753Z"
    }
   },
   "outputs": [],
   "source": [
    "from sklearn.model_selection import train_test_split"
   ]
  },
  {
   "cell_type": "code",
   "execution_count": 59,
   "id": "f58bd495",
   "metadata": {
    "ExecuteTime": {
     "end_time": "2022-01-31T20:19:04.029022Z",
     "start_time": "2022-01-31T20:19:04.001024Z"
    }
   },
   "outputs": [],
   "source": [
    "# Split the data into train and test\n",
    "X_train, X_test, y_train, y_test = train_test_split(X, y, train_size=0.7, test_size=0.3, random_state=100)"
   ]
  },
  {
   "cell_type": "markdown",
   "id": "9d14fc1c",
   "metadata": {},
   "source": [
    "## Feature Scaling (Min Max Scaler)"
   ]
  },
  {
   "cell_type": "code",
   "execution_count": 60,
   "id": "de40175c",
   "metadata": {
    "ExecuteTime": {
     "end_time": "2022-01-31T20:19:04.090777Z",
     "start_time": "2022-01-31T20:19:04.033026Z"
    }
   },
   "outputs": [
    {
     "name": "stdout",
     "output_type": "stream",
     "text": [
      "<class 'pandas.core.frame.DataFrame'>\n",
      "Int64Index: 6373 entries, 0 to 9239\n",
      "Data columns (total 75 columns):\n",
      " #   Column                                                Non-Null Count  Dtype  \n",
      "---  ------                                                --------------  -----  \n",
      " 0   Do Not Email                                          6373 non-null   int64  \n",
      " 1   Converted                                             6373 non-null   int64  \n",
      " 2   TotalVisits                                           6373 non-null   float64\n",
      " 3   Total Time Spent on Website                           6373 non-null   int64  \n",
      " 4   Page Views Per Visit                                  6373 non-null   float64\n",
      " 5   A free copy of Mastering The Interview                6373 non-null   int64  \n",
      " 6   Lead Origin_Landing Page Submission                   6373 non-null   uint8  \n",
      " 7   Lead Origin_Lead Add Form                             6373 non-null   uint8  \n",
      " 8   Lead Origin_Lead Import                               6373 non-null   uint8  \n",
      " 9   Lead Source_Direct Traffic                            6373 non-null   uint8  \n",
      " 10  Lead Source_Facebook                                  6373 non-null   uint8  \n",
      " 11  Lead Source_Google                                    6373 non-null   uint8  \n",
      " 12  Lead Source_Live Chat                                 6373 non-null   uint8  \n",
      " 13  Lead Source_Olark Chat                                6373 non-null   uint8  \n",
      " 14  Lead Source_Organic Search                            6373 non-null   uint8  \n",
      " 15  Lead Source_Pay per Click Ads                         6373 non-null   uint8  \n",
      " 16  Lead Source_Press_Release                             6373 non-null   uint8  \n",
      " 17  Lead Source_Reference                                 6373 non-null   uint8  \n",
      " 18  Lead Source_Referral Sites                            6373 non-null   uint8  \n",
      " 19  Lead Source_Social Media                              6373 non-null   uint8  \n",
      " 20  Lead Source_WeLearn                                   6373 non-null   uint8  \n",
      " 21  Lead Source_Welingak Website                          6373 non-null   uint8  \n",
      " 22  Lead Source_bing                                      6373 non-null   uint8  \n",
      " 23  Lead Source_testone                                   6373 non-null   uint8  \n",
      " 24  Last Activity_Converted to Lead                       6373 non-null   uint8  \n",
      " 25  Last Activity_Email Bounced                           6373 non-null   uint8  \n",
      " 26  Last Activity_Email Link Clicked                      6373 non-null   uint8  \n",
      " 27  Last Activity_Email Marked Spam                       6373 non-null   uint8  \n",
      " 28  Last Activity_Email Opened                            6373 non-null   uint8  \n",
      " 29  Last Activity_Email Received                          6373 non-null   uint8  \n",
      " 30  Last Activity_Form Submitted on Website               6373 non-null   uint8  \n",
      " 31  Last Activity_Had a Phone Conversation                6373 non-null   uint8  \n",
      " 32  Last Activity_Olark Chat Conversation                 6373 non-null   uint8  \n",
      " 33  Last Activity_Page Visited on Website                 6373 non-null   uint8  \n",
      " 34  Last Activity_SMS Sent                                6373 non-null   uint8  \n",
      " 35  Last Activity_Unreachable                             6373 non-null   uint8  \n",
      " 36  Last Activity_Unsubscribed                            6373 non-null   uint8  \n",
      " 37  Last Activity_View in browser link Clicked            6373 non-null   uint8  \n",
      " 38  Last Activity_Visited Booth in Tradeshow              6373 non-null   uint8  \n",
      " 39  What is your current occupation_Housewife             6373 non-null   uint8  \n",
      " 40  What is your current occupation_Other                 6373 non-null   uint8  \n",
      " 41  What is your current occupation_Student               6373 non-null   uint8  \n",
      " 42  What is your current occupation_Unemployed            6373 non-null   uint8  \n",
      " 43  What is your current occupation_Working Professional  6373 non-null   uint8  \n",
      " 44  Last Notable Activity_Email Bounced                   6373 non-null   uint8  \n",
      " 45  Last Notable Activity_Email Link Clicked              6373 non-null   uint8  \n",
      " 46  Last Notable Activity_Email Marked Spam               6373 non-null   uint8  \n",
      " 47  Last Notable Activity_Email Opened                    6373 non-null   uint8  \n",
      " 48  Last Notable Activity_Email Received                  6373 non-null   uint8  \n",
      " 49  Last Notable Activity_Had a Phone Conversation        6373 non-null   uint8  \n",
      " 50  Last Notable Activity_Modified                        6373 non-null   uint8  \n",
      " 51  Last Notable Activity_Olark Chat Conversation         6373 non-null   uint8  \n",
      " 52  Last Notable Activity_Page Visited on Website         6373 non-null   uint8  \n",
      " 53  Last Notable Activity_SMS Sent                        6373 non-null   uint8  \n",
      " 54  Last Notable Activity_Unreachable                     6373 non-null   uint8  \n",
      " 55  Last Notable Activity_Unsubscribed                    6373 non-null   uint8  \n",
      " 56  Last Notable Activity_View in browser link Clicked    6373 non-null   uint8  \n",
      " 57  Specialization_Banking, Investment And Insurance      6373 non-null   uint8  \n",
      " 58  Specialization_Business Administration                6373 non-null   uint8  \n",
      " 59  Specialization_E-Business                             6373 non-null   uint8  \n",
      " 60  Specialization_E-COMMERCE                             6373 non-null   uint8  \n",
      " 61  Specialization_Finance Management                     6373 non-null   uint8  \n",
      " 62  Specialization_Healthcare Management                  6373 non-null   uint8  \n",
      " 63  Specialization_Hospitality Management                 6373 non-null   uint8  \n",
      " 64  Specialization_Human Resource Management              6373 non-null   uint8  \n",
      " 65  Specialization_IT Projects Management                 6373 non-null   uint8  \n",
      " 66  Specialization_International Business                 6373 non-null   uint8  \n",
      " 67  Specialization_Marketing Management                   6373 non-null   uint8  \n",
      " 68  Specialization_Media and Advertising                  6373 non-null   uint8  \n",
      " 69  Specialization_Operations Management                  6373 non-null   uint8  \n",
      " 70  Specialization_Retail Management                      6373 non-null   uint8  \n",
      " 71  Specialization_Rural and Agribusiness                 6373 non-null   uint8  \n",
      " 72  Specialization_Services Excellence                    6373 non-null   uint8  \n",
      " 73  Specialization_Supply Chain Management                6373 non-null   uint8  \n",
      " 74  Specialization_Travel and Tourism                     6373 non-null   uint8  \n",
      "dtypes: float64(2), int64(4), uint8(69)\n",
      "memory usage: 778.0 KB\n"
     ]
    }
   ],
   "source": [
    "df.info()"
   ]
  },
  {
   "cell_type": "code",
   "execution_count": 61,
   "id": "893315ce",
   "metadata": {
    "ExecuteTime": {
     "end_time": "2022-01-31T20:19:04.184169Z",
     "start_time": "2022-01-31T20:19:04.096027Z"
    }
   },
   "outputs": [
    {
     "data": {
      "text/html": [
       "<div>\n",
       "<style scoped>\n",
       "    .dataframe tbody tr th:only-of-type {\n",
       "        vertical-align: middle;\n",
       "    }\n",
       "\n",
       "    .dataframe tbody tr th {\n",
       "        vertical-align: top;\n",
       "    }\n",
       "\n",
       "    .dataframe thead th {\n",
       "        text-align: right;\n",
       "    }\n",
       "</style>\n",
       "<table border=\"1\" class=\"dataframe\">\n",
       "  <thead>\n",
       "    <tr style=\"text-align: right;\">\n",
       "      <th></th>\n",
       "      <th>Do Not Email</th>\n",
       "      <th>Converted</th>\n",
       "      <th>TotalVisits</th>\n",
       "      <th>Total Time Spent on Website</th>\n",
       "      <th>Page Views Per Visit</th>\n",
       "      <th>A free copy of Mastering The Interview</th>\n",
       "      <th>Lead Origin_Landing Page Submission</th>\n",
       "      <th>Lead Origin_Lead Add Form</th>\n",
       "      <th>Lead Origin_Lead Import</th>\n",
       "      <th>Lead Source_Direct Traffic</th>\n",
       "      <th>Lead Source_Facebook</th>\n",
       "      <th>Lead Source_Google</th>\n",
       "      <th>Lead Source_Live Chat</th>\n",
       "      <th>Lead Source_Olark Chat</th>\n",
       "      <th>Lead Source_Organic Search</th>\n",
       "      <th>Lead Source_Pay per Click Ads</th>\n",
       "      <th>Lead Source_Press_Release</th>\n",
       "      <th>Lead Source_Reference</th>\n",
       "      <th>Lead Source_Referral Sites</th>\n",
       "      <th>Lead Source_Social Media</th>\n",
       "      <th>Lead Source_WeLearn</th>\n",
       "      <th>Lead Source_Welingak Website</th>\n",
       "      <th>Lead Source_bing</th>\n",
       "      <th>Lead Source_testone</th>\n",
       "      <th>Last Activity_Converted to Lead</th>\n",
       "      <th>...</th>\n",
       "      <th>Last Notable Activity_Modified</th>\n",
       "      <th>Last Notable Activity_Olark Chat Conversation</th>\n",
       "      <th>Last Notable Activity_Page Visited on Website</th>\n",
       "      <th>Last Notable Activity_SMS Sent</th>\n",
       "      <th>Last Notable Activity_Unreachable</th>\n",
       "      <th>Last Notable Activity_Unsubscribed</th>\n",
       "      <th>Last Notable Activity_View in browser link Clicked</th>\n",
       "      <th>Specialization_Banking, Investment And Insurance</th>\n",
       "      <th>Specialization_Business Administration</th>\n",
       "      <th>Specialization_E-Business</th>\n",
       "      <th>Specialization_E-COMMERCE</th>\n",
       "      <th>Specialization_Finance Management</th>\n",
       "      <th>Specialization_Healthcare Management</th>\n",
       "      <th>Specialization_Hospitality Management</th>\n",
       "      <th>Specialization_Human Resource Management</th>\n",
       "      <th>Specialization_IT Projects Management</th>\n",
       "      <th>Specialization_International Business</th>\n",
       "      <th>Specialization_Marketing Management</th>\n",
       "      <th>Specialization_Media and Advertising</th>\n",
       "      <th>Specialization_Operations Management</th>\n",
       "      <th>Specialization_Retail Management</th>\n",
       "      <th>Specialization_Rural and Agribusiness</th>\n",
       "      <th>Specialization_Services Excellence</th>\n",
       "      <th>Specialization_Supply Chain Management</th>\n",
       "      <th>Specialization_Travel and Tourism</th>\n",
       "    </tr>\n",
       "  </thead>\n",
       "  <tbody>\n",
       "    <tr>\n",
       "      <th>0</th>\n",
       "      <td>0</td>\n",
       "      <td>0</td>\n",
       "      <td>0.0</td>\n",
       "      <td>0</td>\n",
       "      <td>0.0</td>\n",
       "      <td>0</td>\n",
       "      <td>0</td>\n",
       "      <td>0</td>\n",
       "      <td>0</td>\n",
       "      <td>0</td>\n",
       "      <td>0</td>\n",
       "      <td>0</td>\n",
       "      <td>0</td>\n",
       "      <td>1</td>\n",
       "      <td>0</td>\n",
       "      <td>0</td>\n",
       "      <td>0</td>\n",
       "      <td>0</td>\n",
       "      <td>0</td>\n",
       "      <td>0</td>\n",
       "      <td>0</td>\n",
       "      <td>0</td>\n",
       "      <td>0</td>\n",
       "      <td>0</td>\n",
       "      <td>0</td>\n",
       "      <td>...</td>\n",
       "      <td>1</td>\n",
       "      <td>0</td>\n",
       "      <td>0</td>\n",
       "      <td>0</td>\n",
       "      <td>0</td>\n",
       "      <td>0</td>\n",
       "      <td>0</td>\n",
       "      <td>0</td>\n",
       "      <td>0</td>\n",
       "      <td>0</td>\n",
       "      <td>0</td>\n",
       "      <td>0</td>\n",
       "      <td>0</td>\n",
       "      <td>0</td>\n",
       "      <td>0</td>\n",
       "      <td>0</td>\n",
       "      <td>0</td>\n",
       "      <td>0</td>\n",
       "      <td>0</td>\n",
       "      <td>0</td>\n",
       "      <td>0</td>\n",
       "      <td>0</td>\n",
       "      <td>0</td>\n",
       "      <td>0</td>\n",
       "      <td>0</td>\n",
       "    </tr>\n",
       "    <tr>\n",
       "      <th>1</th>\n",
       "      <td>0</td>\n",
       "      <td>0</td>\n",
       "      <td>5.0</td>\n",
       "      <td>674</td>\n",
       "      <td>2.5</td>\n",
       "      <td>0</td>\n",
       "      <td>0</td>\n",
       "      <td>0</td>\n",
       "      <td>0</td>\n",
       "      <td>0</td>\n",
       "      <td>0</td>\n",
       "      <td>0</td>\n",
       "      <td>0</td>\n",
       "      <td>0</td>\n",
       "      <td>1</td>\n",
       "      <td>0</td>\n",
       "      <td>0</td>\n",
       "      <td>0</td>\n",
       "      <td>0</td>\n",
       "      <td>0</td>\n",
       "      <td>0</td>\n",
       "      <td>0</td>\n",
       "      <td>0</td>\n",
       "      <td>0</td>\n",
       "      <td>0</td>\n",
       "      <td>...</td>\n",
       "      <td>0</td>\n",
       "      <td>0</td>\n",
       "      <td>0</td>\n",
       "      <td>0</td>\n",
       "      <td>0</td>\n",
       "      <td>0</td>\n",
       "      <td>0</td>\n",
       "      <td>0</td>\n",
       "      <td>0</td>\n",
       "      <td>0</td>\n",
       "      <td>0</td>\n",
       "      <td>0</td>\n",
       "      <td>0</td>\n",
       "      <td>0</td>\n",
       "      <td>0</td>\n",
       "      <td>0</td>\n",
       "      <td>0</td>\n",
       "      <td>0</td>\n",
       "      <td>0</td>\n",
       "      <td>0</td>\n",
       "      <td>0</td>\n",
       "      <td>0</td>\n",
       "      <td>0</td>\n",
       "      <td>0</td>\n",
       "      <td>0</td>\n",
       "    </tr>\n",
       "    <tr>\n",
       "      <th>2</th>\n",
       "      <td>0</td>\n",
       "      <td>1</td>\n",
       "      <td>2.0</td>\n",
       "      <td>1532</td>\n",
       "      <td>2.0</td>\n",
       "      <td>1</td>\n",
       "      <td>1</td>\n",
       "      <td>0</td>\n",
       "      <td>0</td>\n",
       "      <td>1</td>\n",
       "      <td>0</td>\n",
       "      <td>0</td>\n",
       "      <td>0</td>\n",
       "      <td>0</td>\n",
       "      <td>0</td>\n",
       "      <td>0</td>\n",
       "      <td>0</td>\n",
       "      <td>0</td>\n",
       "      <td>0</td>\n",
       "      <td>0</td>\n",
       "      <td>0</td>\n",
       "      <td>0</td>\n",
       "      <td>0</td>\n",
       "      <td>0</td>\n",
       "      <td>0</td>\n",
       "      <td>...</td>\n",
       "      <td>0</td>\n",
       "      <td>0</td>\n",
       "      <td>0</td>\n",
       "      <td>0</td>\n",
       "      <td>0</td>\n",
       "      <td>0</td>\n",
       "      <td>0</td>\n",
       "      <td>0</td>\n",
       "      <td>1</td>\n",
       "      <td>0</td>\n",
       "      <td>0</td>\n",
       "      <td>0</td>\n",
       "      <td>0</td>\n",
       "      <td>0</td>\n",
       "      <td>0</td>\n",
       "      <td>0</td>\n",
       "      <td>0</td>\n",
       "      <td>0</td>\n",
       "      <td>0</td>\n",
       "      <td>0</td>\n",
       "      <td>0</td>\n",
       "      <td>0</td>\n",
       "      <td>0</td>\n",
       "      <td>0</td>\n",
       "      <td>0</td>\n",
       "    </tr>\n",
       "    <tr>\n",
       "      <th>3</th>\n",
       "      <td>0</td>\n",
       "      <td>0</td>\n",
       "      <td>1.0</td>\n",
       "      <td>305</td>\n",
       "      <td>1.0</td>\n",
       "      <td>0</td>\n",
       "      <td>1</td>\n",
       "      <td>0</td>\n",
       "      <td>0</td>\n",
       "      <td>1</td>\n",
       "      <td>0</td>\n",
       "      <td>0</td>\n",
       "      <td>0</td>\n",
       "      <td>0</td>\n",
       "      <td>0</td>\n",
       "      <td>0</td>\n",
       "      <td>0</td>\n",
       "      <td>0</td>\n",
       "      <td>0</td>\n",
       "      <td>0</td>\n",
       "      <td>0</td>\n",
       "      <td>0</td>\n",
       "      <td>0</td>\n",
       "      <td>0</td>\n",
       "      <td>0</td>\n",
       "      <td>...</td>\n",
       "      <td>1</td>\n",
       "      <td>0</td>\n",
       "      <td>0</td>\n",
       "      <td>0</td>\n",
       "      <td>0</td>\n",
       "      <td>0</td>\n",
       "      <td>0</td>\n",
       "      <td>0</td>\n",
       "      <td>0</td>\n",
       "      <td>0</td>\n",
       "      <td>0</td>\n",
       "      <td>0</td>\n",
       "      <td>0</td>\n",
       "      <td>0</td>\n",
       "      <td>0</td>\n",
       "      <td>0</td>\n",
       "      <td>0</td>\n",
       "      <td>0</td>\n",
       "      <td>1</td>\n",
       "      <td>0</td>\n",
       "      <td>0</td>\n",
       "      <td>0</td>\n",
       "      <td>0</td>\n",
       "      <td>0</td>\n",
       "      <td>0</td>\n",
       "    </tr>\n",
       "    <tr>\n",
       "      <th>4</th>\n",
       "      <td>0</td>\n",
       "      <td>1</td>\n",
       "      <td>2.0</td>\n",
       "      <td>1428</td>\n",
       "      <td>1.0</td>\n",
       "      <td>0</td>\n",
       "      <td>1</td>\n",
       "      <td>0</td>\n",
       "      <td>0</td>\n",
       "      <td>0</td>\n",
       "      <td>0</td>\n",
       "      <td>1</td>\n",
       "      <td>0</td>\n",
       "      <td>0</td>\n",
       "      <td>0</td>\n",
       "      <td>0</td>\n",
       "      <td>0</td>\n",
       "      <td>0</td>\n",
       "      <td>0</td>\n",
       "      <td>0</td>\n",
       "      <td>0</td>\n",
       "      <td>0</td>\n",
       "      <td>0</td>\n",
       "      <td>0</td>\n",
       "      <td>1</td>\n",
       "      <td>...</td>\n",
       "      <td>1</td>\n",
       "      <td>0</td>\n",
       "      <td>0</td>\n",
       "      <td>0</td>\n",
       "      <td>0</td>\n",
       "      <td>0</td>\n",
       "      <td>0</td>\n",
       "      <td>0</td>\n",
       "      <td>0</td>\n",
       "      <td>0</td>\n",
       "      <td>0</td>\n",
       "      <td>0</td>\n",
       "      <td>0</td>\n",
       "      <td>0</td>\n",
       "      <td>0</td>\n",
       "      <td>0</td>\n",
       "      <td>0</td>\n",
       "      <td>0</td>\n",
       "      <td>0</td>\n",
       "      <td>0</td>\n",
       "      <td>0</td>\n",
       "      <td>0</td>\n",
       "      <td>0</td>\n",
       "      <td>0</td>\n",
       "      <td>0</td>\n",
       "    </tr>\n",
       "  </tbody>\n",
       "</table>\n",
       "<p>5 rows × 75 columns</p>\n",
       "</div>"
      ],
      "text/plain": [
       "   Do Not Email  Converted  TotalVisits  Total Time Spent on Website  \\\n",
       "0             0          0          0.0                            0   \n",
       "1             0          0          5.0                          674   \n",
       "2             0          1          2.0                         1532   \n",
       "3             0          0          1.0                          305   \n",
       "4             0          1          2.0                         1428   \n",
       "\n",
       "   Page Views Per Visit  A free copy of Mastering The Interview  \\\n",
       "0                   0.0                                       0   \n",
       "1                   2.5                                       0   \n",
       "2                   2.0                                       1   \n",
       "3                   1.0                                       0   \n",
       "4                   1.0                                       0   \n",
       "\n",
       "   Lead Origin_Landing Page Submission  Lead Origin_Lead Add Form  \\\n",
       "0                                    0                          0   \n",
       "1                                    0                          0   \n",
       "2                                    1                          0   \n",
       "3                                    1                          0   \n",
       "4                                    1                          0   \n",
       "\n",
       "   Lead Origin_Lead Import  Lead Source_Direct Traffic  Lead Source_Facebook  \\\n",
       "0                        0                           0                     0   \n",
       "1                        0                           0                     0   \n",
       "2                        0                           1                     0   \n",
       "3                        0                           1                     0   \n",
       "4                        0                           0                     0   \n",
       "\n",
       "   Lead Source_Google  Lead Source_Live Chat  Lead Source_Olark Chat  \\\n",
       "0                   0                      0                       1   \n",
       "1                   0                      0                       0   \n",
       "2                   0                      0                       0   \n",
       "3                   0                      0                       0   \n",
       "4                   1                      0                       0   \n",
       "\n",
       "   Lead Source_Organic Search  Lead Source_Pay per Click Ads  \\\n",
       "0                           0                              0   \n",
       "1                           1                              0   \n",
       "2                           0                              0   \n",
       "3                           0                              0   \n",
       "4                           0                              0   \n",
       "\n",
       "   Lead Source_Press_Release  Lead Source_Reference  \\\n",
       "0                          0                      0   \n",
       "1                          0                      0   \n",
       "2                          0                      0   \n",
       "3                          0                      0   \n",
       "4                          0                      0   \n",
       "\n",
       "   Lead Source_Referral Sites  Lead Source_Social Media  Lead Source_WeLearn  \\\n",
       "0                           0                         0                    0   \n",
       "1                           0                         0                    0   \n",
       "2                           0                         0                    0   \n",
       "3                           0                         0                    0   \n",
       "4                           0                         0                    0   \n",
       "\n",
       "   Lead Source_Welingak Website  Lead Source_bing  Lead Source_testone  \\\n",
       "0                             0                 0                    0   \n",
       "1                             0                 0                    0   \n",
       "2                             0                 0                    0   \n",
       "3                             0                 0                    0   \n",
       "4                             0                 0                    0   \n",
       "\n",
       "   Last Activity_Converted to Lead  ...  Last Notable Activity_Modified  \\\n",
       "0                                0  ...                               1   \n",
       "1                                0  ...                               0   \n",
       "2                                0  ...                               0   \n",
       "3                                0  ...                               1   \n",
       "4                                1  ...                               1   \n",
       "\n",
       "   Last Notable Activity_Olark Chat Conversation  \\\n",
       "0                                              0   \n",
       "1                                              0   \n",
       "2                                              0   \n",
       "3                                              0   \n",
       "4                                              0   \n",
       "\n",
       "   Last Notable Activity_Page Visited on Website  \\\n",
       "0                                              0   \n",
       "1                                              0   \n",
       "2                                              0   \n",
       "3                                              0   \n",
       "4                                              0   \n",
       "\n",
       "   Last Notable Activity_SMS Sent  Last Notable Activity_Unreachable  \\\n",
       "0                               0                                  0   \n",
       "1                               0                                  0   \n",
       "2                               0                                  0   \n",
       "3                               0                                  0   \n",
       "4                               0                                  0   \n",
       "\n",
       "   Last Notable Activity_Unsubscribed  \\\n",
       "0                                   0   \n",
       "1                                   0   \n",
       "2                                   0   \n",
       "3                                   0   \n",
       "4                                   0   \n",
       "\n",
       "   Last Notable Activity_View in browser link Clicked  \\\n",
       "0                                                  0    \n",
       "1                                                  0    \n",
       "2                                                  0    \n",
       "3                                                  0    \n",
       "4                                                  0    \n",
       "\n",
       "   Specialization_Banking, Investment And Insurance  \\\n",
       "0                                                 0   \n",
       "1                                                 0   \n",
       "2                                                 0   \n",
       "3                                                 0   \n",
       "4                                                 0   \n",
       "\n",
       "   Specialization_Business Administration  Specialization_E-Business  \\\n",
       "0                                       0                          0   \n",
       "1                                       0                          0   \n",
       "2                                       1                          0   \n",
       "3                                       0                          0   \n",
       "4                                       0                          0   \n",
       "\n",
       "   Specialization_E-COMMERCE  Specialization_Finance Management  \\\n",
       "0                          0                                  0   \n",
       "1                          0                                  0   \n",
       "2                          0                                  0   \n",
       "3                          0                                  0   \n",
       "4                          0                                  0   \n",
       "\n",
       "   Specialization_Healthcare Management  \\\n",
       "0                                     0   \n",
       "1                                     0   \n",
       "2                                     0   \n",
       "3                                     0   \n",
       "4                                     0   \n",
       "\n",
       "   Specialization_Hospitality Management  \\\n",
       "0                                      0   \n",
       "1                                      0   \n",
       "2                                      0   \n",
       "3                                      0   \n",
       "4                                      0   \n",
       "\n",
       "   Specialization_Human Resource Management  \\\n",
       "0                                         0   \n",
       "1                                         0   \n",
       "2                                         0   \n",
       "3                                         0   \n",
       "4                                         0   \n",
       "\n",
       "   Specialization_IT Projects Management  \\\n",
       "0                                      0   \n",
       "1                                      0   \n",
       "2                                      0   \n",
       "3                                      0   \n",
       "4                                      0   \n",
       "\n",
       "   Specialization_International Business  Specialization_Marketing Management  \\\n",
       "0                                      0                                    0   \n",
       "1                                      0                                    0   \n",
       "2                                      0                                    0   \n",
       "3                                      0                                    0   \n",
       "4                                      0                                    0   \n",
       "\n",
       "   Specialization_Media and Advertising  Specialization_Operations Management  \\\n",
       "0                                     0                                     0   \n",
       "1                                     0                                     0   \n",
       "2                                     0                                     0   \n",
       "3                                     1                                     0   \n",
       "4                                     0                                     0   \n",
       "\n",
       "   Specialization_Retail Management  Specialization_Rural and Agribusiness  \\\n",
       "0                                 0                                      0   \n",
       "1                                 0                                      0   \n",
       "2                                 0                                      0   \n",
       "3                                 0                                      0   \n",
       "4                                 0                                      0   \n",
       "\n",
       "   Specialization_Services Excellence  Specialization_Supply Chain Management  \\\n",
       "0                                   0                                       0   \n",
       "1                                   0                                       0   \n",
       "2                                   0                                       0   \n",
       "3                                   0                                       0   \n",
       "4                                   0                                       0   \n",
       "\n",
       "   Specialization_Travel and Tourism  \n",
       "0                                  0  \n",
       "1                                  0  \n",
       "2                                  0  \n",
       "3                                  0  \n",
       "4                                  0  \n",
       "\n",
       "[5 rows x 75 columns]"
      ]
     },
     "execution_count": 61,
     "metadata": {},
     "output_type": "execute_result"
    }
   ],
   "source": [
    "df.head()"
   ]
  },
  {
   "cell_type": "code",
   "execution_count": 62,
   "id": "cd4edd71",
   "metadata": {
    "ExecuteTime": {
     "end_time": "2022-01-31T20:19:04.247244Z",
     "start_time": "2022-01-31T20:19:04.188171Z"
    }
   },
   "outputs": [
    {
     "data": {
      "text/html": [
       "<div>\n",
       "<style scoped>\n",
       "    .dataframe tbody tr th:only-of-type {\n",
       "        vertical-align: middle;\n",
       "    }\n",
       "\n",
       "    .dataframe tbody tr th {\n",
       "        vertical-align: top;\n",
       "    }\n",
       "\n",
       "    .dataframe thead th {\n",
       "        text-align: right;\n",
       "    }\n",
       "</style>\n",
       "<table border=\"1\" class=\"dataframe\">\n",
       "  <thead>\n",
       "    <tr style=\"text-align: right;\">\n",
       "      <th></th>\n",
       "      <th>Do Not Email</th>\n",
       "      <th>Converted</th>\n",
       "      <th>TotalVisits</th>\n",
       "      <th>Total Time Spent on Website</th>\n",
       "      <th>Page Views Per Visit</th>\n",
       "      <th>A free copy of Mastering The Interview</th>\n",
       "    </tr>\n",
       "  </thead>\n",
       "  <tbody>\n",
       "    <tr>\n",
       "      <th>0</th>\n",
       "      <td>0</td>\n",
       "      <td>0</td>\n",
       "      <td>0.0</td>\n",
       "      <td>0</td>\n",
       "      <td>0.00</td>\n",
       "      <td>0</td>\n",
       "    </tr>\n",
       "    <tr>\n",
       "      <th>1</th>\n",
       "      <td>0</td>\n",
       "      <td>0</td>\n",
       "      <td>5.0</td>\n",
       "      <td>674</td>\n",
       "      <td>2.50</td>\n",
       "      <td>0</td>\n",
       "    </tr>\n",
       "    <tr>\n",
       "      <th>2</th>\n",
       "      <td>0</td>\n",
       "      <td>1</td>\n",
       "      <td>2.0</td>\n",
       "      <td>1532</td>\n",
       "      <td>2.00</td>\n",
       "      <td>1</td>\n",
       "    </tr>\n",
       "    <tr>\n",
       "      <th>3</th>\n",
       "      <td>0</td>\n",
       "      <td>0</td>\n",
       "      <td>1.0</td>\n",
       "      <td>305</td>\n",
       "      <td>1.00</td>\n",
       "      <td>0</td>\n",
       "    </tr>\n",
       "    <tr>\n",
       "      <th>4</th>\n",
       "      <td>0</td>\n",
       "      <td>1</td>\n",
       "      <td>2.0</td>\n",
       "      <td>1428</td>\n",
       "      <td>1.00</td>\n",
       "      <td>0</td>\n",
       "    </tr>\n",
       "    <tr>\n",
       "      <th>...</th>\n",
       "      <td>...</td>\n",
       "      <td>...</td>\n",
       "      <td>...</td>\n",
       "      <td>...</td>\n",
       "      <td>...</td>\n",
       "      <td>...</td>\n",
       "    </tr>\n",
       "    <tr>\n",
       "      <th>9234</th>\n",
       "      <td>0</td>\n",
       "      <td>1</td>\n",
       "      <td>5.0</td>\n",
       "      <td>210</td>\n",
       "      <td>2.50</td>\n",
       "      <td>0</td>\n",
       "    </tr>\n",
       "    <tr>\n",
       "      <th>9235</th>\n",
       "      <td>1</td>\n",
       "      <td>1</td>\n",
       "      <td>8.0</td>\n",
       "      <td>1845</td>\n",
       "      <td>2.67</td>\n",
       "      <td>0</td>\n",
       "    </tr>\n",
       "    <tr>\n",
       "      <th>9236</th>\n",
       "      <td>0</td>\n",
       "      <td>0</td>\n",
       "      <td>2.0</td>\n",
       "      <td>238</td>\n",
       "      <td>2.00</td>\n",
       "      <td>1</td>\n",
       "    </tr>\n",
       "    <tr>\n",
       "      <th>9237</th>\n",
       "      <td>1</td>\n",
       "      <td>0</td>\n",
       "      <td>2.0</td>\n",
       "      <td>199</td>\n",
       "      <td>2.00</td>\n",
       "      <td>1</td>\n",
       "    </tr>\n",
       "    <tr>\n",
       "      <th>9239</th>\n",
       "      <td>0</td>\n",
       "      <td>1</td>\n",
       "      <td>6.0</td>\n",
       "      <td>1279</td>\n",
       "      <td>3.00</td>\n",
       "      <td>1</td>\n",
       "    </tr>\n",
       "  </tbody>\n",
       "</table>\n",
       "<p>6373 rows × 6 columns</p>\n",
       "</div>"
      ],
      "text/plain": [
       "      Do Not Email  Converted  TotalVisits  Total Time Spent on Website  \\\n",
       "0                0          0          0.0                            0   \n",
       "1                0          0          5.0                          674   \n",
       "2                0          1          2.0                         1532   \n",
       "3                0          0          1.0                          305   \n",
       "4                0          1          2.0                         1428   \n",
       "...            ...        ...          ...                          ...   \n",
       "9234             0          1          5.0                          210   \n",
       "9235             1          1          8.0                         1845   \n",
       "9236             0          0          2.0                          238   \n",
       "9237             1          0          2.0                          199   \n",
       "9239             0          1          6.0                         1279   \n",
       "\n",
       "      Page Views Per Visit  A free copy of Mastering The Interview  \n",
       "0                     0.00                                       0  \n",
       "1                     2.50                                       0  \n",
       "2                     2.00                                       1  \n",
       "3                     1.00                                       0  \n",
       "4                     1.00                                       0  \n",
       "...                    ...                                     ...  \n",
       "9234                  2.50                                       0  \n",
       "9235                  2.67                                       0  \n",
       "9236                  2.00                                       1  \n",
       "9237                  2.00                                       1  \n",
       "9239                  3.00                                       1  \n",
       "\n",
       "[6373 rows x 6 columns]"
      ]
     },
     "execution_count": 62,
     "metadata": {},
     "output_type": "execute_result"
    }
   ],
   "source": [
    "df.select_dtypes(exclude='uint8')"
   ]
  },
  {
   "cell_type": "code",
   "execution_count": 63,
   "id": "e9f5877a",
   "metadata": {
    "ExecuteTime": {
     "end_time": "2022-01-31T20:19:04.263137Z",
     "start_time": "2022-01-31T20:19:04.251046Z"
    }
   },
   "outputs": [
    {
     "name": "stdout",
     "output_type": "stream",
     "text": [
      "['TotalVisits', 'Total Time Spent on Website', 'Page Views Per Visit']\n",
      "3\n"
     ]
    }
   ],
   "source": [
    "# Getting the list of numerical features from df\n",
    "num_feat = ['TotalVisits','Total Time Spent on Website','Page Views Per Visit']\n",
    "print(num_feat)\n",
    "print(len(num_feat))"
   ]
  },
  {
   "cell_type": "code",
   "execution_count": 64,
   "id": "e2c75af1",
   "metadata": {
    "ExecuteTime": {
     "end_time": "2022-01-31T20:19:04.309651Z",
     "start_time": "2022-01-31T20:19:04.267458Z"
    }
   },
   "outputs": [],
   "source": [
    "# Import sklearn library for StandardScaler\n",
    "from sklearn.preprocessing import MinMaxScaler\n",
    "\n",
    "# Instantiate an object of StandardScaler\n",
    "scaler = MinMaxScaler()\n",
    "\n",
    "# Perform fit and transform on the X_train dataset\n",
    "X_train[num_feat] = scaler.fit_transform(X_train[num_feat])\n",
    "\n",
    "# Perform only transform on the X_test dataset\n",
    "X_test[num_feat] = scaler.transform(X_test[num_feat])"
   ]
  },
  {
   "cell_type": "code",
   "execution_count": 65,
   "id": "c0358b64",
   "metadata": {
    "ExecuteTime": {
     "end_time": "2022-01-31T20:19:04.325008Z",
     "start_time": "2022-01-31T20:19:04.313884Z"
    }
   },
   "outputs": [
    {
     "data": {
      "text/plain": [
       "48.093519535540565"
      ]
     },
     "execution_count": 65,
     "metadata": {},
     "output_type": "execute_result"
    }
   ],
   "source": [
    "# Checking Lead Conversion Rate\n",
    "conversion_rate = (sum(df['Converted']) / len(df['Converted'].index)) * 100\n",
    "\n",
    "conversion_rate"
   ]
  },
  {
   "cell_type": "markdown",
   "id": "5b68527a",
   "metadata": {},
   "source": [
    "We have almost ~48% conversion rate"
   ]
  },
  {
   "cell_type": "markdown",
   "id": "316b5ce7",
   "metadata": {},
   "source": [
    "## Looking at Correlations"
   ]
  },
  {
   "cell_type": "code",
   "execution_count": 66,
   "id": "ca2b6eb9",
   "metadata": {
    "ExecuteTime": {
     "end_time": "2022-01-31T20:19:04.670964Z",
     "start_time": "2022-01-31T20:19:04.328651Z"
    }
   },
   "outputs": [
    {
     "data": {
      "text/plain": [
       "array([[ 1.        , -0.14845071,  0.02890004, ...,  0.04273764,\n",
       "        -0.00542174,  0.04871098],\n",
       "       [-0.14845071,  1.        ,  0.00565126, ..., -0.00514155,\n",
       "         0.00578475, -0.01176208],\n",
       "       [ 0.02890004,  0.00565126,  1.        , ...,  0.0151141 ,\n",
       "         0.06338263,  0.06438374],\n",
       "       ...,\n",
       "       [ 0.04273764, -0.00514155,  0.0151141 , ...,  1.        ,\n",
       "        -0.01332675, -0.00970979],\n",
       "       [-0.00542174,  0.00578475,  0.06338263, ..., -0.01332675,\n",
       "         1.        , -0.03285723],\n",
       "       [ 0.04871098, -0.01176208,  0.06438374, ..., -0.00970979,\n",
       "        -0.03285723,  1.        ]])"
      ]
     },
     "execution_count": 66,
     "metadata": {},
     "output_type": "execute_result"
    }
   ],
   "source": [
    "# This is to mask the contents of the uppper half of the heatmap\n",
    "mask = np.array(df.corr())\n",
    "\n",
    "mask"
   ]
  },
  {
   "cell_type": "code",
   "execution_count": 67,
   "id": "9e073f32",
   "metadata": {
    "ExecuteTime": {
     "end_time": "2022-01-31T20:19:05.210048Z",
     "start_time": "2022-01-31T20:19:04.675254Z"
    }
   },
   "outputs": [
    {
     "data": {
      "text/html": [
       "<div>\n",
       "<style scoped>\n",
       "    .dataframe tbody tr th:only-of-type {\n",
       "        vertical-align: middle;\n",
       "    }\n",
       "\n",
       "    .dataframe tbody tr th {\n",
       "        vertical-align: top;\n",
       "    }\n",
       "\n",
       "    .dataframe thead th {\n",
       "        text-align: right;\n",
       "    }\n",
       "</style>\n",
       "<table border=\"1\" class=\"dataframe\">\n",
       "  <thead>\n",
       "    <tr style=\"text-align: right;\">\n",
       "      <th></th>\n",
       "      <th>Do Not Email</th>\n",
       "      <th>Converted</th>\n",
       "      <th>TotalVisits</th>\n",
       "      <th>Total Time Spent on Website</th>\n",
       "      <th>Page Views Per Visit</th>\n",
       "      <th>A free copy of Mastering The Interview</th>\n",
       "      <th>Lead Origin_Landing Page Submission</th>\n",
       "      <th>Lead Origin_Lead Add Form</th>\n",
       "      <th>Lead Origin_Lead Import</th>\n",
       "      <th>Lead Source_Direct Traffic</th>\n",
       "      <th>Lead Source_Facebook</th>\n",
       "      <th>Lead Source_Google</th>\n",
       "      <th>Lead Source_Live Chat</th>\n",
       "      <th>Lead Source_Olark Chat</th>\n",
       "      <th>Lead Source_Organic Search</th>\n",
       "      <th>Lead Source_Pay per Click Ads</th>\n",
       "      <th>Lead Source_Press_Release</th>\n",
       "      <th>Lead Source_Reference</th>\n",
       "      <th>Lead Source_Referral Sites</th>\n",
       "      <th>Lead Source_Social Media</th>\n",
       "      <th>Lead Source_WeLearn</th>\n",
       "      <th>Lead Source_Welingak Website</th>\n",
       "      <th>Lead Source_bing</th>\n",
       "      <th>Lead Source_testone</th>\n",
       "      <th>Last Activity_Converted to Lead</th>\n",
       "      <th>...</th>\n",
       "      <th>Last Notable Activity_Modified</th>\n",
       "      <th>Last Notable Activity_Olark Chat Conversation</th>\n",
       "      <th>Last Notable Activity_Page Visited on Website</th>\n",
       "      <th>Last Notable Activity_SMS Sent</th>\n",
       "      <th>Last Notable Activity_Unreachable</th>\n",
       "      <th>Last Notable Activity_Unsubscribed</th>\n",
       "      <th>Last Notable Activity_View in browser link Clicked</th>\n",
       "      <th>Specialization_Banking, Investment And Insurance</th>\n",
       "      <th>Specialization_Business Administration</th>\n",
       "      <th>Specialization_E-Business</th>\n",
       "      <th>Specialization_E-COMMERCE</th>\n",
       "      <th>Specialization_Finance Management</th>\n",
       "      <th>Specialization_Healthcare Management</th>\n",
       "      <th>Specialization_Hospitality Management</th>\n",
       "      <th>Specialization_Human Resource Management</th>\n",
       "      <th>Specialization_IT Projects Management</th>\n",
       "      <th>Specialization_International Business</th>\n",
       "      <th>Specialization_Marketing Management</th>\n",
       "      <th>Specialization_Media and Advertising</th>\n",
       "      <th>Specialization_Operations Management</th>\n",
       "      <th>Specialization_Retail Management</th>\n",
       "      <th>Specialization_Rural and Agribusiness</th>\n",
       "      <th>Specialization_Services Excellence</th>\n",
       "      <th>Specialization_Supply Chain Management</th>\n",
       "      <th>Specialization_Travel and Tourism</th>\n",
       "    </tr>\n",
       "  </thead>\n",
       "  <tbody>\n",
       "    <tr>\n",
       "      <th>Do Not Email</th>\n",
       "      <td>1.000000</td>\n",
       "      <td>-0.148451</td>\n",
       "      <td>0.028900</td>\n",
       "      <td>-0.054778</td>\n",
       "      <td>0.036723</td>\n",
       "      <td>0.052271</td>\n",
       "      <td>0.081123</td>\n",
       "      <td>-0.027360</td>\n",
       "      <td>-0.017655</td>\n",
       "      <td>0.086261</td>\n",
       "      <td>-0.017980</td>\n",
       "      <td>-0.058344</td>\n",
       "      <td>-0.004796</td>\n",
       "      <td>-0.035661</td>\n",
       "      <td>0.030114</td>\n",
       "      <td>-0.003391</td>\n",
       "      <td>0.046285</td>\n",
       "      <td>-0.034833</td>\n",
       "      <td>-0.012227</td>\n",
       "      <td>-0.004796</td>\n",
       "      <td>-0.003391</td>\n",
       "      <td>0.009698</td>\n",
       "      <td>-0.005874</td>\n",
       "      <td>-0.003391</td>\n",
       "      <td>-0.056334</td>\n",
       "      <td>...</td>\n",
       "      <td>0.077136</td>\n",
       "      <td>-0.006807</td>\n",
       "      <td>0.050062</td>\n",
       "      <td>-0.003515</td>\n",
       "      <td>-0.015930</td>\n",
       "      <td>0.258311</td>\n",
       "      <td>-0.003391</td>\n",
       "      <td>-0.016042</td>\n",
       "      <td>-0.009139</td>\n",
       "      <td>0.023295</td>\n",
       "      <td>0.036547</td>\n",
       "      <td>-0.007458</td>\n",
       "      <td>0.021217</td>\n",
       "      <td>0.015065</td>\n",
       "      <td>-0.017078</td>\n",
       "      <td>0.048816</td>\n",
       "      <td>0.011698</td>\n",
       "      <td>-0.029050</td>\n",
       "      <td>0.011938</td>\n",
       "      <td>-0.012156</td>\n",
       "      <td>0.020802</td>\n",
       "      <td>0.026478</td>\n",
       "      <td>0.042738</td>\n",
       "      <td>-0.005422</td>\n",
       "      <td>0.048711</td>\n",
       "    </tr>\n",
       "    <tr>\n",
       "      <th>Converted</th>\n",
       "      <td>-0.148451</td>\n",
       "      <td>1.000000</td>\n",
       "      <td>0.005651</td>\n",
       "      <td>0.313338</td>\n",
       "      <td>-0.063362</td>\n",
       "      <td>-0.094833</td>\n",
       "      <td>-0.117563</td>\n",
       "      <td>0.288666</td>\n",
       "      <td>-0.019269</td>\n",
       "      <td>-0.133600</td>\n",
       "      <td>-0.021207</td>\n",
       "      <td>0.020205</td>\n",
       "      <td>0.018407</td>\n",
       "      <td>-0.044348</td>\n",
       "      <td>-0.034223</td>\n",
       "      <td>-0.012059</td>\n",
       "      <td>-0.012059</td>\n",
       "      <td>0.243200</td>\n",
       "      <td>-0.023501</td>\n",
       "      <td>0.000676</td>\n",
       "      <td>0.013015</td>\n",
       "      <td>0.144864</td>\n",
       "      <td>-0.006411</td>\n",
       "      <td>-0.012059</td>\n",
       "      <td>-0.138834</td>\n",
       "      <td>...</td>\n",
       "      <td>-0.239572</td>\n",
       "      <td>-0.039205</td>\n",
       "      <td>-0.032219</td>\n",
       "      <td>0.284301</td>\n",
       "      <td>0.050436</td>\n",
       "      <td>-0.026673</td>\n",
       "      <td>-0.012059</td>\n",
       "      <td>0.036229</td>\n",
       "      <td>0.014468</td>\n",
       "      <td>-0.017955</td>\n",
       "      <td>-0.015443</td>\n",
       "      <td>0.027078</td>\n",
       "      <td>0.028249</td>\n",
       "      <td>-0.006080</td>\n",
       "      <td>0.025865</td>\n",
       "      <td>-0.005689</td>\n",
       "      <td>-0.024789</td>\n",
       "      <td>0.049520</td>\n",
       "      <td>-0.000862</td>\n",
       "      <td>0.031349</td>\n",
       "      <td>-0.018603</td>\n",
       "      <td>0.006964</td>\n",
       "      <td>-0.005142</td>\n",
       "      <td>0.005785</td>\n",
       "      <td>-0.011762</td>\n",
       "    </tr>\n",
       "    <tr>\n",
       "      <th>TotalVisits</th>\n",
       "      <td>0.028900</td>\n",
       "      <td>0.005651</td>\n",
       "      <td>1.000000</td>\n",
       "      <td>0.202551</td>\n",
       "      <td>0.489039</td>\n",
       "      <td>0.186583</td>\n",
       "      <td>0.267954</td>\n",
       "      <td>-0.208375</td>\n",
       "      <td>-0.043000</td>\n",
       "      <td>0.075252</td>\n",
       "      <td>-0.042052</td>\n",
       "      <td>0.085306</td>\n",
       "      <td>-0.012720</td>\n",
       "      <td>-0.247963</td>\n",
       "      <td>0.192469</td>\n",
       "      <td>-0.001549</td>\n",
       "      <td>0.005896</td>\n",
       "      <td>-0.180458</td>\n",
       "      <td>0.078163</td>\n",
       "      <td>-0.003946</td>\n",
       "      <td>-0.004031</td>\n",
       "      <td>-0.097011</td>\n",
       "      <td>-0.004116</td>\n",
       "      <td>0.003414</td>\n",
       "      <td>-0.074517</td>\n",
       "      <td>...</td>\n",
       "      <td>-0.088690</td>\n",
       "      <td>-0.004994</td>\n",
       "      <td>0.226728</td>\n",
       "      <td>-0.028923</td>\n",
       "      <td>0.002792</td>\n",
       "      <td>0.001631</td>\n",
       "      <td>0.010859</td>\n",
       "      <td>0.042269</td>\n",
       "      <td>0.035184</td>\n",
       "      <td>0.015248</td>\n",
       "      <td>0.019003</td>\n",
       "      <td>0.031922</td>\n",
       "      <td>0.027640</td>\n",
       "      <td>0.016549</td>\n",
       "      <td>0.032934</td>\n",
       "      <td>0.025182</td>\n",
       "      <td>0.028630</td>\n",
       "      <td>-0.000493</td>\n",
       "      <td>0.038725</td>\n",
       "      <td>0.008929</td>\n",
       "      <td>0.014223</td>\n",
       "      <td>0.068015</td>\n",
       "      <td>0.015114</td>\n",
       "      <td>0.063383</td>\n",
       "      <td>0.064384</td>\n",
       "    </tr>\n",
       "    <tr>\n",
       "      <th>Total Time Spent on Website</th>\n",
       "      <td>-0.054778</td>\n",
       "      <td>0.313338</td>\n",
       "      <td>0.202551</td>\n",
       "      <td>1.000000</td>\n",
       "      <td>0.303870</td>\n",
       "      <td>0.154256</td>\n",
       "      <td>0.275606</td>\n",
       "      <td>-0.249493</td>\n",
       "      <td>-0.061429</td>\n",
       "      <td>0.114088</td>\n",
       "      <td>-0.060945</td>\n",
       "      <td>0.227496</td>\n",
       "      <td>-0.016774</td>\n",
       "      <td>-0.320143</td>\n",
       "      <td>0.078956</td>\n",
       "      <td>-0.009090</td>\n",
       "      <td>-0.003927</td>\n",
       "      <td>-0.214864</td>\n",
       "      <td>0.017643</td>\n",
       "      <td>0.000557</td>\n",
       "      <td>0.014377</td>\n",
       "      <td>-0.119563</td>\n",
       "      <td>-0.012549</td>\n",
       "      <td>-0.005124</td>\n",
       "      <td>-0.024604</td>\n",
       "      <td>...</td>\n",
       "      <td>-0.107230</td>\n",
       "      <td>-0.009837</td>\n",
       "      <td>0.035147</td>\n",
       "      <td>0.082950</td>\n",
       "      <td>0.010331</td>\n",
       "      <td>0.001504</td>\n",
       "      <td>-0.009888</td>\n",
       "      <td>0.027925</td>\n",
       "      <td>0.051841</td>\n",
       "      <td>0.003934</td>\n",
       "      <td>-0.004325</td>\n",
       "      <td>0.060133</td>\n",
       "      <td>0.021332</td>\n",
       "      <td>0.026204</td>\n",
       "      <td>0.038074</td>\n",
       "      <td>0.025526</td>\n",
       "      <td>0.011056</td>\n",
       "      <td>0.052437</td>\n",
       "      <td>0.043356</td>\n",
       "      <td>0.050860</td>\n",
       "      <td>0.024919</td>\n",
       "      <td>0.018767</td>\n",
       "      <td>0.003203</td>\n",
       "      <td>0.045386</td>\n",
       "      <td>0.037867</td>\n",
       "    </tr>\n",
       "    <tr>\n",
       "      <th>Page Views Per Visit</th>\n",
       "      <td>0.036723</td>\n",
       "      <td>-0.063362</td>\n",
       "      <td>0.489039</td>\n",
       "      <td>0.303870</td>\n",
       "      <td>1.000000</td>\n",
       "      <td>0.251474</td>\n",
       "      <td>0.458168</td>\n",
       "      <td>-0.340185</td>\n",
       "      <td>-0.065739</td>\n",
       "      <td>0.109785</td>\n",
       "      <td>-0.062896</td>\n",
       "      <td>0.183735</td>\n",
       "      <td>-0.020279</td>\n",
       "      <td>-0.423570</td>\n",
       "      <td>0.301139</td>\n",
       "      <td>0.003003</td>\n",
       "      <td>0.020345</td>\n",
       "      <td>-0.293623</td>\n",
       "      <td>0.085383</td>\n",
       "      <td>0.000160</td>\n",
       "      <td>-0.002777</td>\n",
       "      <td>-0.157186</td>\n",
       "      <td>-0.001473</td>\n",
       "      <td>0.000113</td>\n",
       "      <td>-0.071321</td>\n",
       "      <td>...</td>\n",
       "      <td>-0.075318</td>\n",
       "      <td>-0.042338</td>\n",
       "      <td>0.017507</td>\n",
       "      <td>0.031327</td>\n",
       "      <td>0.015233</td>\n",
       "      <td>0.028551</td>\n",
       "      <td>0.001096</td>\n",
       "      <td>0.074643</td>\n",
       "      <td>0.034366</td>\n",
       "      <td>0.036748</td>\n",
       "      <td>0.039288</td>\n",
       "      <td>0.062656</td>\n",
       "      <td>0.031647</td>\n",
       "      <td>0.025231</td>\n",
       "      <td>0.049113</td>\n",
       "      <td>0.062421</td>\n",
       "      <td>0.057990</td>\n",
       "      <td>0.017799</td>\n",
       "      <td>0.063772</td>\n",
       "      <td>0.030364</td>\n",
       "      <td>0.026099</td>\n",
       "      <td>0.027465</td>\n",
       "      <td>0.015230</td>\n",
       "      <td>0.052972</td>\n",
       "      <td>0.111284</td>\n",
       "    </tr>\n",
       "  </tbody>\n",
       "</table>\n",
       "<p>5 rows × 75 columns</p>\n",
       "</div>"
      ],
      "text/plain": [
       "                             Do Not Email  Converted  TotalVisits  \\\n",
       "Do Not Email                     1.000000  -0.148451     0.028900   \n",
       "Converted                       -0.148451   1.000000     0.005651   \n",
       "TotalVisits                      0.028900   0.005651     1.000000   \n",
       "Total Time Spent on Website     -0.054778   0.313338     0.202551   \n",
       "Page Views Per Visit             0.036723  -0.063362     0.489039   \n",
       "\n",
       "                             Total Time Spent on Website  \\\n",
       "Do Not Email                                   -0.054778   \n",
       "Converted                                       0.313338   \n",
       "TotalVisits                                     0.202551   \n",
       "Total Time Spent on Website                     1.000000   \n",
       "Page Views Per Visit                            0.303870   \n",
       "\n",
       "                             Page Views Per Visit  \\\n",
       "Do Not Email                             0.036723   \n",
       "Converted                               -0.063362   \n",
       "TotalVisits                              0.489039   \n",
       "Total Time Spent on Website              0.303870   \n",
       "Page Views Per Visit                     1.000000   \n",
       "\n",
       "                             A free copy of Mastering The Interview  \\\n",
       "Do Not Email                                               0.052271   \n",
       "Converted                                                 -0.094833   \n",
       "TotalVisits                                                0.186583   \n",
       "Total Time Spent on Website                                0.154256   \n",
       "Page Views Per Visit                                       0.251474   \n",
       "\n",
       "                             Lead Origin_Landing Page Submission  \\\n",
       "Do Not Email                                            0.081123   \n",
       "Converted                                              -0.117563   \n",
       "TotalVisits                                             0.267954   \n",
       "Total Time Spent on Website                             0.275606   \n",
       "Page Views Per Visit                                    0.458168   \n",
       "\n",
       "                             Lead Origin_Lead Add Form  \\\n",
       "Do Not Email                                 -0.027360   \n",
       "Converted                                     0.288666   \n",
       "TotalVisits                                  -0.208375   \n",
       "Total Time Spent on Website                  -0.249493   \n",
       "Page Views Per Visit                         -0.340185   \n",
       "\n",
       "                             Lead Origin_Lead Import  \\\n",
       "Do Not Email                               -0.017655   \n",
       "Converted                                  -0.019269   \n",
       "TotalVisits                                -0.043000   \n",
       "Total Time Spent on Website                -0.061429   \n",
       "Page Views Per Visit                       -0.065739   \n",
       "\n",
       "                             Lead Source_Direct Traffic  Lead Source_Facebook  \\\n",
       "Do Not Email                                   0.086261             -0.017980   \n",
       "Converted                                     -0.133600             -0.021207   \n",
       "TotalVisits                                    0.075252             -0.042052   \n",
       "Total Time Spent on Website                    0.114088             -0.060945   \n",
       "Page Views Per Visit                           0.109785             -0.062896   \n",
       "\n",
       "                             Lead Source_Google  Lead Source_Live Chat  \\\n",
       "Do Not Email                          -0.058344              -0.004796   \n",
       "Converted                              0.020205               0.018407   \n",
       "TotalVisits                            0.085306              -0.012720   \n",
       "Total Time Spent on Website            0.227496              -0.016774   \n",
       "Page Views Per Visit                   0.183735              -0.020279   \n",
       "\n",
       "                             Lead Source_Olark Chat  \\\n",
       "Do Not Email                              -0.035661   \n",
       "Converted                                 -0.044348   \n",
       "TotalVisits                               -0.247963   \n",
       "Total Time Spent on Website               -0.320143   \n",
       "Page Views Per Visit                      -0.423570   \n",
       "\n",
       "                             Lead Source_Organic Search  \\\n",
       "Do Not Email                                   0.030114   \n",
       "Converted                                     -0.034223   \n",
       "TotalVisits                                    0.192469   \n",
       "Total Time Spent on Website                    0.078956   \n",
       "Page Views Per Visit                           0.301139   \n",
       "\n",
       "                             Lead Source_Pay per Click Ads  \\\n",
       "Do Not Email                                     -0.003391   \n",
       "Converted                                        -0.012059   \n",
       "TotalVisits                                      -0.001549   \n",
       "Total Time Spent on Website                      -0.009090   \n",
       "Page Views Per Visit                              0.003003   \n",
       "\n",
       "                             Lead Source_Press_Release  Lead Source_Reference  \\\n",
       "Do Not Email                                  0.046285              -0.034833   \n",
       "Converted                                    -0.012059               0.243200   \n",
       "TotalVisits                                   0.005896              -0.180458   \n",
       "Total Time Spent on Website                  -0.003927              -0.214864   \n",
       "Page Views Per Visit                          0.020345              -0.293623   \n",
       "\n",
       "                             Lead Source_Referral Sites  \\\n",
       "Do Not Email                                  -0.012227   \n",
       "Converted                                     -0.023501   \n",
       "TotalVisits                                    0.078163   \n",
       "Total Time Spent on Website                    0.017643   \n",
       "Page Views Per Visit                           0.085383   \n",
       "\n",
       "                             Lead Source_Social Media  Lead Source_WeLearn  \\\n",
       "Do Not Email                                -0.004796            -0.003391   \n",
       "Converted                                    0.000676             0.013015   \n",
       "TotalVisits                                 -0.003946            -0.004031   \n",
       "Total Time Spent on Website                  0.000557             0.014377   \n",
       "Page Views Per Visit                         0.000160            -0.002777   \n",
       "\n",
       "                             Lead Source_Welingak Website  Lead Source_bing  \\\n",
       "Do Not Email                                     0.009698         -0.005874   \n",
       "Converted                                        0.144864         -0.006411   \n",
       "TotalVisits                                     -0.097011         -0.004116   \n",
       "Total Time Spent on Website                     -0.119563         -0.012549   \n",
       "Page Views Per Visit                            -0.157186         -0.001473   \n",
       "\n",
       "                             Lead Source_testone  \\\n",
       "Do Not Email                           -0.003391   \n",
       "Converted                              -0.012059   \n",
       "TotalVisits                             0.003414   \n",
       "Total Time Spent on Website            -0.005124   \n",
       "Page Views Per Visit                    0.000113   \n",
       "\n",
       "                             Last Activity_Converted to Lead  ...  \\\n",
       "Do Not Email                                       -0.056334  ...   \n",
       "Converted                                          -0.138834  ...   \n",
       "TotalVisits                                        -0.074517  ...   \n",
       "Total Time Spent on Website                        -0.024604  ...   \n",
       "Page Views Per Visit                               -0.071321  ...   \n",
       "\n",
       "                             Last Notable Activity_Modified  \\\n",
       "Do Not Email                                       0.077136   \n",
       "Converted                                         -0.239572   \n",
       "TotalVisits                                       -0.088690   \n",
       "Total Time Spent on Website                       -0.107230   \n",
       "Page Views Per Visit                              -0.075318   \n",
       "\n",
       "                             Last Notable Activity_Olark Chat Conversation  \\\n",
       "Do Not Email                                                     -0.006807   \n",
       "Converted                                                        -0.039205   \n",
       "TotalVisits                                                      -0.004994   \n",
       "Total Time Spent on Website                                      -0.009837   \n",
       "Page Views Per Visit                                             -0.042338   \n",
       "\n",
       "                             Last Notable Activity_Page Visited on Website  \\\n",
       "Do Not Email                                                      0.050062   \n",
       "Converted                                                        -0.032219   \n",
       "TotalVisits                                                       0.226728   \n",
       "Total Time Spent on Website                                       0.035147   \n",
       "Page Views Per Visit                                              0.017507   \n",
       "\n",
       "                             Last Notable Activity_SMS Sent  \\\n",
       "Do Not Email                                      -0.003515   \n",
       "Converted                                          0.284301   \n",
       "TotalVisits                                       -0.028923   \n",
       "Total Time Spent on Website                        0.082950   \n",
       "Page Views Per Visit                               0.031327   \n",
       "\n",
       "                             Last Notable Activity_Unreachable  \\\n",
       "Do Not Email                                         -0.015930   \n",
       "Converted                                             0.050436   \n",
       "TotalVisits                                           0.002792   \n",
       "Total Time Spent on Website                           0.010331   \n",
       "Page Views Per Visit                                  0.015233   \n",
       "\n",
       "                             Last Notable Activity_Unsubscribed  \\\n",
       "Do Not Email                                           0.258311   \n",
       "Converted                                             -0.026673   \n",
       "TotalVisits                                            0.001631   \n",
       "Total Time Spent on Website                            0.001504   \n",
       "Page Views Per Visit                                   0.028551   \n",
       "\n",
       "                             Last Notable Activity_View in browser link Clicked  \\\n",
       "Do Not Email                                                         -0.003391    \n",
       "Converted                                                            -0.012059    \n",
       "TotalVisits                                                           0.010859    \n",
       "Total Time Spent on Website                                          -0.009888    \n",
       "Page Views Per Visit                                                  0.001096    \n",
       "\n",
       "                             Specialization_Banking, Investment And Insurance  \\\n",
       "Do Not Email                                                        -0.016042   \n",
       "Converted                                                            0.036229   \n",
       "TotalVisits                                                          0.042269   \n",
       "Total Time Spent on Website                                          0.027925   \n",
       "Page Views Per Visit                                                 0.074643   \n",
       "\n",
       "                             Specialization_Business Administration  \\\n",
       "Do Not Email                                              -0.009139   \n",
       "Converted                                                  0.014468   \n",
       "TotalVisits                                                0.035184   \n",
       "Total Time Spent on Website                                0.051841   \n",
       "Page Views Per Visit                                       0.034366   \n",
       "\n",
       "                             Specialization_E-Business  \\\n",
       "Do Not Email                                  0.023295   \n",
       "Converted                                    -0.017955   \n",
       "TotalVisits                                   0.015248   \n",
       "Total Time Spent on Website                   0.003934   \n",
       "Page Views Per Visit                          0.036748   \n",
       "\n",
       "                             Specialization_E-COMMERCE  \\\n",
       "Do Not Email                                  0.036547   \n",
       "Converted                                    -0.015443   \n",
       "TotalVisits                                   0.019003   \n",
       "Total Time Spent on Website                  -0.004325   \n",
       "Page Views Per Visit                          0.039288   \n",
       "\n",
       "                             Specialization_Finance Management  \\\n",
       "Do Not Email                                         -0.007458   \n",
       "Converted                                             0.027078   \n",
       "TotalVisits                                           0.031922   \n",
       "Total Time Spent on Website                           0.060133   \n",
       "Page Views Per Visit                                  0.062656   \n",
       "\n",
       "                             Specialization_Healthcare Management  \\\n",
       "Do Not Email                                             0.021217   \n",
       "Converted                                                0.028249   \n",
       "TotalVisits                                              0.027640   \n",
       "Total Time Spent on Website                              0.021332   \n",
       "Page Views Per Visit                                     0.031647   \n",
       "\n",
       "                             Specialization_Hospitality Management  \\\n",
       "Do Not Email                                              0.015065   \n",
       "Converted                                                -0.006080   \n",
       "TotalVisits                                               0.016549   \n",
       "Total Time Spent on Website                               0.026204   \n",
       "Page Views Per Visit                                      0.025231   \n",
       "\n",
       "                             Specialization_Human Resource Management  \\\n",
       "Do Not Email                                                -0.017078   \n",
       "Converted                                                    0.025865   \n",
       "TotalVisits                                                  0.032934   \n",
       "Total Time Spent on Website                                  0.038074   \n",
       "Page Views Per Visit                                         0.049113   \n",
       "\n",
       "                             Specialization_IT Projects Management  \\\n",
       "Do Not Email                                              0.048816   \n",
       "Converted                                                -0.005689   \n",
       "TotalVisits                                               0.025182   \n",
       "Total Time Spent on Website                               0.025526   \n",
       "Page Views Per Visit                                      0.062421   \n",
       "\n",
       "                             Specialization_International Business  \\\n",
       "Do Not Email                                              0.011698   \n",
       "Converted                                                -0.024789   \n",
       "TotalVisits                                               0.028630   \n",
       "Total Time Spent on Website                               0.011056   \n",
       "Page Views Per Visit                                      0.057990   \n",
       "\n",
       "                             Specialization_Marketing Management  \\\n",
       "Do Not Email                                           -0.029050   \n",
       "Converted                                               0.049520   \n",
       "TotalVisits                                            -0.000493   \n",
       "Total Time Spent on Website                             0.052437   \n",
       "Page Views Per Visit                                    0.017799   \n",
       "\n",
       "                             Specialization_Media and Advertising  \\\n",
       "Do Not Email                                             0.011938   \n",
       "Converted                                               -0.000862   \n",
       "TotalVisits                                              0.038725   \n",
       "Total Time Spent on Website                              0.043356   \n",
       "Page Views Per Visit                                     0.063772   \n",
       "\n",
       "                             Specialization_Operations Management  \\\n",
       "Do Not Email                                            -0.012156   \n",
       "Converted                                                0.031349   \n",
       "TotalVisits                                              0.008929   \n",
       "Total Time Spent on Website                              0.050860   \n",
       "Page Views Per Visit                                     0.030364   \n",
       "\n",
       "                             Specialization_Retail Management  \\\n",
       "Do Not Email                                         0.020802   \n",
       "Converted                                           -0.018603   \n",
       "TotalVisits                                          0.014223   \n",
       "Total Time Spent on Website                          0.024919   \n",
       "Page Views Per Visit                                 0.026099   \n",
       "\n",
       "                             Specialization_Rural and Agribusiness  \\\n",
       "Do Not Email                                              0.026478   \n",
       "Converted                                                 0.006964   \n",
       "TotalVisits                                               0.068015   \n",
       "Total Time Spent on Website                               0.018767   \n",
       "Page Views Per Visit                                      0.027465   \n",
       "\n",
       "                             Specialization_Services Excellence  \\\n",
       "Do Not Email                                           0.042738   \n",
       "Converted                                             -0.005142   \n",
       "TotalVisits                                            0.015114   \n",
       "Total Time Spent on Website                            0.003203   \n",
       "Page Views Per Visit                                   0.015230   \n",
       "\n",
       "                             Specialization_Supply Chain Management  \\\n",
       "Do Not Email                                              -0.005422   \n",
       "Converted                                                  0.005785   \n",
       "TotalVisits                                                0.063383   \n",
       "Total Time Spent on Website                                0.045386   \n",
       "Page Views Per Visit                                       0.052972   \n",
       "\n",
       "                             Specialization_Travel and Tourism  \n",
       "Do Not Email                                          0.048711  \n",
       "Converted                                            -0.011762  \n",
       "TotalVisits                                           0.064384  \n",
       "Total Time Spent on Website                           0.037867  \n",
       "Page Views Per Visit                                  0.111284  \n",
       "\n",
       "[5 rows x 75 columns]"
      ]
     },
     "execution_count": 67,
     "metadata": {},
     "output_type": "execute_result"
    }
   ],
   "source": [
    "corr_df1 = df.corr()\n",
    "corr_df1.head()"
   ]
  },
  {
   "cell_type": "code",
   "execution_count": 68,
   "id": "d98e0895",
   "metadata": {
    "ExecuteTime": {
     "end_time": "2022-01-31T20:19:25.536046Z",
     "start_time": "2022-01-31T20:19:05.214791Z"
    }
   },
   "outputs": [
    {
     "data": {
      "image/png": "[encoded data removed]",
      "text/plain": [
       "<Figure size 2000x1200 with 2 Axes>"
      ]
     },
     "metadata": {
      "needs_background": "light"
     },
     "output_type": "display_data"
    }
   ],
   "source": [
    "# Looking at places where the correlation is above 60%\n",
    "plt.figure(figsize = (20,12),dpi=100)\n",
    "mask[np.tril_indices_from(mask)] = False\n",
    "sns.heatmap(data = corr_df1[(corr_df1 >= 0.6) & (corr_df1 <= 0.9999)], annot = True, \n",
    "            cmap = \"RdYlGn\", cbar = True, fmt='.2f', mask=mask)\n",
    "plt.show()"
   ]
  },
  {
   "cell_type": "markdown",
   "id": "aa24d84c",
   "metadata": {},
   "source": [
    "Getting the list of columns with 60% or above correlations"
   ]
  },
  {
   "cell_type": "code",
   "execution_count": 69,
   "id": "8593f6ce",
   "metadata": {
    "ExecuteTime": {
     "end_time": "2022-01-31T20:19:25.709994Z",
     "start_time": "2022-01-31T20:19:25.557993Z"
    }
   },
   "outputs": [
    {
     "data": {
      "text/plain": [
       "Lead Origin_Lead Import                         Lead Source_Facebook                              0.981903\n",
       "Lead Source_Facebook                            Lead Origin_Lead Import                           0.981903\n",
       "Last Activity_SMS Sent                          Last Notable Activity_SMS Sent                    0.890591\n",
       "Last Notable Activity_SMS Sent                  Last Activity_SMS Sent                            0.890591\n",
       "Last Activity_Unsubscribed                      Last Notable Activity_Unsubscribed                0.879716\n",
       "Last Notable Activity_Unsubscribed              Last Activity_Unsubscribed                        0.879716\n",
       "Last Activity_Email Opened                      Last Notable Activity_Email Opened                0.866192\n",
       "Last Notable Activity_Email Opened              Last Activity_Email Opened                        0.866192\n",
       "Lead Source_Reference                           Lead Origin_Lead Add Form                         0.862980\n",
       "Lead Origin_Lead Add Form                       Lead Source_Reference                             0.862980\n",
       "Last Activity_Email Link Clicked                Last Notable Activity_Email Link Clicked          0.781836\n",
       "Last Notable Activity_Email Link Clicked        Last Activity_Email Link Clicked                  0.781836\n",
       "Last Activity_Had a Phone Conversation          Last Notable Activity_Had a Phone Conversation    0.751218\n",
       "Last Notable Activity_Had a Phone Conversation  Last Activity_Had a Phone Conversation            0.751218\n",
       "Last Activity_Email Received                    Last Notable Activity_Email Received              0.707051\n",
       "Last Notable Activity_Email Received            Last Activity_Email Received                      0.707051\n",
       "Last Activity_Page Visited on Website           Last Notable Activity_Page Visited on Website     0.693902\n",
       "Last Notable Activity_Page Visited on Website   Last Activity_Page Visited on Website             0.693902\n",
       "dtype: float64"
      ]
     },
     "execution_count": 69,
     "metadata": {},
     "output_type": "execute_result"
    }
   ],
   "source": [
    "corr_df1[(corr_df1 >= 0.6) & (corr_df1 <= 0.9999)].unstack().sort_values(ascending = False).head(18)"
   ]
  },
  {
   "cell_type": "markdown",
   "id": "56c54e87",
   "metadata": {},
   "source": [
    "# Model Building"
   ]
  },
  {
   "cell_type": "markdown",
   "id": "d2277fce",
   "metadata": {},
   "source": [
    "As the dataset has **74** feature variables, we will get a subset of 15 important features using RFE. Before that, let's look at the model with all variables"
   ]
  },
  {
   "cell_type": "markdown",
   "id": "4b85b63a",
   "metadata": {},
   "source": [
    "## Model 1\n",
    "Assessing the model with statsmodels"
   ]
  },
  {
   "cell_type": "code",
   "execution_count": 70,
   "id": "352e41c0",
   "metadata": {
    "ExecuteTime": {
     "end_time": "2022-01-31T20:19:34.028171Z",
     "start_time": "2022-01-31T20:19:25.720993Z"
    }
   },
   "outputs": [],
   "source": [
    "# Import library from statsmodels\n",
    "import statsmodels.api as sm"
   ]
  },
  {
   "cell_type": "code",
   "execution_count": 71,
   "id": "37d00e54",
   "metadata": {
    "ExecuteTime": {
     "end_time": "2022-01-31T20:19:36.224773Z",
     "start_time": "2022-01-31T20:19:34.032393Z"
    }
   },
   "outputs": [],
   "source": [
    "logm1 = sm.GLM(y_train, (sm.add_constant(X_train)),  family=sm.families.Binomial())"
   ]
  },
  {
   "cell_type": "code",
   "execution_count": 72,
   "id": "74e89cb2",
   "metadata": {
    "ExecuteTime": {
     "end_time": "2022-01-31T20:20:11.975668Z",
     "start_time": "2022-01-31T20:19:36.227776Z"
    }
   },
   "outputs": [
    {
     "data": {
      "text/html": [
       "<table class=\"simpletable\">\n",
       "<caption>Generalized Linear Model Regression Results</caption>\n",
       "<tr>\n",
       "  <th>Dep. Variable:</th>       <td>Converted</td>    <th>  No. Observations:  </th>   <td>  4461</td>  \n",
       "</tr>\n",
       "<tr>\n",
       "  <th>Model:</th>                  <td>GLM</td>       <th>  Df Residuals:      </th>   <td>  4392</td>  \n",
       "</tr>\n",
       "<tr>\n",
       "  <th>Model Family:</th>        <td>Binomial</td>     <th>  Df Model:          </th>   <td>    68</td>  \n",
       "</tr>\n",
       "<tr>\n",
       "  <th>Link Function:</th>         <td>logit</td>      <th>  Scale:             </th>  <td>  1.0000</td> \n",
       "</tr>\n",
       "<tr>\n",
       "  <th>Method:</th>                <td>IRLS</td>       <th>  Log-Likelihood:    </th>  <td>     nan</td> \n",
       "</tr>\n",
       "<tr>\n",
       "  <th>Date:</th>            <td>Mon, 31 Jan 2022</td> <th>  Deviance:          </th> <td>1.1752e+05</td>\n",
       "</tr>\n",
       "<tr>\n",
       "  <th>Time:</th>                <td>12:20:11</td>     <th>  Pearson chi2:      </th>  <td>5.75e+18</td> \n",
       "</tr>\n",
       "<tr>\n",
       "  <th>No. Iterations:</th>         <td>100</td>       <th>                     </th>      <td> </td>    \n",
       "</tr>\n",
       "<tr>\n",
       "  <th>Covariance Type:</th>     <td>nonrobust</td>    <th>                     </th>      <td> </td>    \n",
       "</tr>\n",
       "</table>\n",
       "<table class=\"simpletable\">\n",
       "<tr>\n",
       "                            <td></td>                              <th>coef</th>     <th>std err</th>      <th>z</th>      <th>P>|z|</th>  <th>[0.025</th>    <th>0.975]</th>  \n",
       "</tr>\n",
       "<tr>\n",
       "  <th>const</th>                                                <td>-2.964e+15</td> <td> 8.84e+07</td> <td>-3.35e+07</td> <td> 0.000</td> <td>-2.96e+15</td> <td>-2.96e+15</td>\n",
       "</tr>\n",
       "<tr>\n",
       "  <th>Do Not Email</th>                                         <td>-7.178e+14</td> <td> 5.42e+06</td> <td>-1.32e+08</td> <td> 0.000</td> <td>-7.18e+14</td> <td>-7.18e+14</td>\n",
       "</tr>\n",
       "<tr>\n",
       "  <th>TotalVisits</th>                                          <td> 4.504e+15</td> <td>  5.4e+07</td> <td> 8.34e+07</td> <td> 0.000</td> <td>  4.5e+15</td> <td>  4.5e+15</td>\n",
       "</tr>\n",
       "<tr>\n",
       "  <th>Total Time Spent on Website</th>                          <td> 1.791e+14</td> <td> 4.67e+06</td> <td> 3.84e+07</td> <td> 0.000</td> <td> 1.79e+14</td> <td> 1.79e+14</td>\n",
       "</tr>\n",
       "<tr>\n",
       "  <th>Page Views Per Visit</th>                                 <td> 3.454e+14</td> <td> 1.16e+07</td> <td> 2.99e+07</td> <td> 0.000</td> <td> 3.45e+14</td> <td> 3.45e+14</td>\n",
       "</tr>\n",
       "<tr>\n",
       "  <th>A free copy of Mastering The Interview</th>               <td> 1.695e+14</td> <td> 3.09e+06</td> <td> 5.48e+07</td> <td> 0.000</td> <td>  1.7e+14</td> <td>  1.7e+14</td>\n",
       "</tr>\n",
       "<tr>\n",
       "  <th>Lead Origin_Landing Page Submission</th>                  <td>-9.187e+14</td> <td> 3.81e+06</td> <td>-2.41e+08</td> <td> 0.000</td> <td>-9.19e+14</td> <td>-9.19e+14</td>\n",
       "</tr>\n",
       "<tr>\n",
       "  <th>Lead Origin_Lead Add Form</th>                            <td> 4.463e+15</td> <td> 4.77e+07</td> <td> 9.37e+07</td> <td> 0.000</td> <td> 4.46e+15</td> <td> 4.46e+15</td>\n",
       "</tr>\n",
       "<tr>\n",
       "  <th>Lead Origin_Lead Import</th>                              <td> 4.694e+15</td> <td> 4.21e+07</td> <td> 1.12e+08</td> <td> 0.000</td> <td> 4.69e+15</td> <td> 4.69e+15</td>\n",
       "</tr>\n",
       "<tr>\n",
       "  <th>Lead Source_Direct Traffic</th>                           <td> 8.899e+15</td> <td> 8.26e+07</td> <td> 1.08e+08</td> <td> 0.000</td> <td>  8.9e+15</td> <td>  8.9e+15</td>\n",
       "</tr>\n",
       "<tr>\n",
       "  <th>Lead Source_Facebook</th>                                 <td> 4.694e+15</td> <td> 4.21e+07</td> <td> 1.12e+08</td> <td> 0.000</td> <td> 4.69e+15</td> <td> 4.69e+15</td>\n",
       "</tr>\n",
       "<tr>\n",
       "  <th>Lead Source_Google</th>                                   <td> 8.864e+15</td> <td> 8.25e+07</td> <td> 1.07e+08</td> <td> 0.000</td> <td> 8.86e+15</td> <td> 8.86e+15</td>\n",
       "</tr>\n",
       "<tr>\n",
       "  <th>Lead Source_Live Chat</th>                                <td> 8.809e+15</td> <td> 8.24e+07</td> <td> 1.07e+08</td> <td> 0.000</td> <td> 8.81e+15</td> <td> 8.81e+15</td>\n",
       "</tr>\n",
       "<tr>\n",
       "  <th>Lead Source_Olark Chat</th>                               <td> 9.928e+15</td> <td> 8.25e+07</td> <td>  1.2e+08</td> <td> 0.000</td> <td> 9.93e+15</td> <td> 9.93e+15</td>\n",
       "</tr>\n",
       "<tr>\n",
       "  <th>Lead Source_Organic Search</th>                           <td> 8.834e+15</td> <td> 8.26e+07</td> <td> 1.07e+08</td> <td> 0.000</td> <td> 8.83e+15</td> <td> 8.83e+15</td>\n",
       "</tr>\n",
       "<tr>\n",
       "  <th>Lead Source_Pay per Click Ads</th>                        <td> 5.033e+15</td> <td> 1.06e+08</td> <td> 4.73e+07</td> <td> 0.000</td> <td> 5.03e+15</td> <td> 5.03e+15</td>\n",
       "</tr>\n",
       "<tr>\n",
       "  <th>Lead Source_Press_Release</th>                            <td> 5.942e+15</td> <td> 1.07e+08</td> <td> 5.55e+07</td> <td> 0.000</td> <td> 5.94e+15</td> <td> 5.94e+15</td>\n",
       "</tr>\n",
       "<tr>\n",
       "  <th>Lead Source_Reference</th>                                <td> 4.585e+15</td> <td> 6.74e+07</td> <td>  6.8e+07</td> <td> 0.000</td> <td> 4.59e+15</td> <td> 4.59e+15</td>\n",
       "</tr>\n",
       "<tr>\n",
       "  <th>Lead Source_Referral Sites</th>                           <td> 8.434e+15</td> <td> 8.31e+07</td> <td> 1.02e+08</td> <td> 0.000</td> <td> 8.43e+15</td> <td> 8.43e+15</td>\n",
       "</tr>\n",
       "<tr>\n",
       "  <th>Lead Source_Social Media</th>                             <td> -137.3529</td> <td> 1.88e-06</td> <td>-7.32e+07</td> <td> 0.000</td> <td> -137.353</td> <td> -137.353</td>\n",
       "</tr>\n",
       "<tr>\n",
       "  <th>Lead Source_WeLearn</th>                                  <td> 1.405e+16</td> <td> 1.06e+08</td> <td> 1.32e+08</td> <td> 0.000</td> <td> 1.41e+16</td> <td> 1.41e+16</td>\n",
       "</tr>\n",
       "<tr>\n",
       "  <th>Lead Source_Welingak Website</th>                         <td> 5.266e+15</td> <td> 6.77e+07</td> <td> 7.78e+07</td> <td> 0.000</td> <td> 5.27e+15</td> <td> 5.27e+15</td>\n",
       "</tr>\n",
       "<tr>\n",
       "  <th>Lead Source_bing</th>                                     <td> 4.915e+15</td> <td> 9.52e+07</td> <td> 5.16e+07</td> <td> 0.000</td> <td> 4.92e+15</td> <td> 4.92e+15</td>\n",
       "</tr>\n",
       "<tr>\n",
       "  <th>Lead Source_testone</th>                                  <td> 4.754e+15</td> <td> 1.06e+08</td> <td> 4.47e+07</td> <td> 0.000</td> <td> 4.75e+15</td> <td> 4.75e+15</td>\n",
       "</tr>\n",
       "<tr>\n",
       "  <th>Last Activity_Converted to Lead</th>                      <td>-4.807e+15</td> <td> 3.91e+07</td> <td>-1.23e+08</td> <td> 0.000</td> <td>-4.81e+15</td> <td>-4.81e+15</td>\n",
       "</tr>\n",
       "<tr>\n",
       "  <th>Last Activity_Email Bounced</th>                          <td>-5.156e+15</td> <td> 3.98e+07</td> <td> -1.3e+08</td> <td> 0.000</td> <td>-5.16e+15</td> <td>-5.16e+15</td>\n",
       "</tr>\n",
       "<tr>\n",
       "  <th>Last Activity_Email Link Clicked</th>                     <td>-4.628e+15</td> <td> 4.01e+07</td> <td>-1.15e+08</td> <td> 0.000</td> <td>-4.63e+15</td> <td>-4.63e+15</td>\n",
       "</tr>\n",
       "<tr>\n",
       "  <th>Last Activity_Email Marked Spam</th>                      <td>  -12.0954</td> <td> 6.54e-07</td> <td>-1.85e+07</td> <td> 0.000</td> <td>  -12.095</td> <td>  -12.095</td>\n",
       "</tr>\n",
       "<tr>\n",
       "  <th>Last Activity_Email Opened</th>                           <td>-4.695e+15</td> <td>  3.9e+07</td> <td> -1.2e+08</td> <td> 0.000</td> <td> -4.7e+15</td> <td> -4.7e+15</td>\n",
       "</tr>\n",
       "<tr>\n",
       "  <th>Last Activity_Email Received</th>                         <td>-5.491e+14</td> <td> 7.76e+07</td> <td>-7.07e+06</td> <td> 0.000</td> <td>-5.49e+14</td> <td>-5.49e+14</td>\n",
       "</tr>\n",
       "<tr>\n",
       "  <th>Last Activity_Form Submitted on Website</th>              <td>-4.926e+15</td> <td> 3.99e+07</td> <td>-1.23e+08</td> <td> 0.000</td> <td>-4.93e+15</td> <td>-4.93e+15</td>\n",
       "</tr>\n",
       "<tr>\n",
       "  <th>Last Activity_Had a Phone Conversation</th>               <td>-3.756e+15</td> <td> 4.64e+07</td> <td>-8.09e+07</td> <td> 0.000</td> <td>-3.76e+15</td> <td>-3.76e+15</td>\n",
       "</tr>\n",
       "<tr>\n",
       "  <th>Last Activity_Olark Chat Conversation</th>                <td>-5.438e+15</td> <td> 3.91e+07</td> <td>-1.39e+08</td> <td> 0.000</td> <td>-5.44e+15</td> <td>-5.44e+15</td>\n",
       "</tr>\n",
       "<tr>\n",
       "  <th>Last Activity_Page Visited on Website</th>                <td>-4.818e+15</td> <td> 3.92e+07</td> <td>-1.23e+08</td> <td> 0.000</td> <td>-4.82e+15</td> <td>-4.82e+15</td>\n",
       "</tr>\n",
       "<tr>\n",
       "  <th>Last Activity_SMS Sent</th>                               <td> -4.41e+15</td> <td> 3.91e+07</td> <td>-1.13e+08</td> <td> 0.000</td> <td>-4.41e+15</td> <td>-4.41e+15</td>\n",
       "</tr>\n",
       "<tr>\n",
       "  <th>Last Activity_Unreachable</th>                            <td>-4.489e+15</td> <td> 4.07e+07</td> <td> -1.1e+08</td> <td> 0.000</td> <td>-4.49e+15</td> <td>-4.49e+15</td>\n",
       "</tr>\n",
       "<tr>\n",
       "  <th>Last Activity_Unsubscribed</th>                           <td> -4.04e+15</td> <td> 4.77e+07</td> <td>-8.47e+07</td> <td> 0.000</td> <td>-4.04e+15</td> <td>-4.04e+15</td>\n",
       "</tr>\n",
       "<tr>\n",
       "  <th>Last Activity_View in browser link Clicked</th>           <td>-4.705e+15</td> <td> 5.49e+07</td> <td>-8.56e+07</td> <td> 0.000</td> <td>-4.71e+15</td> <td>-4.71e+15</td>\n",
       "</tr>\n",
       "<tr>\n",
       "  <th>Last Activity_Visited Booth in Tradeshow</th>             <td>-8.474e+15</td> <td> 7.77e+07</td> <td>-1.09e+08</td> <td> 0.000</td> <td>-8.47e+15</td> <td>-8.47e+15</td>\n",
       "</tr>\n",
       "<tr>\n",
       "  <th>What is your current occupation_Housewife</th>            <td>  3.21e+15</td> <td> 3.86e+07</td> <td> 8.31e+07</td> <td> 0.000</td> <td> 3.21e+15</td> <td> 3.21e+15</td>\n",
       "</tr>\n",
       "<tr>\n",
       "  <th>What is your current occupation_Other</th>                <td>-9.036e+14</td> <td> 3.61e+07</td> <td>-2.51e+07</td> <td> 0.000</td> <td>-9.04e+14</td> <td>-9.04e+14</td>\n",
       "</tr>\n",
       "<tr>\n",
       "  <th>What is your current occupation_Student</th>              <td>-1.231e+15</td> <td> 3.09e+07</td> <td>-3.98e+07</td> <td> 0.000</td> <td>-1.23e+15</td> <td>-1.23e+15</td>\n",
       "</tr>\n",
       "<tr>\n",
       "  <th>What is your current occupation_Unemployed</th>           <td>-1.536e+15</td> <td> 3.04e+07</td> <td>-5.06e+07</td> <td> 0.000</td> <td>-1.54e+15</td> <td>-1.54e+15</td>\n",
       "</tr>\n",
       "<tr>\n",
       "  <th>What is your current occupation_Working Professional</th> <td>-4.779e+14</td> <td> 3.05e+07</td> <td>-1.57e+07</td> <td> 0.000</td> <td>-4.78e+14</td> <td>-4.78e+14</td>\n",
       "</tr>\n",
       "<tr>\n",
       "  <th>Last Notable Activity_Email Bounced</th>                  <td> 2.885e+14</td> <td> 1.69e+07</td> <td> 1.71e+07</td> <td> 0.000</td> <td> 2.89e+14</td> <td> 2.89e+14</td>\n",
       "</tr>\n",
       "<tr>\n",
       "  <th>Last Notable Activity_Email Link Clicked</th>             <td>-5.955e+14</td> <td> 1.59e+07</td> <td>-3.74e+07</td> <td> 0.000</td> <td>-5.95e+14</td> <td>-5.95e+14</td>\n",
       "</tr>\n",
       "<tr>\n",
       "  <th>Last Notable Activity_Email Marked Spam</th>              <td>   66.3945</td> <td> 5.31e-07</td> <td> 1.25e+08</td> <td> 0.000</td> <td>   66.394</td> <td>   66.394</td>\n",
       "</tr>\n",
       "<tr>\n",
       "  <th>Last Notable Activity_Email Opened</th>                   <td>-3.048e+14</td> <td> 1.21e+07</td> <td>-2.51e+07</td> <td> 0.000</td> <td>-3.05e+14</td> <td>-3.05e+14</td>\n",
       "</tr>\n",
       "<tr>\n",
       "  <th>Last Notable Activity_Email Received</th>                 <td>  -12.9577</td> <td> 1.61e-07</td> <td>-8.04e+07</td> <td> 0.000</td> <td>  -12.958</td> <td>  -12.958</td>\n",
       "</tr>\n",
       "<tr>\n",
       "  <th>Last Notable Activity_Had a Phone Conversation</th>       <td> 3.224e+15</td> <td> 3.24e+07</td> <td> 9.96e+07</td> <td> 0.000</td> <td> 3.22e+15</td> <td> 3.22e+15</td>\n",
       "</tr>\n",
       "<tr>\n",
       "  <th>Last Notable Activity_Modified</th>                       <td>-4.088e+14</td> <td> 1.13e+07</td> <td>-3.61e+07</td> <td> 0.000</td> <td>-4.09e+14</td> <td>-4.09e+14</td>\n",
       "</tr>\n",
       "<tr>\n",
       "  <th>Last Notable Activity_Olark Chat Conversation</th>        <td>-3.463e+13</td> <td> 1.48e+07</td> <td>-2.34e+06</td> <td> 0.000</td> <td>-3.46e+13</td> <td>-3.46e+13</td>\n",
       "</tr>\n",
       "<tr>\n",
       "  <th>Last Notable Activity_Page Visited on Website</th>        <td>-3.535e+13</td> <td> 1.33e+07</td> <td>-2.67e+06</td> <td> 0.000</td> <td>-3.53e+13</td> <td>-3.53e+13</td>\n",
       "</tr>\n",
       "<tr>\n",
       "  <th>Last Notable Activity_SMS Sent</th>                       <td>  3.18e+14</td> <td> 1.22e+07</td> <td> 2.61e+07</td> <td> 0.000</td> <td> 3.18e+14</td> <td> 3.18e+14</td>\n",
       "</tr>\n",
       "<tr>\n",
       "  <th>Last Notable Activity_Unreachable</th>                    <td> 5.415e+14</td> <td> 2.19e+07</td> <td> 2.47e+07</td> <td> 0.000</td> <td> 5.42e+14</td> <td> 5.42e+14</td>\n",
       "</tr>\n",
       "<tr>\n",
       "  <th>Last Notable Activity_Unsubscribed</th>                   <td>-6.152e+14</td> <td> 3.04e+07</td> <td>-2.02e+07</td> <td> 0.000</td> <td>-6.15e+14</td> <td>-6.15e+14</td>\n",
       "</tr>\n",
       "<tr>\n",
       "  <th>Last Notable Activity_View in browser link Clicked</th>   <td>-5.342e+15</td> <td> 7.18e+07</td> <td>-7.44e+07</td> <td> 0.000</td> <td>-5.34e+15</td> <td>-5.34e+15</td>\n",
       "</tr>\n",
       "<tr>\n",
       "  <th>Specialization_Banking, Investment And Insurance</th>     <td> 8.361e+14</td> <td> 5.97e+06</td> <td>  1.4e+08</td> <td> 0.000</td> <td> 8.36e+14</td> <td> 8.36e+14</td>\n",
       "</tr>\n",
       "<tr>\n",
       "  <th>Specialization_Business Administration</th>               <td> 6.904e+14</td> <td> 5.56e+06</td> <td> 1.24e+08</td> <td> 0.000</td> <td>  6.9e+14</td> <td>  6.9e+14</td>\n",
       "</tr>\n",
       "<tr>\n",
       "  <th>Specialization_E-Business</th>                            <td> 1.254e+15</td> <td>  1.2e+07</td> <td> 1.05e+08</td> <td> 0.000</td> <td> 1.25e+15</td> <td> 1.25e+15</td>\n",
       "</tr>\n",
       "<tr>\n",
       "  <th>Specialization_E-COMMERCE</th>                            <td> 9.129e+14</td> <td> 9.43e+06</td> <td> 9.69e+07</td> <td> 0.000</td> <td> 9.13e+14</td> <td> 9.13e+14</td>\n",
       "</tr>\n",
       "<tr>\n",
       "  <th>Specialization_Finance Management</th>                    <td> 7.448e+14</td> <td>  4.5e+06</td> <td> 1.65e+08</td> <td> 0.000</td> <td> 7.45e+14</td> <td> 7.45e+14</td>\n",
       "</tr>\n",
       "<tr>\n",
       "  <th>Specialization_Healthcare Management</th>                 <td> 7.295e+14</td> <td> 7.95e+06</td> <td> 9.18e+07</td> <td> 0.000</td> <td>  7.3e+14</td> <td>  7.3e+14</td>\n",
       "</tr>\n",
       "<tr>\n",
       "  <th>Specialization_Hospitality Management</th>                <td> 2.681e+14</td> <td> 9.57e+06</td> <td>  2.8e+07</td> <td> 0.000</td> <td> 2.68e+14</td> <td> 2.68e+14</td>\n",
       "</tr>\n",
       "<tr>\n",
       "  <th>Specialization_Human Resource Management</th>             <td> 6.955e+14</td> <td> 4.52e+06</td> <td> 1.54e+08</td> <td> 0.000</td> <td> 6.96e+14</td> <td> 6.96e+14</td>\n",
       "</tr>\n",
       "<tr>\n",
       "  <th>Specialization_IT Projects Management</th>                <td> 8.529e+14</td> <td> 5.93e+06</td> <td> 1.44e+08</td> <td> 0.000</td> <td> 8.53e+14</td> <td> 8.53e+14</td>\n",
       "</tr>\n",
       "<tr>\n",
       "  <th>Specialization_International Business</th>                <td>   7.6e+14</td> <td> 7.45e+06</td> <td> 1.02e+08</td> <td> 0.000</td> <td>  7.6e+14</td> <td>  7.6e+14</td>\n",
       "</tr>\n",
       "<tr>\n",
       "  <th>Specialization_Marketing Management</th>                  <td> 6.754e+14</td> <td> 4.44e+06</td> <td> 1.52e+08</td> <td> 0.000</td> <td> 6.75e+14</td> <td> 6.75e+14</td>\n",
       "</tr>\n",
       "<tr>\n",
       "  <th>Specialization_Media and Advertising</th>                 <td> 7.769e+14</td> <td>  7.5e+06</td> <td> 1.04e+08</td> <td> 0.000</td> <td> 7.77e+14</td> <td> 7.77e+14</td>\n",
       "</tr>\n",
       "<tr>\n",
       "  <th>Specialization_Operations Management</th>                 <td> 7.222e+14</td> <td>  5.3e+06</td> <td> 1.36e+08</td> <td> 0.000</td> <td> 7.22e+14</td> <td> 7.22e+14</td>\n",
       "</tr>\n",
       "<tr>\n",
       "  <th>Specialization_Retail Management</th>                     <td> 7.844e+14</td> <td> 9.02e+06</td> <td> 8.69e+07</td> <td> 0.000</td> <td> 7.84e+14</td> <td> 7.84e+14</td>\n",
       "</tr>\n",
       "<tr>\n",
       "  <th>Specialization_Rural and Agribusiness</th>                <td> 7.019e+14</td> <td> 1.14e+07</td> <td> 6.18e+07</td> <td> 0.000</td> <td> 7.02e+14</td> <td> 7.02e+14</td>\n",
       "</tr>\n",
       "<tr>\n",
       "  <th>Specialization_Services Excellence</th>                   <td> 1.138e+14</td> <td> 1.99e+07</td> <td> 5.73e+06</td> <td> 0.000</td> <td> 1.14e+14</td> <td> 1.14e+14</td>\n",
       "</tr>\n",
       "<tr>\n",
       "  <th>Specialization_Supply Chain Management</th>               <td>  4.19e+14</td> <td> 6.11e+06</td> <td> 6.85e+07</td> <td> 0.000</td> <td> 4.19e+14</td> <td> 4.19e+14</td>\n",
       "</tr>\n",
       "<tr>\n",
       "  <th>Specialization_Travel and Tourism</th>                    <td> 7.072e+14</td> <td> 7.66e+06</td> <td> 9.23e+07</td> <td> 0.000</td> <td> 7.07e+14</td> <td> 7.07e+14</td>\n",
       "</tr>\n",
       "</table>"
      ],
      "text/plain": [
       "<class 'statsmodels.iolib.summary.Summary'>\n",
       "\"\"\"\n",
       "                 Generalized Linear Model Regression Results                  \n",
       "==============================================================================\n",
       "Dep. Variable:              Converted   No. Observations:                 4461\n",
       "Model:                            GLM   Df Residuals:                     4392\n",
       "Model Family:                Binomial   Df Model:                           68\n",
       "Link Function:                  logit   Scale:                          1.0000\n",
       "Method:                          IRLS   Log-Likelihood:                    nan\n",
       "Date:                Mon, 31 Jan 2022   Deviance:                   1.1752e+05\n",
       "Time:                        12:20:11   Pearson chi2:                 5.75e+18\n",
       "No. Iterations:                   100                                         \n",
       "Covariance Type:            nonrobust                                         \n",
       "========================================================================================================================\n",
       "                                                           coef    std err          z      P>|z|      [0.025      0.975]\n",
       "------------------------------------------------------------------------------------------------------------------------\n",
       "const                                                -2.964e+15   8.84e+07  -3.35e+07      0.000   -2.96e+15   -2.96e+15\n",
       "Do Not Email                                         -7.178e+14   5.42e+06  -1.32e+08      0.000   -7.18e+14   -7.18e+14\n",
       "TotalVisits                                           4.504e+15    5.4e+07   8.34e+07      0.000     4.5e+15     4.5e+15\n",
       "Total Time Spent on Website                           1.791e+14   4.67e+06   3.84e+07      0.000    1.79e+14    1.79e+14\n",
       "Page Views Per Visit                                  3.454e+14   1.16e+07   2.99e+07      0.000    3.45e+14    3.45e+14\n",
       "A free copy of Mastering The Interview                1.695e+14   3.09e+06   5.48e+07      0.000     1.7e+14     1.7e+14\n",
       "Lead Origin_Landing Page Submission                  -9.187e+14   3.81e+06  -2.41e+08      0.000   -9.19e+14   -9.19e+14\n",
       "Lead Origin_Lead Add Form                             4.463e+15   4.77e+07   9.37e+07      0.000    4.46e+15    4.46e+15\n",
       "Lead Origin_Lead Import                               4.694e+15   4.21e+07   1.12e+08      0.000    4.69e+15    4.69e+15\n",
       "Lead Source_Direct Traffic                            8.899e+15   8.26e+07   1.08e+08      0.000     8.9e+15     8.9e+15\n",
       "Lead Source_Facebook                                  4.694e+15   4.21e+07   1.12e+08      0.000    4.69e+15    4.69e+15\n",
       "Lead Source_Google                                    8.864e+15   8.25e+07   1.07e+08      0.000    8.86e+15    8.86e+15\n",
       "Lead Source_Live Chat                                 8.809e+15   8.24e+07   1.07e+08      0.000    8.81e+15    8.81e+15\n",
       "Lead Source_Olark Chat                                9.928e+15   8.25e+07    1.2e+08      0.000    9.93e+15    9.93e+15\n",
       "Lead Source_Organic Search                            8.834e+15   8.26e+07   1.07e+08      0.000    8.83e+15    8.83e+15\n",
       "Lead Source_Pay per Click Ads                         5.033e+15   1.06e+08   4.73e+07      0.000    5.03e+15    5.03e+15\n",
       "Lead Source_Press_Release                             5.942e+15   1.07e+08   5.55e+07      0.000    5.94e+15    5.94e+15\n",
       "Lead Source_Reference                                 4.585e+15   6.74e+07    6.8e+07      0.000    4.59e+15    4.59e+15\n",
       "Lead Source_Referral Sites                            8.434e+15   8.31e+07   1.02e+08      0.000    8.43e+15    8.43e+15\n",
       "Lead Source_Social Media                              -137.3529   1.88e-06  -7.32e+07      0.000    -137.353    -137.353\n",
       "Lead Source_WeLearn                                   1.405e+16   1.06e+08   1.32e+08      0.000    1.41e+16    1.41e+16\n",
       "Lead Source_Welingak Website                          5.266e+15   6.77e+07   7.78e+07      0.000    5.27e+15    5.27e+15\n",
       "Lead Source_bing                                      4.915e+15   9.52e+07   5.16e+07      0.000    4.92e+15    4.92e+15\n",
       "Lead Source_testone                                   4.754e+15   1.06e+08   4.47e+07      0.000    4.75e+15    4.75e+15\n",
       "Last Activity_Converted to Lead                      -4.807e+15   3.91e+07  -1.23e+08      0.000   -4.81e+15   -4.81e+15\n",
       "Last Activity_Email Bounced                          -5.156e+15   3.98e+07   -1.3e+08      0.000   -5.16e+15   -5.16e+15\n",
       "Last Activity_Email Link Clicked                     -4.628e+15   4.01e+07  -1.15e+08      0.000   -4.63e+15   -4.63e+15\n",
       "Last Activity_Email Marked Spam                        -12.0954   6.54e-07  -1.85e+07      0.000     -12.095     -12.095\n",
       "Last Activity_Email Opened                           -4.695e+15    3.9e+07   -1.2e+08      0.000    -4.7e+15    -4.7e+15\n",
       "Last Activity_Email Received                         -5.491e+14   7.76e+07  -7.07e+06      0.000   -5.49e+14   -5.49e+14\n",
       "Last Activity_Form Submitted on Website              -4.926e+15   3.99e+07  -1.23e+08      0.000   -4.93e+15   -4.93e+15\n",
       "Last Activity_Had a Phone Conversation               -3.756e+15   4.64e+07  -8.09e+07      0.000   -3.76e+15   -3.76e+15\n",
       "Last Activity_Olark Chat Conversation                -5.438e+15   3.91e+07  -1.39e+08      0.000   -5.44e+15   -5.44e+15\n",
       "Last Activity_Page Visited on Website                -4.818e+15   3.92e+07  -1.23e+08      0.000   -4.82e+15   -4.82e+15\n",
       "Last Activity_SMS Sent                                -4.41e+15   3.91e+07  -1.13e+08      0.000   -4.41e+15   -4.41e+15\n",
       "Last Activity_Unreachable                            -4.489e+15   4.07e+07   -1.1e+08      0.000   -4.49e+15   -4.49e+15\n",
       "Last Activity_Unsubscribed                            -4.04e+15   4.77e+07  -8.47e+07      0.000   -4.04e+15   -4.04e+15\n",
       "Last Activity_View in browser link Clicked           -4.705e+15   5.49e+07  -8.56e+07      0.000   -4.71e+15   -4.71e+15\n",
       "Last Activity_Visited Booth in Tradeshow             -8.474e+15   7.77e+07  -1.09e+08      0.000   -8.47e+15   -8.47e+15\n",
       "What is your current occupation_Housewife              3.21e+15   3.86e+07   8.31e+07      0.000    3.21e+15    3.21e+15\n",
       "What is your current occupation_Other                -9.036e+14   3.61e+07  -2.51e+07      0.000   -9.04e+14   -9.04e+14\n",
       "What is your current occupation_Student              -1.231e+15   3.09e+07  -3.98e+07      0.000   -1.23e+15   -1.23e+15\n",
       "What is your current occupation_Unemployed           -1.536e+15   3.04e+07  -5.06e+07      0.000   -1.54e+15   -1.54e+15\n",
       "What is your current occupation_Working Professional -4.779e+14   3.05e+07  -1.57e+07      0.000   -4.78e+14   -4.78e+14\n",
       "Last Notable Activity_Email Bounced                   2.885e+14   1.69e+07   1.71e+07      0.000    2.89e+14    2.89e+14\n",
       "Last Notable Activity_Email Link Clicked             -5.955e+14   1.59e+07  -3.74e+07      0.000   -5.95e+14   -5.95e+14\n",
       "Last Notable Activity_Email Marked Spam                 66.3945   5.31e-07   1.25e+08      0.000      66.394      66.394\n",
       "Last Notable Activity_Email Opened                   -3.048e+14   1.21e+07  -2.51e+07      0.000   -3.05e+14   -3.05e+14\n",
       "Last Notable Activity_Email Received                   -12.9577   1.61e-07  -8.04e+07      0.000     -12.958     -12.958\n",
       "Last Notable Activity_Had a Phone Conversation        3.224e+15   3.24e+07   9.96e+07      0.000    3.22e+15    3.22e+15\n",
       "Last Notable Activity_Modified                       -4.088e+14   1.13e+07  -3.61e+07      0.000   -4.09e+14   -4.09e+14\n",
       "Last Notable Activity_Olark Chat Conversation        -3.463e+13   1.48e+07  -2.34e+06      0.000   -3.46e+13   -3.46e+13\n",
       "Last Notable Activity_Page Visited on Website        -3.535e+13   1.33e+07  -2.67e+06      0.000   -3.53e+13   -3.53e+13\n",
       "Last Notable Activity_SMS Sent                         3.18e+14   1.22e+07   2.61e+07      0.000    3.18e+14    3.18e+14\n",
       "Last Notable Activity_Unreachable                     5.415e+14   2.19e+07   2.47e+07      0.000    5.42e+14    5.42e+14\n",
       "Last Notable Activity_Unsubscribed                   -6.152e+14   3.04e+07  -2.02e+07      0.000   -6.15e+14   -6.15e+14\n",
       "Last Notable Activity_View in browser link Clicked   -5.342e+15   7.18e+07  -7.44e+07      0.000   -5.34e+15   -5.34e+15\n",
       "Specialization_Banking, Investment And Insurance      8.361e+14   5.97e+06    1.4e+08      0.000    8.36e+14    8.36e+14\n",
       "Specialization_Business Administration                6.904e+14   5.56e+06   1.24e+08      0.000     6.9e+14     6.9e+14\n",
       "Specialization_E-Business                             1.254e+15    1.2e+07   1.05e+08      0.000    1.25e+15    1.25e+15\n",
       "Specialization_E-COMMERCE                             9.129e+14   9.43e+06   9.69e+07      0.000    9.13e+14    9.13e+14\n",
       "Specialization_Finance Management                     7.448e+14    4.5e+06   1.65e+08      0.000    7.45e+14    7.45e+14\n",
       "Specialization_Healthcare Management                  7.295e+14   7.95e+06   9.18e+07      0.000     7.3e+14     7.3e+14\n",
       "Specialization_Hospitality Management                 2.681e+14   9.57e+06    2.8e+07      0.000    2.68e+14    2.68e+14\n",
       "Specialization_Human Resource Management              6.955e+14   4.52e+06   1.54e+08      0.000    6.96e+14    6.96e+14\n",
       "Specialization_IT Projects Management                 8.529e+14   5.93e+06   1.44e+08      0.000    8.53e+14    8.53e+14\n",
       "Specialization_International Business                   7.6e+14   7.45e+06   1.02e+08      0.000     7.6e+14     7.6e+14\n",
       "Specialization_Marketing Management                   6.754e+14   4.44e+06   1.52e+08      0.000    6.75e+14    6.75e+14\n",
       "Specialization_Media and Advertising                  7.769e+14    7.5e+06   1.04e+08      0.000    7.77e+14    7.77e+14\n",
       "Specialization_Operations Management                  7.222e+14    5.3e+06   1.36e+08      0.000    7.22e+14    7.22e+14\n",
       "Specialization_Retail Management                      7.844e+14   9.02e+06   8.69e+07      0.000    7.84e+14    7.84e+14\n",
       "Specialization_Rural and Agribusiness                 7.019e+14   1.14e+07   6.18e+07      0.000    7.02e+14    7.02e+14\n",
       "Specialization_Services Excellence                    1.138e+14   1.99e+07   5.73e+06      0.000    1.14e+14    1.14e+14\n",
       "Specialization_Supply Chain Management                 4.19e+14   6.11e+06   6.85e+07      0.000    4.19e+14    4.19e+14\n",
       "Specialization_Travel and Tourism                     7.072e+14   7.66e+06   9.23e+07      0.000    7.07e+14    7.07e+14\n",
       "========================================================================================================================\n",
       "\"\"\""
      ]
     },
     "execution_count": 72,
     "metadata": {},
     "output_type": "execute_result"
    }
   ],
   "source": [
    "logm1.fit().summary()"
   ]
  },
  {
   "cell_type": "markdown",
   "id": "4092fd48",
   "metadata": {},
   "source": [
    "## Feature Selection using RFE"
   ]
  },
  {
   "cell_type": "code",
   "execution_count": 73,
   "id": "0672be64",
   "metadata": {
    "ExecuteTime": {
     "end_time": "2022-01-31T20:20:12.141742Z",
     "start_time": "2022-01-31T20:20:11.979706Z"
    }
   },
   "outputs": [],
   "source": [
    "# Importing LogisticRegression from sklearn\n",
    "from sklearn.linear_model import LogisticRegression"
   ]
  },
  {
   "cell_type": "code",
   "execution_count": 74,
   "id": "67bd61af",
   "metadata": {
    "ExecuteTime": {
     "end_time": "2022-01-31T20:20:12.158743Z",
     "start_time": "2022-01-31T20:20:12.146236Z"
    }
   },
   "outputs": [],
   "source": [
    "logreg = LogisticRegression(solver='liblinear')"
   ]
  },
  {
   "cell_type": "code",
   "execution_count": 75,
   "id": "e8c8a8b8",
   "metadata": {
    "ExecuteTime": {
     "end_time": "2022-01-31T20:20:12.326664Z",
     "start_time": "2022-01-31T20:20:12.162955Z"
    }
   },
   "outputs": [],
   "source": [
    "# Importing RFE from sklearn\n",
    "from sklearn.feature_selection import RFE"
   ]
  },
  {
   "cell_type": "code",
   "execution_count": 76,
   "id": "87b819c4",
   "metadata": {
    "ExecuteTime": {
     "end_time": "2022-01-31T20:20:13.959921Z",
     "start_time": "2022-01-31T20:20:12.330662Z"
    }
   },
   "outputs": [
    {
     "ename": "AttributeError",
     "evalue": "'str' object has no attribute 'decode'",
     "output_type": "error",
     "traceback": [
      "\u001b[1;31m---------------------------------------------------------------------------\u001b[0m",
      "\u001b[1;31mAttributeError\u001b[0m                            Traceback (most recent call last)",
      "\u001b[1;32m<ipython-input-76-ed36536fb641>\u001b[0m in \u001b[0;36m<module>\u001b[1;34m\u001b[0m\n\u001b[0;32m      1\u001b[0m \u001b[1;31m# Selection of 15 features by RFE\u001b[0m\u001b[1;33m\u001b[0m\u001b[1;33m\u001b[0m\u001b[1;33m\u001b[0m\u001b[0m\n\u001b[0;32m      2\u001b[0m \u001b[0mrfe\u001b[0m \u001b[1;33m=\u001b[0m \u001b[0mRFE\u001b[0m\u001b[1;33m(\u001b[0m\u001b[0mlogreg\u001b[0m\u001b[1;33m,\u001b[0m \u001b[1;36m15\u001b[0m\u001b[1;33m)\u001b[0m\u001b[1;33m\u001b[0m\u001b[1;33m\u001b[0m\u001b[0m\n\u001b[1;32m----> 3\u001b[1;33m \u001b[0mrfe\u001b[0m \u001b[1;33m=\u001b[0m \u001b[0mrfe\u001b[0m\u001b[1;33m.\u001b[0m\u001b[0mfit\u001b[0m\u001b[1;33m(\u001b[0m\u001b[0mX_train\u001b[0m\u001b[1;33m,\u001b[0m \u001b[0my_train\u001b[0m\u001b[1;33m)\u001b[0m\u001b[1;33m\u001b[0m\u001b[1;33m\u001b[0m\u001b[0m\n\u001b[0m",
      "\u001b[1;32m~\\Anaconda3\\lib\\site-packages\\sklearn\\feature_selection\\_rfe.py\u001b[0m in \u001b[0;36mfit\u001b[1;34m(self, X, y)\u001b[0m\n\u001b[0;32m    147\u001b[0m             \u001b[0mThe\u001b[0m \u001b[0mtarget\u001b[0m \u001b[0mvalues\u001b[0m\u001b[1;33m.\u001b[0m\u001b[1;33m\u001b[0m\u001b[1;33m\u001b[0m\u001b[0m\n\u001b[0;32m    148\u001b[0m         \"\"\"\n\u001b[1;32m--> 149\u001b[1;33m         \u001b[1;32mreturn\u001b[0m \u001b[0mself\u001b[0m\u001b[1;33m.\u001b[0m\u001b[0m_fit\u001b[0m\u001b[1;33m(\u001b[0m\u001b[0mX\u001b[0m\u001b[1;33m,\u001b[0m \u001b[0my\u001b[0m\u001b[1;33m)\u001b[0m\u001b[1;33m\u001b[0m\u001b[1;33m\u001b[0m\u001b[0m\n\u001b[0m\u001b[0;32m    150\u001b[0m \u001b[1;33m\u001b[0m\u001b[0m\n\u001b[0;32m    151\u001b[0m     \u001b[1;32mdef\u001b[0m \u001b[0m_fit\u001b[0m\u001b[1;33m(\u001b[0m\u001b[0mself\u001b[0m\u001b[1;33m,\u001b[0m \u001b[0mX\u001b[0m\u001b[1;33m,\u001b[0m \u001b[0my\u001b[0m\u001b[1;33m,\u001b[0m \u001b[0mstep_score\u001b[0m\u001b[1;33m=\u001b[0m\u001b[1;32mNone\u001b[0m\u001b[1;33m)\u001b[0m\u001b[1;33m:\u001b[0m\u001b[1;33m\u001b[0m\u001b[1;33m\u001b[0m\u001b[0m\n",
      "\u001b[1;32m~\\Anaconda3\\lib\\site-packages\\sklearn\\feature_selection\\_rfe.py\u001b[0m in \u001b[0;36m_fit\u001b[1;34m(self, X, y, step_score)\u001b[0m\n\u001b[0;32m    188\u001b[0m                 \u001b[0mprint\u001b[0m\u001b[1;33m(\u001b[0m\u001b[1;34m\"Fitting estimator with %d features.\"\u001b[0m \u001b[1;33m%\u001b[0m \u001b[0mnp\u001b[0m\u001b[1;33m.\u001b[0m\u001b[0msum\u001b[0m\u001b[1;33m(\u001b[0m\u001b[0msupport_\u001b[0m\u001b[1;33m)\u001b[0m\u001b[1;33m)\u001b[0m\u001b[1;33m\u001b[0m\u001b[1;33m\u001b[0m\u001b[0m\n\u001b[0;32m    189\u001b[0m \u001b[1;33m\u001b[0m\u001b[0m\n\u001b[1;32m--> 190\u001b[1;33m             \u001b[0mestimator\u001b[0m\u001b[1;33m.\u001b[0m\u001b[0mfit\u001b[0m\u001b[1;33m(\u001b[0m\u001b[0mX\u001b[0m\u001b[1;33m[\u001b[0m\u001b[1;33m:\u001b[0m\u001b[1;33m,\u001b[0m \u001b[0mfeatures\u001b[0m\u001b[1;33m]\u001b[0m\u001b[1;33m,\u001b[0m \u001b[0my\u001b[0m\u001b[1;33m)\u001b[0m\u001b[1;33m\u001b[0m\u001b[1;33m\u001b[0m\u001b[0m\n\u001b[0m\u001b[0;32m    191\u001b[0m \u001b[1;33m\u001b[0m\u001b[0m\n\u001b[0;32m    192\u001b[0m             \u001b[1;31m# Get coefs\u001b[0m\u001b[1;33m\u001b[0m\u001b[1;33m\u001b[0m\u001b[1;33m\u001b[0m\u001b[0m\n",
      "\u001b[1;32m~\\Anaconda3\\lib\\site-packages\\sklearn\\linear_model\\_logistic.py\u001b[0m in \u001b[0;36mfit\u001b[1;34m(self, X, y, sample_weight)\u001b[0m\n\u001b[0;32m   1589\u001b[0m         \u001b[1;32melse\u001b[0m\u001b[1;33m:\u001b[0m\u001b[1;33m\u001b[0m\u001b[1;33m\u001b[0m\u001b[0m\n\u001b[0;32m   1590\u001b[0m             \u001b[0mprefer\u001b[0m \u001b[1;33m=\u001b[0m \u001b[1;34m'processes'\u001b[0m\u001b[1;33m\u001b[0m\u001b[1;33m\u001b[0m\u001b[0m\n\u001b[1;32m-> 1591\u001b[1;33m         fold_coefs_ = Parallel(n_jobs=self.n_jobs, verbose=self.verbose,\n\u001b[0m\u001b[0;32m   1592\u001b[0m                                \u001b[1;33m**\u001b[0m\u001b[0m_joblib_parallel_args\u001b[0m\u001b[1;33m(\u001b[0m\u001b[0mprefer\u001b[0m\u001b[1;33m=\u001b[0m\u001b[0mprefer\u001b[0m\u001b[1;33m)\u001b[0m\u001b[1;33m)\u001b[0m\u001b[1;33m(\u001b[0m\u001b[1;33m\u001b[0m\u001b[1;33m\u001b[0m\u001b[0m\n\u001b[0;32m   1593\u001b[0m             path_func(X, y, pos_class=class_, Cs=[C_],\n",
      "\u001b[1;32m~\\Anaconda3\\lib\\site-packages\\joblib\\parallel.py\u001b[0m in \u001b[0;36m__call__\u001b[1;34m(self, iterable)\u001b[0m\n\u001b[0;32m   1039\u001b[0m             \u001b[1;31m# remaining jobs.\u001b[0m\u001b[1;33m\u001b[0m\u001b[1;33m\u001b[0m\u001b[1;33m\u001b[0m\u001b[0m\n\u001b[0;32m   1040\u001b[0m             \u001b[0mself\u001b[0m\u001b[1;33m.\u001b[0m\u001b[0m_iterating\u001b[0m \u001b[1;33m=\u001b[0m \u001b[1;32mFalse\u001b[0m\u001b[1;33m\u001b[0m\u001b[1;33m\u001b[0m\u001b[0m\n\u001b[1;32m-> 1041\u001b[1;33m             \u001b[1;32mif\u001b[0m \u001b[0mself\u001b[0m\u001b[1;33m.\u001b[0m\u001b[0mdispatch_one_batch\u001b[0m\u001b[1;33m(\u001b[0m\u001b[0miterator\u001b[0m\u001b[1;33m)\u001b[0m\u001b[1;33m:\u001b[0m\u001b[1;33m\u001b[0m\u001b[1;33m\u001b[0m\u001b[0m\n\u001b[0m\u001b[0;32m   1042\u001b[0m                 \u001b[0mself\u001b[0m\u001b[1;33m.\u001b[0m\u001b[0m_iterating\u001b[0m \u001b[1;33m=\u001b[0m \u001b[0mself\u001b[0m\u001b[1;33m.\u001b[0m\u001b[0m_original_iterator\u001b[0m \u001b[1;32mis\u001b[0m \u001b[1;32mnot\u001b[0m \u001b[1;32mNone\u001b[0m\u001b[1;33m\u001b[0m\u001b[1;33m\u001b[0m\u001b[0m\n\u001b[0;32m   1043\u001b[0m \u001b[1;33m\u001b[0m\u001b[0m\n",
      "\u001b[1;32m~\\Anaconda3\\lib\\site-packages\\joblib\\parallel.py\u001b[0m in \u001b[0;36mdispatch_one_batch\u001b[1;34m(self, iterator)\u001b[0m\n\u001b[0;32m    857\u001b[0m                 \u001b[1;32mreturn\u001b[0m \u001b[1;32mFalse\u001b[0m\u001b[1;33m\u001b[0m\u001b[1;33m\u001b[0m\u001b[0m\n\u001b[0;32m    858\u001b[0m             \u001b[1;32melse\u001b[0m\u001b[1;33m:\u001b[0m\u001b[1;33m\u001b[0m\u001b[1;33m\u001b[0m\u001b[0m\n\u001b[1;32m--> 859\u001b[1;33m                 \u001b[0mself\u001b[0m\u001b[1;33m.\u001b[0m\u001b[0m_dispatch\u001b[0m\u001b[1;33m(\u001b[0m\u001b[0mtasks\u001b[0m\u001b[1;33m)\u001b[0m\u001b[1;33m\u001b[0m\u001b[1;33m\u001b[0m\u001b[0m\n\u001b[0m\u001b[0;32m    860\u001b[0m                 \u001b[1;32mreturn\u001b[0m \u001b[1;32mTrue\u001b[0m\u001b[1;33m\u001b[0m\u001b[1;33m\u001b[0m\u001b[0m\n\u001b[0;32m    861\u001b[0m \u001b[1;33m\u001b[0m\u001b[0m\n",
      "\u001b[1;32m~\\Anaconda3\\lib\\site-packages\\joblib\\parallel.py\u001b[0m in \u001b[0;36m_dispatch\u001b[1;34m(self, batch)\u001b[0m\n\u001b[0;32m    775\u001b[0m         \u001b[1;32mwith\u001b[0m \u001b[0mself\u001b[0m\u001b[1;33m.\u001b[0m\u001b[0m_lock\u001b[0m\u001b[1;33m:\u001b[0m\u001b[1;33m\u001b[0m\u001b[1;33m\u001b[0m\u001b[0m\n\u001b[0;32m    776\u001b[0m             \u001b[0mjob_idx\u001b[0m \u001b[1;33m=\u001b[0m \u001b[0mlen\u001b[0m\u001b[1;33m(\u001b[0m\u001b[0mself\u001b[0m\u001b[1;33m.\u001b[0m\u001b[0m_jobs\u001b[0m\u001b[1;33m)\u001b[0m\u001b[1;33m\u001b[0m\u001b[1;33m\u001b[0m\u001b[0m\n\u001b[1;32m--> 777\u001b[1;33m             \u001b[0mjob\u001b[0m \u001b[1;33m=\u001b[0m \u001b[0mself\u001b[0m\u001b[1;33m.\u001b[0m\u001b[0m_backend\u001b[0m\u001b[1;33m.\u001b[0m\u001b[0mapply_async\u001b[0m\u001b[1;33m(\u001b[0m\u001b[0mbatch\u001b[0m\u001b[1;33m,\u001b[0m \u001b[0mcallback\u001b[0m\u001b[1;33m=\u001b[0m\u001b[0mcb\u001b[0m\u001b[1;33m)\u001b[0m\u001b[1;33m\u001b[0m\u001b[1;33m\u001b[0m\u001b[0m\n\u001b[0m\u001b[0;32m    778\u001b[0m             \u001b[1;31m# A job can complete so quickly than its callback is\u001b[0m\u001b[1;33m\u001b[0m\u001b[1;33m\u001b[0m\u001b[1;33m\u001b[0m\u001b[0m\n\u001b[0;32m    779\u001b[0m             \u001b[1;31m# called before we get here, causing self._jobs to\u001b[0m\u001b[1;33m\u001b[0m\u001b[1;33m\u001b[0m\u001b[1;33m\u001b[0m\u001b[0m\n",
      "\u001b[1;32m~\\Anaconda3\\lib\\site-packages\\joblib\\_parallel_backends.py\u001b[0m in \u001b[0;36mapply_async\u001b[1;34m(self, func, callback)\u001b[0m\n\u001b[0;32m    206\u001b[0m     \u001b[1;32mdef\u001b[0m \u001b[0mapply_async\u001b[0m\u001b[1;33m(\u001b[0m\u001b[0mself\u001b[0m\u001b[1;33m,\u001b[0m \u001b[0mfunc\u001b[0m\u001b[1;33m,\u001b[0m \u001b[0mcallback\u001b[0m\u001b[1;33m=\u001b[0m\u001b[1;32mNone\u001b[0m\u001b[1;33m)\u001b[0m\u001b[1;33m:\u001b[0m\u001b[1;33m\u001b[0m\u001b[1;33m\u001b[0m\u001b[0m\n\u001b[0;32m    207\u001b[0m         \u001b[1;34m\"\"\"Schedule a func to be run\"\"\"\u001b[0m\u001b[1;33m\u001b[0m\u001b[1;33m\u001b[0m\u001b[0m\n\u001b[1;32m--> 208\u001b[1;33m         \u001b[0mresult\u001b[0m \u001b[1;33m=\u001b[0m \u001b[0mImmediateResult\u001b[0m\u001b[1;33m(\u001b[0m\u001b[0mfunc\u001b[0m\u001b[1;33m)\u001b[0m\u001b[1;33m\u001b[0m\u001b[1;33m\u001b[0m\u001b[0m\n\u001b[0m\u001b[0;32m    209\u001b[0m         \u001b[1;32mif\u001b[0m \u001b[0mcallback\u001b[0m\u001b[1;33m:\u001b[0m\u001b[1;33m\u001b[0m\u001b[1;33m\u001b[0m\u001b[0m\n\u001b[0;32m    210\u001b[0m             \u001b[0mcallback\u001b[0m\u001b[1;33m(\u001b[0m\u001b[0mresult\u001b[0m\u001b[1;33m)\u001b[0m\u001b[1;33m\u001b[0m\u001b[1;33m\u001b[0m\u001b[0m\n",
      "\u001b[1;32m~\\Anaconda3\\lib\\site-packages\\joblib\\_parallel_backends.py\u001b[0m in \u001b[0;36m__init__\u001b[1;34m(self, batch)\u001b[0m\n\u001b[0;32m    570\u001b[0m         \u001b[1;31m# Don't delay the application, to avoid keeping the input\u001b[0m\u001b[1;33m\u001b[0m\u001b[1;33m\u001b[0m\u001b[1;33m\u001b[0m\u001b[0m\n\u001b[0;32m    571\u001b[0m         \u001b[1;31m# arguments in memory\u001b[0m\u001b[1;33m\u001b[0m\u001b[1;33m\u001b[0m\u001b[1;33m\u001b[0m\u001b[0m\n\u001b[1;32m--> 572\u001b[1;33m         \u001b[0mself\u001b[0m\u001b[1;33m.\u001b[0m\u001b[0mresults\u001b[0m \u001b[1;33m=\u001b[0m \u001b[0mbatch\u001b[0m\u001b[1;33m(\u001b[0m\u001b[1;33m)\u001b[0m\u001b[1;33m\u001b[0m\u001b[1;33m\u001b[0m\u001b[0m\n\u001b[0m\u001b[0;32m    573\u001b[0m \u001b[1;33m\u001b[0m\u001b[0m\n\u001b[0;32m    574\u001b[0m     \u001b[1;32mdef\u001b[0m \u001b[0mget\u001b[0m\u001b[1;33m(\u001b[0m\u001b[0mself\u001b[0m\u001b[1;33m)\u001b[0m\u001b[1;33m:\u001b[0m\u001b[1;33m\u001b[0m\u001b[1;33m\u001b[0m\u001b[0m\n",
      "\u001b[1;32m~\\Anaconda3\\lib\\site-packages\\joblib\\parallel.py\u001b[0m in \u001b[0;36m__call__\u001b[1;34m(self)\u001b[0m\n\u001b[0;32m    260\u001b[0m         \u001b[1;31m# change the default number of processes to -1\u001b[0m\u001b[1;33m\u001b[0m\u001b[1;33m\u001b[0m\u001b[1;33m\u001b[0m\u001b[0m\n\u001b[0;32m    261\u001b[0m         \u001b[1;32mwith\u001b[0m \u001b[0mparallel_backend\u001b[0m\u001b[1;33m(\u001b[0m\u001b[0mself\u001b[0m\u001b[1;33m.\u001b[0m\u001b[0m_backend\u001b[0m\u001b[1;33m,\u001b[0m \u001b[0mn_jobs\u001b[0m\u001b[1;33m=\u001b[0m\u001b[0mself\u001b[0m\u001b[1;33m.\u001b[0m\u001b[0m_n_jobs\u001b[0m\u001b[1;33m)\u001b[0m\u001b[1;33m:\u001b[0m\u001b[1;33m\u001b[0m\u001b[1;33m\u001b[0m\u001b[0m\n\u001b[1;32m--> 262\u001b[1;33m             return [func(*args, **kwargs)\n\u001b[0m\u001b[0;32m    263\u001b[0m                     for func, args, kwargs in self.items]\n\u001b[0;32m    264\u001b[0m \u001b[1;33m\u001b[0m\u001b[0m\n",
      "\u001b[1;32m~\\Anaconda3\\lib\\site-packages\\joblib\\parallel.py\u001b[0m in \u001b[0;36m<listcomp>\u001b[1;34m(.0)\u001b[0m\n\u001b[0;32m    260\u001b[0m         \u001b[1;31m# change the default number of processes to -1\u001b[0m\u001b[1;33m\u001b[0m\u001b[1;33m\u001b[0m\u001b[1;33m\u001b[0m\u001b[0m\n\u001b[0;32m    261\u001b[0m         \u001b[1;32mwith\u001b[0m \u001b[0mparallel_backend\u001b[0m\u001b[1;33m(\u001b[0m\u001b[0mself\u001b[0m\u001b[1;33m.\u001b[0m\u001b[0m_backend\u001b[0m\u001b[1;33m,\u001b[0m \u001b[0mn_jobs\u001b[0m\u001b[1;33m=\u001b[0m\u001b[0mself\u001b[0m\u001b[1;33m.\u001b[0m\u001b[0m_n_jobs\u001b[0m\u001b[1;33m)\u001b[0m\u001b[1;33m:\u001b[0m\u001b[1;33m\u001b[0m\u001b[1;33m\u001b[0m\u001b[0m\n\u001b[1;32m--> 262\u001b[1;33m             return [func(*args, **kwargs)\n\u001b[0m\u001b[0;32m    263\u001b[0m                     for func, args, kwargs in self.items]\n\u001b[0;32m    264\u001b[0m \u001b[1;33m\u001b[0m\u001b[0m\n",
      "\u001b[1;32m~\\Anaconda3\\lib\\site-packages\\sklearn\\linear_model\\_logistic.py\u001b[0m in \u001b[0;36m_logistic_regression_path\u001b[1;34m(X, y, pos_class, Cs, fit_intercept, max_iter, tol, verbose, solver, coef, class_weight, dual, penalty, intercept_scaling, multi_class, random_state, check_input, max_squared_sum, sample_weight, l1_ratio)\u001b[0m\n\u001b[0;32m    936\u001b[0m                 \u001b[0moptions\u001b[0m\u001b[1;33m=\u001b[0m\u001b[1;33m{\u001b[0m\u001b[1;34m\"iprint\"\u001b[0m\u001b[1;33m:\u001b[0m \u001b[0miprint\u001b[0m\u001b[1;33m,\u001b[0m \u001b[1;34m\"gtol\"\u001b[0m\u001b[1;33m:\u001b[0m \u001b[0mtol\u001b[0m\u001b[1;33m,\u001b[0m \u001b[1;34m\"maxiter\"\u001b[0m\u001b[1;33m:\u001b[0m \u001b[0mmax_iter\u001b[0m\u001b[1;33m}\u001b[0m\u001b[1;33m\u001b[0m\u001b[1;33m\u001b[0m\u001b[0m\n\u001b[0;32m    937\u001b[0m             )\n\u001b[1;32m--> 938\u001b[1;33m             n_iter_i = _check_optimize_result(\n\u001b[0m\u001b[0;32m    939\u001b[0m                 \u001b[0msolver\u001b[0m\u001b[1;33m,\u001b[0m \u001b[0mopt_res\u001b[0m\u001b[1;33m,\u001b[0m \u001b[0mmax_iter\u001b[0m\u001b[1;33m,\u001b[0m\u001b[1;33m\u001b[0m\u001b[1;33m\u001b[0m\u001b[0m\n\u001b[0;32m    940\u001b[0m                 extra_warning_msg=_LOGISTIC_SOLVER_CONVERGENCE_MSG)\n",
      "\u001b[1;32m~\\Anaconda3\\lib\\site-packages\\sklearn\\utils\\optimize.py\u001b[0m in \u001b[0;36m_check_optimize_result\u001b[1;34m(solver, result, max_iter, extra_warning_msg)\u001b[0m\n\u001b[0;32m    241\u001b[0m                 \u001b[1;34m\"    https://scikit-learn.org/stable/modules/\"\u001b[0m\u001b[1;33m\u001b[0m\u001b[1;33m\u001b[0m\u001b[0m\n\u001b[0;32m    242\u001b[0m                 \u001b[1;34m\"preprocessing.html\"\u001b[0m\u001b[1;33m\u001b[0m\u001b[1;33m\u001b[0m\u001b[0m\n\u001b[1;32m--> 243\u001b[1;33m             ).format(solver, result.status, result.message.decode(\"latin1\"))\n\u001b[0m\u001b[0;32m    244\u001b[0m             \u001b[1;32mif\u001b[0m \u001b[0mextra_warning_msg\u001b[0m \u001b[1;32mis\u001b[0m \u001b[1;32mnot\u001b[0m \u001b[1;32mNone\u001b[0m\u001b[1;33m:\u001b[0m\u001b[1;33m\u001b[0m\u001b[1;33m\u001b[0m\u001b[0m\n\u001b[0;32m    245\u001b[0m                 \u001b[0mwarning_msg\u001b[0m \u001b[1;33m+=\u001b[0m \u001b[1;34m\"\\n\"\u001b[0m \u001b[1;33m+\u001b[0m \u001b[0mextra_warning_msg\u001b[0m\u001b[1;33m\u001b[0m\u001b[1;33m\u001b[0m\u001b[0m\n",
      "\u001b[1;31mAttributeError\u001b[0m: 'str' object has no attribute 'decode'"
     ]
    }
   ],
   "source": [
    "# Selection of 15 features by RFE\n",
    "rfe = RFE(logreg, 15)\n",
    "rfe = rfe.fit(X_train, y_train)"
   ]
  },
  {
   "cell_type": "code",
   "execution_count": null,
   "id": "2a87d11c",
   "metadata": {
    "ExecuteTime": {
     "end_time": "2022-01-31T20:20:13.964640Z",
     "start_time": "2022-01-31T20:18:55.988Z"
    }
   },
   "outputs": [],
   "source": [
    "# Looking at the feature names selected by RFE\n",
    "list(zip(X_train.columns, rfe.support_, rfe.ranking_))"
   ]
  },
  {
   "cell_type": "code",
   "execution_count": null,
   "id": "b0513ec6",
   "metadata": {
    "ExecuteTime": {
     "end_time": "2022-01-31T20:20:13.967644Z",
     "start_time": "2022-01-31T20:18:55.997Z"
    }
   },
   "outputs": [],
   "source": [
    "# Get only the columns selected by RFE\n",
    "col = X_train.columns[ rfe.support_ ]"
   ]
  },
  {
   "cell_type": "code",
   "execution_count": null,
   "id": "60a799b1",
   "metadata": {
    "ExecuteTime": {
     "end_time": "2022-01-31T20:20:13.971643Z",
     "start_time": "2022-01-31T20:18:56.006Z"
    }
   },
   "outputs": [],
   "source": [
    "col"
   ]
  },
  {
   "cell_type": "code",
   "execution_count": null,
   "id": "6821bb8b",
   "metadata": {
    "ExecuteTime": {
     "end_time": "2022-01-31T20:20:13.974375Z",
     "start_time": "2022-01-31T20:18:56.016Z"
    }
   },
   "outputs": [],
   "source": [
    "# Columns not selected by RFE\n",
    "X_train.columns[~rfe.support_]"
   ]
  },
  {
   "cell_type": "markdown",
   "id": "81109122",
   "metadata": {},
   "source": [
    "## Model 2"
   ]
  },
  {
   "cell_type": "code",
   "execution_count": null,
   "id": "b31272d4",
   "metadata": {
    "ExecuteTime": {
     "end_time": "2022-01-31T20:20:13.977374Z",
     "start_time": "2022-01-31T20:18:56.029Z"
    }
   },
   "outputs": [],
   "source": [
    "X_train_sm = sm.add_constant(X_train[col])"
   ]
  },
  {
   "cell_type": "code",
   "execution_count": null,
   "id": "87bca01e",
   "metadata": {
    "ExecuteTime": {
     "end_time": "2022-01-31T20:20:13.980374Z",
     "start_time": "2022-01-31T20:18:56.042Z"
    }
   },
   "outputs": [],
   "source": [
    "# Second model\n",
    "logm2 = sm.GLM(y_train, X_train_sm, family = sm.families.Binomial())"
   ]
  },
  {
   "cell_type": "code",
   "execution_count": null,
   "id": "552b558b",
   "metadata": {
    "ExecuteTime": {
     "end_time": "2022-01-31T20:20:13.983375Z",
     "start_time": "2022-01-31T20:18:56.055Z"
    }
   },
   "outputs": [],
   "source": [
    "# Fitting the model\n",
    "res = logm2.fit()"
   ]
  },
  {
   "cell_type": "code",
   "execution_count": null,
   "id": "a0f70649",
   "metadata": {
    "ExecuteTime": {
     "end_time": "2022-01-31T20:20:13.986374Z",
     "start_time": "2022-01-31T20:18:56.068Z"
    }
   },
   "outputs": [],
   "source": [
    "# Checking the summary of model statistics\n",
    "res.summary()"
   ]
  },
  {
   "cell_type": "markdown",
   "id": "615cdb84",
   "metadata": {},
   "source": [
    "### Check VIFs"
   ]
  },
  {
   "cell_type": "code",
   "execution_count": null,
   "id": "216522c3",
   "metadata": {
    "ExecuteTime": {
     "end_time": "2022-01-31T20:20:13.988378Z",
     "start_time": "2022-01-31T20:18:56.081Z"
    }
   },
   "outputs": [],
   "source": [
    "# import variance_inflation_factor from statsmodels\n",
    "from statsmodels.stats.outliers_influence import variance_inflation_factor"
   ]
  },
  {
   "cell_type": "code",
   "execution_count": null,
   "id": "4e521558",
   "metadata": {
    "ExecuteTime": {
     "end_time": "2022-01-31T20:20:13.991375Z",
     "start_time": "2022-01-31T20:18:56.093Z"
    }
   },
   "outputs": [],
   "source": [
    "# Create a dataframe that contains the names of all the feature variables and their corresponding VIFs\n",
    "vif = pd.DataFrame()\n",
    "vif['Features'] = X_train[col].columns\n",
    "vif['VIF'] = [variance_inflation_factor(X_train[col].values, i) for i in range(X_train[col].shape[1])]\n",
    "vif['VIF'] = round(vif['VIF'],2)\n",
    "vif = vif.sort_values(by = 'VIF', ascending=False)\n",
    "vif"
   ]
  },
  {
   "cell_type": "markdown",
   "id": "28856790",
   "metadata": {},
   "source": [
    "There are 3 variables with high VIF. It's best to drop these variables as they aren't helping much with prediction and unnecessarily making the model complex.\n",
    "We will start by dropping the variable 'Lead Source_Reference' as it has high VIF and high p-value (> 0.05)"
   ]
  },
  {
   "cell_type": "code",
   "execution_count": null,
   "id": "6ab84dd5",
   "metadata": {
    "ExecuteTime": {
     "end_time": "2022-01-31T20:20:13.994376Z",
     "start_time": "2022-01-31T20:18:56.107Z"
    }
   },
   "outputs": [],
   "source": [
    "col = col.drop('Lead Source_Reference', 1)\n",
    "len(col)"
   ]
  },
  {
   "cell_type": "markdown",
   "id": "bb4f23cc",
   "metadata": {},
   "source": [
    "## Model3"
   ]
  },
  {
   "cell_type": "code",
   "execution_count": null,
   "id": "b18bc9b7",
   "metadata": {
    "ExecuteTime": {
     "end_time": "2022-01-31T20:20:13.998374Z",
     "start_time": "2022-01-31T20:18:56.122Z"
    }
   },
   "outputs": [],
   "source": [
    "X_train_sm = sm.add_constant(X_train[col])\n",
    "logm3 = sm.GLM(y_train, X_train_sm, family = sm.families.Binomial())\n",
    "res = logm3.fit()\n",
    "res.summary()"
   ]
  },
  {
   "cell_type": "markdown",
   "id": "ff84b55d",
   "metadata": {},
   "source": [
    "### Check VIFs"
   ]
  },
  {
   "cell_type": "code",
   "execution_count": null,
   "id": "4165cdfd",
   "metadata": {
    "ExecuteTime": {
     "end_time": "2022-01-31T20:20:14.001376Z",
     "start_time": "2022-01-31T20:18:56.136Z"
    }
   },
   "outputs": [],
   "source": [
    "# import variance_inflation_factor from statsmodels\n",
    "from statsmodels.stats.outliers_influence import variance_inflation_factor"
   ]
  },
  {
   "cell_type": "code",
   "execution_count": null,
   "id": "a396524c",
   "metadata": {
    "ExecuteTime": {
     "end_time": "2022-01-31T20:20:14.005374Z",
     "start_time": "2022-01-31T20:18:56.150Z"
    }
   },
   "outputs": [],
   "source": [
    "# Create a dataframe that contains the names of all the feature variables and their corresponding VIFs\n",
    "vif = pd.DataFrame()\n",
    "vif['Features'] = X_train[col].columns\n",
    "vif['VIF'] = [variance_inflation_factor(X_train[col].values, i) for i in range(X_train[col].shape[1])]\n",
    "vif['VIF'] = round(vif['VIF'],2)\n",
    "vif = vif.sort_values(by = 'VIF', ascending=False)\n",
    "vif"
   ]
  },
  {
   "cell_type": "markdown",
   "id": "74086c4b",
   "metadata": {},
   "source": [
    "We can see that all VIF values are less than 5. <br>\n",
    "So, we will start dropping columns with high p-values: <br>\n",
    "Column to be dropped - `Last Notable Activity_Had a Phone Conversation`"
   ]
  },
  {
   "cell_type": "code",
   "execution_count": null,
   "id": "9de13401",
   "metadata": {
    "ExecuteTime": {
     "end_time": "2022-01-31T20:20:14.008374Z",
     "start_time": "2022-01-31T20:18:56.165Z"
    }
   },
   "outputs": [],
   "source": [
    "col = col.drop('Last Notable Activity_Had a Phone Conversation', 1)\n",
    "len(col)"
   ]
  },
  {
   "cell_type": "markdown",
   "id": "17cb79d7",
   "metadata": {},
   "source": [
    "## Model 4"
   ]
  },
  {
   "cell_type": "code",
   "execution_count": null,
   "id": "12aea4c1",
   "metadata": {
    "ExecuteTime": {
     "end_time": "2022-01-31T20:20:14.011379Z",
     "start_time": "2022-01-31T20:18:56.181Z"
    }
   },
   "outputs": [],
   "source": [
    "X_train_sm = sm.add_constant(X_train[col])\n",
    "logm4 = sm.GLM(y_train, X_train_sm, family = sm.families.Binomial())\n",
    "res = logm4.fit()\n",
    "res.summary()"
   ]
  },
  {
   "cell_type": "markdown",
   "id": "6759ea11",
   "metadata": {},
   "source": [
    "Column to be dropped with high p-value - `What is your current occupation_Housewife`"
   ]
  },
  {
   "cell_type": "code",
   "execution_count": null,
   "id": "4a262563",
   "metadata": {
    "ExecuteTime": {
     "end_time": "2022-01-31T20:20:14.014374Z",
     "start_time": "2022-01-31T20:18:56.191Z"
    }
   },
   "outputs": [],
   "source": [
    "col = col.drop('What is your current occupation_Housewife', 1)\n",
    "len(col)"
   ]
  },
  {
   "cell_type": "markdown",
   "id": "b88a18fc",
   "metadata": {},
   "source": [
    "## Model 5"
   ]
  },
  {
   "cell_type": "code",
   "execution_count": null,
   "id": "40407dbf",
   "metadata": {
    "ExecuteTime": {
     "end_time": "2022-01-31T20:20:14.017378Z",
     "start_time": "2022-01-31T20:18:56.203Z"
    }
   },
   "outputs": [],
   "source": [
    "X_train_sm = sm.add_constant(X_train[col])\n",
    "logm5 = sm.GLM(y_train, X_train_sm, family = sm.families.Binomial())\n",
    "res = logm5.fit()\n",
    "res.summary()"
   ]
  },
  {
   "cell_type": "markdown",
   "id": "1caeb47d",
   "metadata": {},
   "source": [
    "Column to be dropped with high p-value - `What is your current occupation_Working Professional`"
   ]
  },
  {
   "cell_type": "code",
   "execution_count": null,
   "id": "c94a9f2c",
   "metadata": {
    "ExecuteTime": {
     "end_time": "2022-01-31T20:20:14.020374Z",
     "start_time": "2022-01-31T20:18:56.215Z"
    }
   },
   "outputs": [],
   "source": [
    "col = col.drop('What is your current occupation_Working Professional', 1)\n",
    "len(col)"
   ]
  },
  {
   "cell_type": "markdown",
   "id": "c1bdabfc",
   "metadata": {},
   "source": [
    "## Model 6"
   ]
  },
  {
   "cell_type": "code",
   "execution_count": null,
   "id": "076c0e33",
   "metadata": {
    "ExecuteTime": {
     "end_time": "2022-01-31T20:20:14.023376Z",
     "start_time": "2022-01-31T20:18:56.227Z"
    }
   },
   "outputs": [],
   "source": [
    "X_train_sm = sm.add_constant(X_train[col])\n",
    "logm6 = sm.GLM(y_train, X_train_sm, family = sm.families.Binomial())\n",
    "res = logm6.fit()\n",
    "res.summary()"
   ]
  },
  {
   "cell_type": "markdown",
   "id": "0d513c4e",
   "metadata": {},
   "source": [
    "All p-values are now < 0.05. We will again check VIF to make sure it's less than 5"
   ]
  },
  {
   "cell_type": "markdown",
   "id": "4581d308",
   "metadata": {},
   "source": [
    "### Check VIFs"
   ]
  },
  {
   "cell_type": "code",
   "execution_count": null,
   "id": "ad19aaf0",
   "metadata": {
    "ExecuteTime": {
     "end_time": "2022-01-31T20:20:14.026376Z",
     "start_time": "2022-01-31T20:18:56.244Z"
    }
   },
   "outputs": [],
   "source": [
    "# Create a dataframe that contains the names of all the feature variables and their corresponding VIFs\n",
    "vif = pd.DataFrame()\n",
    "vif['Features'] = X_train[col].columns\n",
    "vif['VIF'] = [variance_inflation_factor(X_train[col].values, i) for i in range(X_train[col].shape[1])]\n",
    "vif['VIF'] = round(vif['VIF'],2)\n",
    "vif = vif.sort_values(by = 'VIF', ascending=False)\n",
    "vif"
   ]
  },
  {
   "cell_type": "markdown",
   "id": "7f6e0f75",
   "metadata": {},
   "source": [
    "# Model Evaluation"
   ]
  },
  {
   "cell_type": "code",
   "execution_count": null,
   "id": "fa0c4733",
   "metadata": {
    "ExecuteTime": {
     "end_time": "2022-01-31T20:20:14.029467Z",
     "start_time": "2022-01-31T20:18:56.258Z"
    }
   },
   "outputs": [],
   "source": [
    "X_train_sm.shape"
   ]
  },
  {
   "cell_type": "code",
   "execution_count": null,
   "id": "d9d7abc0",
   "metadata": {
    "ExecuteTime": {
     "end_time": "2022-01-31T20:20:14.032603Z",
     "start_time": "2022-01-31T20:18:56.272Z"
    }
   },
   "outputs": [],
   "source": [
    "# Predicting probabilities on the Train set\n",
    "y_train_pred = res.predict(X_train_sm).values.reshape(-1)\n",
    "y_train_pred[:10]"
   ]
  },
  {
   "cell_type": "markdown",
   "id": "4f8ede97",
   "metadata": {},
   "source": [
    "## Create a dataframe with y_train (target value) and y_train_pred (predicted probability)"
   ]
  },
  {
   "cell_type": "code",
   "execution_count": null,
   "id": "a7f1ad0c",
   "metadata": {
    "ExecuteTime": {
     "end_time": "2022-01-31T20:20:14.032603Z",
     "start_time": "2022-01-31T20:18:56.286Z"
    }
   },
   "outputs": [],
   "source": [
    "y_train_pred_final = pd.DataFrame({\"Converted\": y_train.values, \"Conversion_Prob\": y_train_pred})\n",
    "y_train_pred_final.head()"
   ]
  },
  {
   "cell_type": "markdown",
   "id": "43ca49a3",
   "metadata": {},
   "source": [
    "## Create new column \"Predicted\" with 1 if 'Conversion_Prob' > 0.5 else 0"
   ]
  },
  {
   "cell_type": "code",
   "execution_count": null,
   "id": "5d2502a5",
   "metadata": {
    "ExecuteTime": {
     "end_time": "2022-01-31T20:20:14.032603Z",
     "start_time": "2022-01-31T20:18:56.297Z"
    }
   },
   "outputs": [],
   "source": [
    "y_train_pred_final['Predicted'] = y_train_pred_final.Conversion_Prob.map(lambda x: 1 if x > 0.5 else 0)\n",
    "y_train_pred_final.head()"
   ]
  },
  {
   "cell_type": "markdown",
   "id": "0549f79b",
   "metadata": {},
   "source": [
    "## Evaluation"
   ]
  },
  {
   "cell_type": "code",
   "execution_count": null,
   "id": "a194dbe1",
   "metadata": {
    "ExecuteTime": {
     "end_time": "2022-01-31T20:20:14.032603Z",
     "start_time": "2022-01-31T20:18:56.309Z"
    }
   },
   "outputs": [],
   "source": [
    "# For evaluation metrics, import metrics from sklearn\n",
    "from sklearn import metrics"
   ]
  },
  {
   "cell_type": "code",
   "execution_count": null,
   "id": "54ef2d17",
   "metadata": {
    "ExecuteTime": {
     "end_time": "2022-01-31T20:20:14.044829Z",
     "start_time": "2022-01-31T20:18:56.318Z"
    }
   },
   "outputs": [],
   "source": [
    "# Let's check the overall accuracy.\n",
    "print(metrics.accuracy_score(y_train_pred_final.Converted, y_train_pred_final.Predicted))"
   ]
  },
  {
   "cell_type": "code",
   "execution_count": null,
   "id": "31616cf9",
   "metadata": {
    "ExecuteTime": {
     "end_time": "2022-01-31T20:20:14.047829Z",
     "start_time": "2022-01-31T20:18:56.328Z"
    }
   },
   "outputs": [],
   "source": [
    "# Confusion Matrix\n",
    "confusion = metrics.confusion_matrix(y_train_pred_final.Converted, y_train_pred_final.Predicted)\n",
    "print(confusion)"
   ]
  },
  {
   "cell_type": "markdown",
   "id": "9da3e76b",
   "metadata": {},
   "source": [
    "| Actual/Predicted | Not Converted | Converted |\n",
    "| --- | --- | --- |\n",
    "| Not Converted | 1929   | 383 |\n",
    "| Converted | 560     | 1589 |"
   ]
  },
  {
   "cell_type": "code",
   "execution_count": null,
   "id": "e6aaccc5",
   "metadata": {
    "ExecuteTime": {
     "end_time": "2022-01-31T20:20:14.050509Z",
     "start_time": "2022-01-31T20:18:56.338Z"
    }
   },
   "outputs": [],
   "source": [
    "# Evaluation of other metrics than accuracy\n",
    "\n",
    "TP = confusion[1,1] # True Positive\n",
    "TN = confusion[0,0] # True Negative\n",
    "FP = confusion[0,1] # False Positive\n",
    "FN = confusion[1,0] # False Negative"
   ]
  },
  {
   "cell_type": "code",
   "execution_count": null,
   "id": "b0d7edd6",
   "metadata": {
    "ExecuteTime": {
     "end_time": "2022-01-31T20:20:14.050509Z",
     "start_time": "2022-01-31T20:18:56.347Z"
    }
   },
   "outputs": [],
   "source": [
    "# Calculating Sensitivity of the model\n",
    "TP / (TP + FN)"
   ]
  },
  {
   "cell_type": "code",
   "execution_count": null,
   "id": "dcfbacd6",
   "metadata": {
    "ExecuteTime": {
     "end_time": "2022-01-31T20:20:14.050509Z",
     "start_time": "2022-01-31T20:18:56.357Z"
    }
   },
   "outputs": [],
   "source": [
    "# Calculating Specificity of the model\n",
    "TN / (TN + FP)"
   ]
  },
  {
   "cell_type": "code",
   "execution_count": null,
   "id": "3d48ba19",
   "metadata": {
    "ExecuteTime": {
     "end_time": "2022-01-31T20:20:14.060615Z",
     "start_time": "2022-01-31T20:18:56.368Z"
    }
   },
   "outputs": [],
   "source": [
    "# Calculating False Positive rate (i.e. Predicting Churn when the Customer has not Churned)\n",
    "print(FP / float(TN + FP))"
   ]
  },
  {
   "cell_type": "code",
   "execution_count": null,
   "id": "ce063c50",
   "metadata": {
    "ExecuteTime": {
     "end_time": "2022-01-31T20:20:14.063506Z",
     "start_time": "2022-01-31T20:18:56.376Z"
    }
   },
   "outputs": [],
   "source": [
    "# Calculating Positive Predictive rate (i.e. Rate of identifying Actual Churn as Churn) (also called \"Precision\")\n",
    "print(TP / float(TP + FP))"
   ]
  },
  {
   "cell_type": "code",
   "execution_count": null,
   "id": "64109a7f",
   "metadata": {
    "ExecuteTime": {
     "end_time": "2022-01-31T20:20:14.066504Z",
     "start_time": "2022-01-31T20:18:56.384Z"
    }
   },
   "outputs": [],
   "source": [
    "# Calculating Negative Predictive rate (i.e. Rate of identifying Actual Non-Churn as Non-Churn)\n",
    "print(TN / float(TN + FN))"
   ]
  },
  {
   "cell_type": "markdown",
   "id": "e44b2112",
   "metadata": {},
   "source": [
    "## Plotting ROC curve"
   ]
  },
  {
   "cell_type": "markdown",
   "id": "a5e8d1f2",
   "metadata": {},
   "source": [
    "An ROC (Receiver Operating Characteristic) curve demonstrates several things:\n",
    "\n",
    "- It shows the tradeoff between sensitivity and specificity (any increase in sensitivity will be accompanied by a decrease in specificity).\n",
    "- The closer the curve follows the left-hand border and then the top border of the ROC space, the more accurate the test.\n",
    "- The closer the curve comes to the 45-degree diagonal of the ROC space, the less accurate the test."
   ]
  },
  {
   "cell_type": "code",
   "execution_count": null,
   "id": "8bfa4c03",
   "metadata": {
    "ExecuteTime": {
     "end_time": "2022-01-31T20:20:14.069503Z",
     "start_time": "2022-01-31T20:18:56.399Z"
    }
   },
   "outputs": [],
   "source": [
    "def draw_roc( actual, probs ):\n",
    "    fpr, tpr, thresholds = metrics.roc_curve( actual, probs,\n",
    "                                              drop_intermediate = False )\n",
    "    auc_score = metrics.roc_auc_score( actual, probs )\n",
    "    plt.figure(figsize=(5, 5))\n",
    "    plt.plot( fpr, tpr, label='ROC curve (area = %0.2f)' % auc_score )\n",
    "    plt.plot([0, 1], [0, 1], 'k--')\n",
    "    plt.xlim([0.0, 1.0])\n",
    "    plt.ylim([0.0, 1.05])\n",
    "    plt.xlabel('False Positive Rate or [1 - True Negative Rate]')\n",
    "    plt.ylabel('True Positive Rate')\n",
    "    plt.title('Receiver operating characteristic example')\n",
    "    plt.legend(loc=\"lower right\")\n",
    "    plt.show()\n",
    "\n",
    "    return None"
   ]
  },
  {
   "cell_type": "code",
   "execution_count": null,
   "id": "adadfd71",
   "metadata": {
    "ExecuteTime": {
     "end_time": "2022-01-31T20:20:14.072504Z",
     "start_time": "2022-01-31T20:18:56.410Z"
    }
   },
   "outputs": [],
   "source": [
    "fpr, tpr, thresholds = metrics.roc_curve( y_train_pred_final.Converted, y_train_pred_final.Conversion_Prob, drop_intermediate = False )"
   ]
  },
  {
   "cell_type": "code",
   "execution_count": null,
   "id": "473fd3bd",
   "metadata": {
    "ExecuteTime": {
     "end_time": "2022-01-31T20:20:14.075504Z",
     "start_time": "2022-01-31T20:18:56.425Z"
    }
   },
   "outputs": [],
   "source": [
    "draw_roc(y_train_pred_final.Converted, y_train_pred_final.Conversion_Prob)"
   ]
  },
  {
   "cell_type": "markdown",
   "id": "bbbfb69a",
   "metadata": {},
   "source": [
    "We have the Area Under the Curve as 0.86 which is a good model. So, we will go ahead and find the Optimal Cut-off Point based on Sensivitivity V/S Specificity trade-off"
   ]
  },
  {
   "cell_type": "markdown",
   "id": "964adf61",
   "metadata": {},
   "source": [
    "## Finding the Optimal cut-off point"
   ]
  },
  {
   "cell_type": "markdown",
   "id": "b92cc4ec",
   "metadata": {},
   "source": [
    "Since 0.5 is an arbitrary cut-off chosen by us, we want to find the Optimal cut-off point where sensitivity and specificity are balanced"
   ]
  },
  {
   "cell_type": "code",
   "execution_count": null,
   "id": "bb1a3b4d",
   "metadata": {
    "ExecuteTime": {
     "end_time": "2022-01-31T20:20:14.079747Z",
     "start_time": "2022-01-31T20:18:56.451Z"
    }
   },
   "outputs": [],
   "source": [
    "# Let's create columns with different probability cutoffs \n",
    "numbers = [float(x)/10 for x in range(10)]\n",
    "for i in numbers:\n",
    "    y_train_pred_final[i]= y_train_pred_final.Conversion_Prob.map(lambda x: 1 if x > i else 0)\n",
    "y_train_pred_final.head()"
   ]
  },
  {
   "cell_type": "code",
   "execution_count": null,
   "id": "a7d94e78",
   "metadata": {
    "ExecuteTime": {
     "end_time": "2022-01-31T20:20:14.082723Z",
     "start_time": "2022-01-31T20:18:56.470Z"
    }
   },
   "outputs": [],
   "source": [
    "y_train_pred_final.head(20)"
   ]
  },
  {
   "cell_type": "code",
   "execution_count": null,
   "id": "abf63949",
   "metadata": {
    "ExecuteTime": {
     "end_time": "2022-01-31T20:20:14.085967Z",
     "start_time": "2022-01-31T20:18:56.481Z"
    }
   },
   "outputs": [],
   "source": [
    "# Now let's calculate accuracy sensitivity and specificity for various probability cutoffs.\n",
    "cutoff_df = pd.DataFrame( columns = ['prob','accuracy','sensi','speci'])\n",
    "from sklearn.metrics import confusion_matrix\n",
    "\n",
    "# TP = confusion[1,1] # true positive \n",
    "# TN = confusion[0,0] # true negatives\n",
    "# FP = confusion[0,1] # false positives\n",
    "# FN = confusion[1,0] # false negatives\n",
    "\n",
    "num = [0.0,0.1,0.2,0.3,0.4,0.5,0.6,0.7,0.8,0.9]\n",
    "for i in num:\n",
    "    cm1 = metrics.confusion_matrix(y_train_pred_final.Converted, y_train_pred_final[i] )\n",
    "    total1=sum(sum(cm1))\n",
    "    accuracy = (cm1[0,0]+cm1[1,1])/total1\n",
    "    \n",
    "    speci = cm1[0,0]/(cm1[0,0]+cm1[0,1])\n",
    "    sensi = cm1[1,1]/(cm1[1,0]+cm1[1,1])\n",
    "    cutoff_df.loc[i] =[ i ,accuracy,sensi,speci]\n",
    "print(cutoff_df)"
   ]
  },
  {
   "cell_type": "code",
   "execution_count": null,
   "id": "9bf052ba",
   "metadata": {
    "ExecuteTime": {
     "end_time": "2022-01-31T20:20:14.088504Z",
     "start_time": "2022-01-31T20:18:56.491Z"
    }
   },
   "outputs": [],
   "source": [
    "# Let's plot accuracy sensitivity and specificity for various probabilities.\n",
    "cutoff_df.plot.line(x='prob', y=['accuracy','sensi','speci'])\n",
    "plt.show()"
   ]
  },
  {
   "cell_type": "markdown",
   "id": "26b67568",
   "metadata": {},
   "source": [
    "## `0.43` is the optimal cut-off point based on the intersection values in above curve"
   ]
  },
  {
   "cell_type": "code",
   "execution_count": null,
   "id": "d1926796",
   "metadata": {
    "ExecuteTime": {
     "end_time": "2022-01-31T20:20:14.090503Z",
     "start_time": "2022-01-31T20:18:56.508Z"
    }
   },
   "outputs": [],
   "source": [
    "y_train_pred_final['Final_Predicted'] = y_train_pred_final.Conversion_Prob.map( lambda x: 1 if x > 0.43 else 0)\n",
    "\n",
    "y_train_pred_final.head()"
   ]
  },
  {
   "cell_type": "code",
   "execution_count": null,
   "id": "4e90ad0d",
   "metadata": {
    "ExecuteTime": {
     "end_time": "2022-01-31T20:20:14.094406Z",
     "start_time": "2022-01-31T20:18:56.519Z"
    }
   },
   "outputs": [],
   "source": [
    "# Let's check the overall accuracy.\n",
    "metrics.accuracy_score(y_train_pred_final.Converted, y_train_pred_final.Final_Predicted)"
   ]
  },
  {
   "cell_type": "code",
   "execution_count": null,
   "id": "cb6d51b0",
   "metadata": {
    "ExecuteTime": {
     "end_time": "2022-01-31T20:20:14.097501Z",
     "start_time": "2022-01-31T20:18:56.531Z"
    }
   },
   "outputs": [],
   "source": [
    "confusion2 = metrics.confusion_matrix(y_train_pred_final.Converted, y_train_pred_final.Final_Predicted )\n",
    "confusion2"
   ]
  },
  {
   "cell_type": "code",
   "execution_count": null,
   "id": "5b427e3b",
   "metadata": {
    "ExecuteTime": {
     "end_time": "2022-01-31T20:20:14.100504Z",
     "start_time": "2022-01-31T20:18:56.541Z"
    }
   },
   "outputs": [],
   "source": [
    "TP = confusion2[1,1] # true positive \n",
    "TN = confusion2[0,0] # true negatives\n",
    "FP = confusion2[0,1] # false positives\n",
    "FN = confusion2[1,0] # false negatives"
   ]
  },
  {
   "cell_type": "code",
   "execution_count": null,
   "id": "59f4c1ec",
   "metadata": {
    "ExecuteTime": {
     "end_time": "2022-01-31T20:20:14.103501Z",
     "start_time": "2022-01-31T20:18:56.553Z"
    }
   },
   "outputs": [],
   "source": [
    "# Let's see the sensitivity of our logistic regression model\n",
    "TP / float(TP+FN)"
   ]
  },
  {
   "cell_type": "code",
   "execution_count": null,
   "id": "0c10b00d",
   "metadata": {
    "ExecuteTime": {
     "end_time": "2022-01-31T20:20:14.106592Z",
     "start_time": "2022-01-31T20:18:56.564Z"
    }
   },
   "outputs": [],
   "source": [
    "# Let us calculate specificity\n",
    "TN / float(TN+FP)"
   ]
  },
  {
   "cell_type": "code",
   "execution_count": null,
   "id": "7876c4fe",
   "metadata": {
    "ExecuteTime": {
     "end_time": "2022-01-31T20:20:14.109504Z",
     "start_time": "2022-01-31T20:18:56.574Z"
    }
   },
   "outputs": [],
   "source": [
    "# Calculate false postive rate - predicting churn when customer does not have churned\n",
    "print(FP/ float(TN+FP))"
   ]
  },
  {
   "cell_type": "code",
   "execution_count": null,
   "id": "72527e6e",
   "metadata": {
    "ExecuteTime": {
     "end_time": "2022-01-31T20:20:14.111503Z",
     "start_time": "2022-01-31T20:18:56.584Z"
    }
   },
   "outputs": [],
   "source": [
    "# Positive predictive value \n",
    "print (TP / float(TP+FP))"
   ]
  },
  {
   "cell_type": "code",
   "execution_count": null,
   "id": "04dd7c6b",
   "metadata": {
    "ExecuteTime": {
     "end_time": "2022-01-31T20:20:14.114503Z",
     "start_time": "2022-01-31T20:18:56.594Z"
    }
   },
   "outputs": [],
   "source": [
    "# Negative predictive value\n",
    "print (TN / float(TN+ FN))"
   ]
  },
  {
   "cell_type": "markdown",
   "id": "91949f5b",
   "metadata": {},
   "source": [
    "## Precision and Recall"
   ]
  },
  {
   "cell_type": "code",
   "execution_count": null,
   "id": "9a718d1c",
   "metadata": {
    "ExecuteTime": {
     "end_time": "2022-01-31T20:20:14.117507Z",
     "start_time": "2022-01-31T20:18:56.604Z"
    }
   },
   "outputs": [],
   "source": [
    "# Creating a confusion matrix\n",
    "conf = metrics.confusion_matrix(y_train_pred_final.Converted, y_train_pred_final.Predicted )\n",
    "conf"
   ]
  },
  {
   "cell_type": "code",
   "execution_count": null,
   "id": "9fdd2767",
   "metadata": {
    "ExecuteTime": {
     "end_time": "2022-01-31T20:20:14.120506Z",
     "start_time": "2022-01-31T20:18:56.612Z"
    }
   },
   "outputs": [],
   "source": [
    "# Precision\n",
    "confusion[1,1]/(confusion[0,1]+confusion[1,1])"
   ]
  },
  {
   "cell_type": "code",
   "execution_count": null,
   "id": "5c1bc0b6",
   "metadata": {
    "ExecuteTime": {
     "end_time": "2022-01-31T20:20:14.123505Z",
     "start_time": "2022-01-31T20:18:56.622Z"
    }
   },
   "outputs": [],
   "source": [
    "# Recall\n",
    "confusion[1,1]/(confusion[1,0]+confusion[1,1])"
   ]
  },
  {
   "cell_type": "markdown",
   "id": "e5b194e7",
   "metadata": {},
   "source": [
    "## Precision and Recall trade-off"
   ]
  },
  {
   "cell_type": "code",
   "execution_count": null,
   "id": "486149ff",
   "metadata": {
    "ExecuteTime": {
     "end_time": "2022-01-31T20:20:14.126502Z",
     "start_time": "2022-01-31T20:18:56.633Z"
    }
   },
   "outputs": [],
   "source": [
    "# Import precision_recall_curve from sklearn\n",
    "from sklearn.metrics import precision_recall_curve"
   ]
  },
  {
   "cell_type": "code",
   "execution_count": null,
   "id": "1e8ee7a7",
   "metadata": {
    "ExecuteTime": {
     "end_time": "2022-01-31T20:20:14.128504Z",
     "start_time": "2022-01-31T20:18:56.644Z"
    }
   },
   "outputs": [],
   "source": [
    "p, r, thresholds = precision_recall_curve(y_train_pred_final.Converted, y_train_pred_final.Conversion_Prob)"
   ]
  },
  {
   "cell_type": "code",
   "execution_count": null,
   "id": "cedc8915",
   "metadata": {
    "ExecuteTime": {
     "end_time": "2022-01-31T20:20:14.128504Z",
     "start_time": "2022-01-31T20:18:56.653Z"
    },
    "scrolled": true
   },
   "outputs": [],
   "source": [
    "plt.plot(thresholds, p[:-1], \"g-\")\n",
    "plt.plot(thresholds, r[:-1], \"r-\")\n",
    "plt.show()"
   ]
  },
  {
   "cell_type": "markdown",
   "id": "5d493a47",
   "metadata": {},
   "source": [
    "Even with Precision and Recall, we get the optimal cut-off at `0.43`"
   ]
  },
  {
   "cell_type": "markdown",
   "id": "f9a4dec2",
   "metadata": {},
   "source": [
    "## Making Predictions on the test set"
   ]
  },
  {
   "cell_type": "code",
   "execution_count": null,
   "id": "afffd6b2",
   "metadata": {
    "ExecuteTime": {
     "end_time": "2022-01-31T20:20:14.128504Z",
     "start_time": "2022-01-31T20:18:56.669Z"
    }
   },
   "outputs": [],
   "source": [
    "X_test = X_test[col]\n",
    "X_test.head()"
   ]
  },
  {
   "cell_type": "code",
   "execution_count": null,
   "id": "3b331c0f",
   "metadata": {
    "ExecuteTime": {
     "end_time": "2022-01-31T20:20:14.128504Z",
     "start_time": "2022-01-31T20:18:56.679Z"
    }
   },
   "outputs": [],
   "source": [
    "# Adding intercept to the test set\n",
    "X_test_sm = sm.add_constant(X_test)"
   ]
  },
  {
   "cell_type": "code",
   "execution_count": null,
   "id": "6b6c3d52",
   "metadata": {
    "ExecuteTime": {
     "end_time": "2022-01-31T20:20:14.128504Z",
     "start_time": "2022-01-31T20:18:56.688Z"
    }
   },
   "outputs": [],
   "source": [
    "y_test_pred = res.predict(X_test_sm)"
   ]
  },
  {
   "cell_type": "code",
   "execution_count": null,
   "id": "5f9350b3",
   "metadata": {
    "ExecuteTime": {
     "end_time": "2022-01-31T20:20:14.143810Z",
     "start_time": "2022-01-31T20:18:56.697Z"
    }
   },
   "outputs": [],
   "source": [
    "y_test_pred[:10]"
   ]
  },
  {
   "cell_type": "code",
   "execution_count": null,
   "id": "10c08657",
   "metadata": {
    "ExecuteTime": {
     "end_time": "2022-01-31T20:20:14.144808Z",
     "start_time": "2022-01-31T20:18:56.709Z"
    }
   },
   "outputs": [],
   "source": [
    "# Converting y_pred to a dataframe which is an array\n",
    "y_pred_1 = pd.DataFrame(y_test_pred)"
   ]
  },
  {
   "cell_type": "code",
   "execution_count": null,
   "id": "66772def",
   "metadata": {
    "ExecuteTime": {
     "end_time": "2022-01-31T20:20:14.144808Z",
     "start_time": "2022-01-31T20:18:56.720Z"
    }
   },
   "outputs": [],
   "source": [
    "# Let's see the head\n",
    "y_pred_1.head()"
   ]
  },
  {
   "cell_type": "code",
   "execution_count": null,
   "id": "50078ae1",
   "metadata": {
    "ExecuteTime": {
     "end_time": "2022-01-31T20:20:14.144808Z",
     "start_time": "2022-01-31T20:18:56.730Z"
    }
   },
   "outputs": [],
   "source": [
    "# Converting y_test to dataframe\n",
    "y_test_df = pd.DataFrame(y_test)"
   ]
  },
  {
   "cell_type": "code",
   "execution_count": null,
   "id": "a777c49c",
   "metadata": {
    "ExecuteTime": {
     "end_time": "2022-01-31T20:20:14.144808Z",
     "start_time": "2022-01-31T20:18:56.740Z"
    }
   },
   "outputs": [],
   "source": [
    "# Removing index for both dataframes to append them side by side \n",
    "y_pred_1.reset_index(drop=True, inplace=True)\n",
    "y_test_df.reset_index(drop=True, inplace=True)"
   ]
  },
  {
   "cell_type": "code",
   "execution_count": null,
   "id": "6e8efe55",
   "metadata": {
    "ExecuteTime": {
     "end_time": "2022-01-31T20:20:14.144808Z",
     "start_time": "2022-01-31T20:18:56.751Z"
    }
   },
   "outputs": [],
   "source": [
    "# Appending y_test_df and y_pred_1\n",
    "y_pred_final = pd.concat([y_test_df, y_pred_1],axis=1)"
   ]
  },
  {
   "cell_type": "code",
   "execution_count": null,
   "id": "bca22a7c",
   "metadata": {
    "ExecuteTime": {
     "end_time": "2022-01-31T20:20:14.162267Z",
     "start_time": "2022-01-31T20:18:56.761Z"
    }
   },
   "outputs": [],
   "source": [
    "y_pred_final.head()"
   ]
  },
  {
   "cell_type": "code",
   "execution_count": null,
   "id": "0c9495e4",
   "metadata": {
    "ExecuteTime": {
     "end_time": "2022-01-31T20:20:14.165466Z",
     "start_time": "2022-01-31T20:18:56.771Z"
    }
   },
   "outputs": [],
   "source": [
    "# Renaming the column \n",
    "y_pred_final= y_pred_final.rename(columns={ 0 : 'Conversion_Prob'})\n",
    "\n",
    "y_pred_final.head()"
   ]
  },
  {
   "cell_type": "code",
   "execution_count": null,
   "id": "6d768d60",
   "metadata": {
    "ExecuteTime": {
     "end_time": "2022-01-31T20:20:14.168467Z",
     "start_time": "2022-01-31T20:18:56.782Z"
    }
   },
   "outputs": [],
   "source": [
    "# As optimal cut-off point is 0.43 (where \"Sensitivity\" and \"Specificity\" intersect)\n",
    "y_pred_final['Final_Predicted'] = y_pred_final.Conversion_Prob.map(lambda x: 1 if x > 0.43 else 0)"
   ]
  },
  {
   "cell_type": "code",
   "execution_count": null,
   "id": "20c763d3",
   "metadata": {
    "ExecuteTime": {
     "end_time": "2022-01-31T20:20:14.172468Z",
     "start_time": "2022-01-31T20:18:56.794Z"
    }
   },
   "outputs": [],
   "source": [
    "y_pred_final.head()"
   ]
  },
  {
   "cell_type": "code",
   "execution_count": null,
   "id": "f09ec06d",
   "metadata": {
    "ExecuteTime": {
     "end_time": "2022-01-31T20:20:14.174468Z",
     "start_time": "2022-01-31T20:18:56.806Z"
    }
   },
   "outputs": [],
   "source": [
    "# Let's check the overall accuracy.\n",
    "metrics.accuracy_score(y_pred_final.Converted, y_pred_final.Final_Predicted)"
   ]
  },
  {
   "cell_type": "code",
   "execution_count": null,
   "id": "775c21eb",
   "metadata": {
    "ExecuteTime": {
     "end_time": "2022-01-31T20:20:14.178524Z",
     "start_time": "2022-01-31T20:18:56.821Z"
    }
   },
   "outputs": [],
   "source": [
    "confusion2 = metrics.confusion_matrix(y_pred_final.Converted, y_pred_final.Final_Predicted )\n",
    "confusion2"
   ]
  },
  {
   "cell_type": "code",
   "execution_count": null,
   "id": "c4af442c",
   "metadata": {
    "ExecuteTime": {
     "end_time": "2022-01-31T20:20:14.181464Z",
     "start_time": "2022-01-31T20:18:56.835Z"
    }
   },
   "outputs": [],
   "source": [
    "TP = confusion2[1,1] # true positive \n",
    "TN = confusion2[0,0] # true negatives\n",
    "FP = confusion2[0,1] # false positives\n",
    "FN = confusion2[1,0] # false negatives"
   ]
  },
  {
   "cell_type": "code",
   "execution_count": null,
   "id": "a4b1fbe1",
   "metadata": {
    "ExecuteTime": {
     "end_time": "2022-01-31T20:20:14.184465Z",
     "start_time": "2022-01-31T20:18:56.852Z"
    }
   },
   "outputs": [],
   "source": [
    "# Let's see the sensitivity of our logistic regression model\n",
    "TP / float(TP+FN)"
   ]
  },
  {
   "cell_type": "code",
   "execution_count": null,
   "id": "b678dc6a",
   "metadata": {
    "ExecuteTime": {
     "end_time": "2022-01-31T20:20:14.186583Z",
     "start_time": "2022-01-31T20:18:56.867Z"
    }
   },
   "outputs": [],
   "source": [
    "# Let us calculate specificity\n",
    "TN / float(TN+FP)"
   ]
  },
  {
   "cell_type": "markdown",
   "id": "ebe21a12",
   "metadata": {},
   "source": [
    "# Model Performance"
   ]
  },
  {
   "cell_type": "markdown",
   "id": "0f4cc66d",
   "metadata": {},
   "source": [
    "| Train/Test | Accuracy | Sensitivity | Specificity |\n",
    "| --- | --- | --- | --- |\n",
    "| Train | 0.7895  | 0.7854 | 0.7932 | \n",
    "| Test  | 0.7850  | 0.7751 | 0.7941 |"
   ]
  },
  {
   "cell_type": "markdown",
   "id": "08b62b84",
   "metadata": {},
   "source": [
    "# Calculating Lead Score"
   ]
  },
  {
   "cell_type": "code",
   "execution_count": null,
   "id": "fbd720d7",
   "metadata": {
    "ExecuteTime": {
     "end_time": "2022-01-31T20:20:14.190466Z",
     "start_time": "2022-01-31T20:18:56.888Z"
    }
   },
   "outputs": [],
   "source": [
    "y_pred_final['Lead Score'] = y_pred_final['Conversion_Prob'].apply(lambda x: round(x*100, 1))"
   ]
  },
  {
   "cell_type": "code",
   "execution_count": null,
   "id": "d2d23d34",
   "metadata": {
    "ExecuteTime": {
     "end_time": "2022-01-31T20:20:14.193467Z",
     "start_time": "2022-01-31T20:18:56.901Z"
    }
   },
   "outputs": [],
   "source": [
    "y_pred_final.head(20)"
   ]
  },
  {
   "cell_type": "markdown",
   "id": "db3f5cfe",
   "metadata": {},
   "source": [
    "The above table contains the lead score which can be used by the company to target potential leads. A higher score would mean that the lead is hot, i.e. is most likely to convert whereas a lower score would mean that the lead is cold and will mostly not get converted"
   ]
  }
 ],
 "metadata": {
  "kernelspec": {
   "display_name": "Python 3",
   "language": "python",
   "name": "python3"
  },
  "language_info": {
   "codemirror_mode": {
    "name": "ipython",
    "version": 3
   },
   "file_extension": ".py",
   "mimetype": "text/x-python",
   "name": "python",
   "nbconvert_exporter": "python",
   "pygments_lexer": "ipython3",
   "version": "3.8.8"
  },
  "toc": {
   "base_numbering": 1,
   "nav_menu": {},
   "number_sections": true,
   "sideBar": true,
   "skip_h1_title": false,
   "title_cell": "Table of Contents",
   "title_sidebar": "Contents",
   "toc_cell": false,
   "toc_position": {
    "height": "calc(100% - 180px)",
    "left": "10px",
    "top": "150px",
    "width": "448px"
   },
   "toc_section_display": true,
   "toc_window_display": true
  }
 },
 "nbformat": 4,
 "nbformat_minor": 5
}
